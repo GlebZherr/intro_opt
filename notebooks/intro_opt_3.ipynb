{
  "nbformat": 4,
  "nbformat_minor": 0,
  "metadata": {
    "colab": {
      "name": "intro_opt_3.ipynb",
      "provenance": [],
      "collapsed_sections": []
    },
    "kernelspec": {
      "name": "python3",
      "display_name": "Python 3"
    }
  },
  "cells": [
    {
      "cell_type": "code",
      "metadata": {
        "colab": {
          "base_uri": "https://localhost:8080/"
        },
        "id": "EZorHwg0ivJj",
        "outputId": "918fbd58-890e-4928-c147-7b7bb588c207"
      },
      "source": [
        "# Installation\r\n",
        "!pip install nevergrad\r\n",
        "!pip install pyproj\r\n",
        "!pip install mixsimulator"
      ],
      "execution_count": null,
      "outputs": [
        {
          "output_type": "stream",
          "text": [
            "Requirement already satisfied: nevergrad in /usr/local/lib/python3.6/dist-packages (0.4.2.post5)\n",
            "Requirement already satisfied: cma>=2.6.0 in /usr/local/lib/python3.6/dist-packages (from nevergrad) (3.0.3)\n",
            "Requirement already satisfied: bayesian-optimization>=1.2.0 in /usr/local/lib/python3.6/dist-packages (from nevergrad) (1.2.0)\n",
            "Requirement already satisfied: typing-extensions>=3.6.6 in /usr/local/lib/python3.6/dist-packages (from nevergrad) (3.7.4.3)\n",
            "Requirement already satisfied: numpy>=1.15.0 in /usr/local/lib/python3.6/dist-packages (from nevergrad) (1.19.5)\n",
            "Requirement already satisfied: scipy>=0.14.0 in /usr/local/lib/python3.6/dist-packages (from bayesian-optimization>=1.2.0->nevergrad) (1.4.1)\n",
            "Requirement already satisfied: scikit-learn>=0.18.0 in /usr/local/lib/python3.6/dist-packages (from bayesian-optimization>=1.2.0->nevergrad) (0.22.2.post1)\n",
            "Requirement already satisfied: joblib>=0.11 in /usr/local/lib/python3.6/dist-packages (from scikit-learn>=0.18.0->bayesian-optimization>=1.2.0->nevergrad) (1.0.0)\n",
            "Requirement already satisfied: pyproj in /usr/local/lib/python3.6/dist-packages (3.0.0.post1)\n",
            "Requirement already satisfied: certifi in /usr/local/lib/python3.6/dist-packages (from pyproj) (2020.12.5)\n",
            "Collecting mixsimulator\n",
            "  Downloading https://files.pythonhosted.org/packages/5e/8c/de0af1b9014bd620b8d49b9eaace7919b03117122dec78f364df068af6dc/mixsimulator-0.2.9.9-py3-none-any.whl\n",
            "Installing collected packages: mixsimulator\n",
            "Successfully installed mixsimulator-0.2.9.9\n"
          ],
          "name": "stdout"
        }
      ]
    },
    {
      "cell_type": "markdown",
      "metadata": {
        "id": "-HWNgGOGaRXk"
      },
      "source": [
        "# Examples"
      ]
    },
    {
      "cell_type": "markdown",
      "metadata": {
        "id": "Yq71nTcFaJaW"
      },
      "source": [
        "## Nevergrad"
      ]
    },
    {
      "cell_type": "code",
      "metadata": {
        "colab": {
          "base_uri": "https://localhost:8080/"
        },
        "id": "4vmue4llZ-4R",
        "outputId": "9caf4be8-8202-4074-86c2-73976a9bf9a9"
      },
      "source": [
        "# Simplest example of minimization\r\n",
        "import nevergrad as ng\r\n",
        "\r\n",
        "def square(x):\r\n",
        "    return sum((x - 0.5) ** 2)\r\n",
        "\r\n",
        "# optimization on x as an array of shape (2,)\r\n",
        "optimizer = ng.optimizers.OnePlusOne(parametrization=2, budget=100)\r\n",
        "recommendation = optimizer.minimize(square)  # best value\r\n",
        "print(recommendation.value)"
      ],
      "execution_count": null,
      "outputs": [
        {
          "output_type": "stream",
          "text": [
            "[0.50007894 0.49854316]\n"
          ],
          "name": "stdout"
        }
      ]
    },
    {
      "cell_type": "code",
      "metadata": {
        "colab": {
          "base_uri": "https://localhost:8080/"
        },
        "id": "tPVot2tAi83w",
        "outputId": "ad2785cc-14d1-4ba2-f604-47bcffe69bbc"
      },
      "source": [
        "import nevergrad as ng\r\n",
        "print(f'🤖 The list of optimizers in nevergrad library: \\n{sorted(ng.optimizers.registry.keys())}')"
      ],
      "execution_count": null,
      "outputs": [
        {
          "output_type": "stream",
          "text": [
            "['ASCMA2PDEthird', 'ASCMADEQRthird', 'ASCMADEthird', 'AdaptiveDiscreteOnePlusOne', 'AlmostRotationInvariantDE', 'AnisotropicAdaptiveDiscreteOnePlusOne', 'AvgMetaRecenteringNoHull', 'BO', 'CM', 'CMA', 'CMandAS', 'CMandAS2', 'CMandAS3', 'CauchyLHSSearch', 'CauchyOnePlusOne', 'CauchyScrHammersleySearch', 'Cobyla', 'DE', 'DiagonalCMA', 'DiscreteBSOOnePlusOne', 'DiscreteDoerrOnePlusOne', 'DiscreteLenglerOnePlusOne', 'DiscreteOnePlusOne', 'DoubleFastGADiscreteOnePlusOne', 'EDA', 'ES', 'FCMA', 'HAvgMetaRecentering', 'HaltonSearch', 'HaltonSearchPlusMiddlePoint', 'HammersleySearch', 'HammersleySearchPlusMiddlePoint', 'HyperOpt', 'LHSSearch', 'LargeHaltonSearch', 'LhsDE', 'MEDA', 'MPCEDA', 'ManyCMA', 'ManySmallCMA', 'MetaModel', 'MetaRecentering', 'MetaTuneRecentering', 'MixES', 'MultiCMA', 'MultiDiscrete', 'MultiScaleCMA', 'MutDE', 'NGO', 'NGOpt', 'NGOpt2', 'NGOpt4', 'NGOpt8', 'NGOptBase', 'NSGAIIES', 'NaiveIsoEMNA', 'NaiveTBPSA', 'NelderMead', 'NoisyBandit', 'NoisyDE', 'NoisyDiscreteOnePlusOne', 'NoisyOnePlusOne', 'ORandomSearch', 'OScrHammersleySearch', 'OnePlusOne', 'OptimisticDiscreteOnePlusOne', 'OptimisticNoisyOnePlusOne', 'PCEDA', 'PSO', 'ParaPortfolio', 'PolyCMA', 'Portfolio', 'Powell', 'QORandomSearch', 'QOScrHammersleySearch', 'QrDE', 'RCobyla', 'RPowell', 'RSQP', 'RandomSearch', 'RandomSearchPlusMiddlePoint', 'RealSpacePSO', 'RecES', 'RecMixES', 'RecMutDE', 'RecombiningPortfolioOptimisticNoisyDiscreteOnePlusOne', 'RescaledCMA', 'RotationInvariantDE', 'SPSA', 'SQP', 'SQPCMA', 'ScrHaltonSearch', 'ScrHaltonSearchPlusMiddlePoint', 'ScrHammersleySearch', 'ScrHammersleySearchPlusMiddlePoint', 'Shiwa', 'TBPSA', 'TripleCMA', 'TwoPointsDE', 'cGA', 'chainCMAPowell', 'chainDiagonalCMAPowell', 'chainMetaModelPowell', 'chainMetaModelSQP', 'chainNaiveTBPSACMAPowell', 'chainNaiveTBPSAPowell']\n"
          ],
          "name": "stdout"
        }
      ]
    },
    {
      "cell_type": "markdown",
      "metadata": {
        "id": "NlfGKYR2j9NB"
      },
      "source": [
        "Let's consider function of several variables of different types"
      ]
    },
    {
      "cell_type": "code",
      "metadata": {
        "colab": {
          "base_uri": "https://localhost:8080/"
        },
        "id": "krMjOJGej59M",
        "outputId": "301d4de6-a257-4c33-c37a-2b9cb3cc1a16"
      },
      "source": [
        "import nevergrad as ng\r\n",
        "\r\n",
        "def square(x, y=12):\r\n",
        "    return sum((x - 0.5) ** 2) + abs(y)\r\n",
        "\r\n",
        "# optimization on x as an array of shape (2,)\r\n",
        "optimizer = ng.optimizers.OnePlusOne(parametrization=2, budget=100)\r\n",
        "recommendation = optimizer.minimize(square)  # best value\r\n",
        "print(recommendation.value)"
      ],
      "execution_count": null,
      "outputs": [
        {
          "output_type": "stream",
          "text": [
            "[0.50016658 0.499733  ]\n"
          ],
          "name": "stdout"
        }
      ]
    },
    {
      "cell_type": "code",
      "metadata": {
        "colab": {
          "base_uri": "https://localhost:8080/"
        },
        "id": "af4YvOF4kGB7",
        "outputId": "16de7b63-0ffa-43e1-b8cb-75430872ae65"
      },
      "source": [
        "instrum = ng.p.Instrumentation(ng.p.Array(shape=(2,)), y=ng.p.Scalar())\r\n",
        "optimizer = ng.optimizers.OnePlusOne(parametrization=instrum, budget=100)\r\n",
        "recommendation = optimizer.minimize(square)\r\n",
        "print(recommendation.value)"
      ],
      "execution_count": null,
      "outputs": [
        {
          "output_type": "stream",
          "text": [
            "((array([0.55303943, 0.41830154]),), {'y': -0.0004155670028914804})\n"
          ],
          "name": "stdout"
        }
      ]
    },
    {
      "cell_type": "code",
      "metadata": {
        "colab": {
          "base_uri": "https://localhost:8080/"
        },
        "id": "Yy0xFFSfk9YI",
        "outputId": "4914bc1a-f5ad-473c-de4e-8e91d28e4f49"
      },
      "source": [
        "def square(vars):\r\n",
        "    return sum((vars[:-1] - 0.5) ** 2) + abs(vars[-1])\r\n",
        "\r\n",
        "optimizer = ng.optimizers.OnePlusOne(parametrization=3, budget=100)\r\n",
        "# optimizer = ng.optimizers.OnePlusOne(parametrization=instrum, budget=100)\r\n",
        "recommendation = optimizer.minimize(square)\r\n",
        "print(recommendation.value)"
      ],
      "execution_count": null,
      "outputs": [
        {
          "output_type": "stream",
          "text": [
            "[ 4.59289713e-01  5.01061234e-01 -1.88335731e-04]\n"
          ],
          "name": "stdout"
        }
      ]
    },
    {
      "cell_type": "code",
      "metadata": {
        "colab": {
          "base_uri": "https://localhost:8080/"
        },
        "id": "9qQeubt5ovxo",
        "outputId": "00e57d32-8fa9-405b-8bec-d55306c9bbbc"
      },
      "source": [
        "import nevergrad as ng\r\n",
        "\r\n",
        "def my_function(x):\r\n",
        "    return abs(sum(x - 1))\r\n",
        "\r\n",
        "def print_candidate_and_value(optimizer, candidate, value):\r\n",
        "    print(f'Candidate: {candidate}, Value: {value}')\r\n",
        "\r\n",
        "optimizer = ng.optimizers.OnePlusOne(parametrization=2, budget=4)\r\n",
        "optimizer.register_callback(\"tell\", print_candidate_and_value)\r\n",
        "optimizer.minimize(my_function)  # triggers a print at each tell within minimize"
      ],
      "execution_count": null,
      "outputs": [
        {
          "output_type": "stream",
          "text": [
            "Candidate: Array{(2,)}:[0. 0.], Value: 2.0\n",
            "Candidate: Array{(2,)}:[-0.18247207  2.67349699], Value: 0.4910249240882243\n",
            "Candidate: Array{(2,)}:[-0.54063735 -0.141925  ], Value: 2.682562350446311\n",
            "Candidate: Array{(2,)}:[-0.97606428  6.40214891], Value: 3.4260846305552595\n"
          ],
          "name": "stdout"
        },
        {
          "output_type": "execute_result",
          "data": {
            "text/plain": [
              "Array{(2,)}:[-0.18247207  2.67349699]"
            ]
          },
          "metadata": {
            "tags": []
          },
          "execution_count": 16
        }
      ]
    },
    {
      "cell_type": "code",
      "metadata": {
        "id": "e_PC0Kmr4WLy"
      },
      "source": [
        "# BE CAREFUL, IT TAKES TIME!!!\r\n",
        "!python -m nevergrad.benchmark doe --seed=12 --repetitions=1 --num_workers=4 --plot "
      ],
      "execution_count": null,
      "outputs": []
    },
    {
      "cell_type": "markdown",
      "metadata": {
        "id": "5EUZysYqaMCQ"
      },
      "source": [
        "## [Optuna](https://colab.research.google.com/github/optuna/optuna/blob/master/examples/quickstart.ipynb)\r\n",
        "\r\n",
        "# A Quick Introduction to Optuna\r\n",
        "\r\n",
        "This Jupyter notebook goes through the basic usage of Optuna.\r\n",
        "\r\n",
        "- Install Optuna\r\n",
        "- Write a training algorithm that involves hyperparameters\r\n",
        "  - Read train/valid data\r\n",
        "  - Define and train model\r\n",
        "  - Evaluate model\r\n",
        "- Use Optuna to tune the hyperparameters (hyperparameter optimization, HPO)\r\n",
        "- Visualize HPO"
      ]
    },
    {
      "cell_type": "markdown",
      "metadata": {
        "id": "iKzZlM51aNzN"
      },
      "source": [
        "### Install `optuna`\r\n",
        "\r\n",
        "Optuna can be installed via `pip` or `conda`."
      ]
    },
    {
      "cell_type": "code",
      "metadata": {
        "colab": {
          "base_uri": "https://localhost:8080/"
        },
        "id": "5W24Cp7Zaa5G",
        "outputId": "e9fde713-d9a4-4345-d560-be2244c514d0"
      },
      "source": [
        "!pip install --quiet optuna"
      ],
      "execution_count": null,
      "outputs": [
        {
          "output_type": "stream",
          "text": [
            "\u001b[K     |████████████████████████████████| 286kB 5.3MB/s \n",
            "\u001b[K     |████████████████████████████████| 163kB 7.0MB/s \n",
            "\u001b[K     |████████████████████████████████| 81kB 4.8MB/s \n",
            "\u001b[K     |████████████████████████████████| 481kB 6.8MB/s \n",
            "\u001b[K     |████████████████████████████████| 133kB 11.8MB/s \n",
            "\u001b[K     |████████████████████████████████| 51kB 4.3MB/s \n",
            "\u001b[K     |████████████████████████████████| 112kB 14.0MB/s \n",
            "\u001b[?25h  Building wheel for Mako (setup.py) ... \u001b[?25l\u001b[?25hdone\n",
            "  Building wheel for PrettyTable (setup.py) ... \u001b[?25l\u001b[?25hdone\n",
            "  Building wheel for pyperclip (setup.py) ... \u001b[?25l\u001b[?25hdone\n"
          ],
          "name": "stdout"
        }
      ]
    },
    {
      "cell_type": "code",
      "metadata": {
        "colab": {
          "base_uri": "https://localhost:8080/",
          "height": 35
        },
        "id": "IhZfCBUPac89",
        "outputId": "a60f49c3-4a0f-49b5-f75e-2c273cda52d1"
      },
      "source": [
        "import optuna\r\n",
        "\r\n",
        "optuna.__version__"
      ],
      "execution_count": null,
      "outputs": [
        {
          "output_type": "execute_result",
          "data": {
            "application/vnd.google.colaboratory.intrinsic+json": {
              "type": "string"
            },
            "text/plain": [
              "'2.4.0'"
            ]
          },
          "metadata": {
            "tags": []
          },
          "execution_count": 21
        }
      ]
    },
    {
      "cell_type": "markdown",
      "metadata": {
        "id": "oAgjUoEHanJt"
      },
      "source": [
        "### Optimize Hyperparameters\r\n",
        "\r\n",
        "#### Define a simple scikit-learn model\r\n",
        "\r\n",
        "We start with a simple random forest model to classify flowers in the Iris dataset. We define a function called `objective` that encapsulates the whole training process and outputs the accuracy of the model."
      ]
    },
    {
      "cell_type": "code",
      "metadata": {
        "colab": {
          "base_uri": "https://localhost:8080/"
        },
        "id": "XLdf42stath2",
        "outputId": "60243d57-6e72-49b3-893a-317fd28c1bb6"
      },
      "source": [
        "import sklearn.datasets\r\n",
        "import sklearn.ensemble\r\n",
        "import sklearn.model_selection\r\n",
        "\r\n",
        "def objective():\r\n",
        "    iris = sklearn.datasets.load_iris()  # Prepare the data.\r\n",
        "    \r\n",
        "    clf = sklearn.ensemble.RandomForestClassifier(    \r\n",
        "        n_estimators=5, max_depth=3)  # Define the model.\r\n",
        "    \r\n",
        "    return sklearn.model_selection.cross_val_score(\r\n",
        "        clf, iris.data, iris.target, n_jobs=-1, cv=3).mean()  # Train and evaluate the model.\r\n",
        "\r\n",
        "print('Accuracy: {}'.format(objective()))"
      ],
      "execution_count": null,
      "outputs": [
        {
          "output_type": "stream",
          "text": [
            "Accuracy: 0.96\n"
          ],
          "name": "stdout"
        }
      ]
    },
    {
      "cell_type": "markdown",
      "metadata": {
        "id": "FqS1ZIviavv6"
      },
      "source": [
        "#### Optimize hyperparameters of the model\r\n",
        "\r\n",
        "The hyperparameters of the above algorithm are `n_estimators` and `max_depth` for which we can try different values to see if the model accuracy can be improved. The `objective` function is modified to accept a trial object. This trial has several methods for sampling hyperparameters. We create a study to run the hyperparameter optimization and finally read the best hyperparameters."
      ]
    },
    {
      "cell_type": "code",
      "metadata": {
        "colab": {
          "base_uri": "https://localhost:8080/"
        },
        "id": "pFojbEZHa0WH",
        "outputId": "c985b810-3755-4727-e35c-9022d5c1af85"
      },
      "source": [
        "import optuna\r\n",
        "\r\n",
        "def objective(trial):\r\n",
        "    iris = sklearn.datasets.load_iris()\r\n",
        "    \r\n",
        "    n_estimators = trial.suggest_int('n_estimators', 2, 20)\r\n",
        "    max_depth = int(trial.suggest_float('max_depth', 1, 32, log=True))\r\n",
        "    \r\n",
        "    clf = sklearn.ensemble.RandomForestClassifier(\r\n",
        "        n_estimators=n_estimators, max_depth=max_depth)\r\n",
        "    \r\n",
        "    return sklearn.model_selection.cross_val_score(\r\n",
        "        clf, iris.data, iris.target, n_jobs=-1, cv=3).mean()\r\n",
        "\r\n",
        "study = optuna.create_study(direction='maximize')\r\n",
        "study.optimize(objective, n_trials=100)\r\n",
        "\r\n",
        "trial = study.best_trial\r\n",
        "\r\n",
        "print('Accuracy: {}'.format(trial.value))\r\n",
        "print(\"Best hyperparameters: {}\".format(trial.params))"
      ],
      "execution_count": null,
      "outputs": [
        {
          "output_type": "stream",
          "text": [
            "\u001b[32m[I 2021-01-19 20:52:12,402]\u001b[0m A new study created in memory with name: no-name-9e33d9b3-c470-45dd-9456-34e8b1971c36\u001b[0m\n",
            "\u001b[32m[I 2021-01-19 20:52:12,481]\u001b[0m Trial 0 finished with value: 0.9533333333333333 and parameters: {'n_estimators': 16, 'max_depth': 3.5948720255127977}. Best is trial 0 with value: 0.9533333333333333.\u001b[0m\n",
            "\u001b[32m[I 2021-01-19 20:52:12,512]\u001b[0m Trial 1 finished with value: 0.94 and parameters: {'n_estimators': 4, 'max_depth': 2.6329200110046247}. Best is trial 0 with value: 0.9533333333333333.\u001b[0m\n",
            "\u001b[32m[I 2021-01-19 20:52:12,565]\u001b[0m Trial 2 finished with value: 0.96 and parameters: {'n_estimators': 10, 'max_depth': 23.185136649609785}. Best is trial 2 with value: 0.96.\u001b[0m\n",
            "\u001b[32m[I 2021-01-19 20:52:12,623]\u001b[0m Trial 3 finished with value: 0.96 and parameters: {'n_estimators': 12, 'max_depth': 9.252616393088807}. Best is trial 2 with value: 0.96.\u001b[0m\n",
            "\u001b[32m[I 2021-01-19 20:52:12,699]\u001b[0m Trial 4 finished with value: 0.9533333333333333 and parameters: {'n_estimators': 16, 'max_depth': 21.563775382629384}. Best is trial 2 with value: 0.96.\u001b[0m\n",
            "\u001b[32m[I 2021-01-19 20:52:12,763]\u001b[0m Trial 5 finished with value: 0.9533333333333333 and parameters: {'n_estimators': 13, 'max_depth': 10.950105541943225}. Best is trial 2 with value: 0.96.\u001b[0m\n",
            "\u001b[32m[I 2021-01-19 20:52:12,812]\u001b[0m Trial 6 finished with value: 0.9666666666666667 and parameters: {'n_estimators': 9, 'max_depth': 3.6091070992252714}. Best is trial 6 with value: 0.9666666666666667.\u001b[0m\n",
            "\u001b[32m[I 2021-01-19 20:52:12,877]\u001b[0m Trial 7 finished with value: 0.9533333333333333 and parameters: {'n_estimators': 14, 'max_depth': 3.7236330374990807}. Best is trial 6 with value: 0.9666666666666667.\u001b[0m\n",
            "\u001b[32m[I 2021-01-19 20:52:12,906]\u001b[0m Trial 8 finished with value: 0.96 and parameters: {'n_estimators': 3, 'max_depth': 9.763274682869481}. Best is trial 6 with value: 0.9666666666666667.\u001b[0m\n",
            "\u001b[32m[I 2021-01-19 20:52:12,957]\u001b[0m Trial 9 finished with value: 0.9466666666666667 and parameters: {'n_estimators': 10, 'max_depth': 1.8031977723723673}. Best is trial 6 with value: 0.9666666666666667.\u001b[0m\n",
            "\u001b[32m[I 2021-01-19 20:52:13,060]\u001b[0m Trial 10 finished with value: 0.8533333333333334 and parameters: {'n_estimators': 20, 'max_depth': 1.393841343283652}. Best is trial 6 with value: 0.9666666666666667.\u001b[0m\n",
            "\u001b[32m[I 2021-01-19 20:52:13,111]\u001b[0m Trial 11 finished with value: 0.9533333333333333 and parameters: {'n_estimators': 8, 'max_depth': 20.912792089261526}. Best is trial 6 with value: 0.9666666666666667.\u001b[0m\n",
            "\u001b[32m[I 2021-01-19 20:52:13,158]\u001b[0m Trial 12 finished with value: 0.9533333333333333 and parameters: {'n_estimators': 7, 'max_depth': 5.632796673821019}. Best is trial 6 with value: 0.9666666666666667.\u001b[0m\n",
            "\u001b[32m[I 2021-01-19 20:52:13,203]\u001b[0m Trial 13 finished with value: 0.9533333333333333 and parameters: {'n_estimators': 7, 'max_depth': 30.730564733398776}. Best is trial 6 with value: 0.9666666666666667.\u001b[0m\n",
            "\u001b[32m[I 2021-01-19 20:52:13,269]\u001b[0m Trial 14 finished with value: 0.7533333333333334 and parameters: {'n_estimators': 10, 'max_depth': 1.045341873072374}. Best is trial 6 with value: 0.9666666666666667.\u001b[0m\n",
            "\u001b[32m[I 2021-01-19 20:52:13,310]\u001b[0m Trial 15 finished with value: 0.9666666666666667 and parameters: {'n_estimators': 5, 'max_depth': 5.8887782128103145}. Best is trial 6 with value: 0.9666666666666667.\u001b[0m\n",
            "\u001b[32m[I 2021-01-19 20:52:13,346]\u001b[0m Trial 16 finished with value: 0.9533333333333333 and parameters: {'n_estimators': 5, 'max_depth': 5.474544469731238}. Best is trial 6 with value: 0.9666666666666667.\u001b[0m\n",
            "\u001b[32m[I 2021-01-19 20:52:13,374]\u001b[0m Trial 17 finished with value: 0.9533333333333333 and parameters: {'n_estimators': 2, 'max_depth': 2.6221877781560448}. Best is trial 6 with value: 0.9666666666666667.\u001b[0m\n",
            "\u001b[32m[I 2021-01-19 20:52:13,426]\u001b[0m Trial 18 finished with value: 0.9533333333333333 and parameters: {'n_estimators': 8, 'max_depth': 7.373571830131894}. Best is trial 6 with value: 0.9666666666666667.\u001b[0m\n",
            "\u001b[32m[I 2021-01-19 20:52:13,467]\u001b[0m Trial 19 finished with value: 0.9666666666666667 and parameters: {'n_estimators': 5, 'max_depth': 13.925952477834612}. Best is trial 6 with value: 0.9666666666666667.\u001b[0m\n",
            "\u001b[32m[I 2021-01-19 20:52:13,505]\u001b[0m Trial 20 finished with value: 0.96 and parameters: {'n_estimators': 5, 'max_depth': 14.517359434762286}. Best is trial 6 with value: 0.9666666666666667.\u001b[0m\n",
            "\u001b[32m[I 2021-01-19 20:52:13,534]\u001b[0m Trial 21 finished with value: 0.9466666666666667 and parameters: {'n_estimators': 2, 'max_depth': 4.103493207655877}. Best is trial 6 with value: 0.9666666666666667.\u001b[0m\n",
            "\u001b[32m[I 2021-01-19 20:52:13,579]\u001b[0m Trial 22 finished with value: 0.96 and parameters: {'n_estimators': 6, 'max_depth': 14.036882143776431}. Best is trial 6 with value: 0.9666666666666667.\u001b[0m\n",
            "\u001b[32m[I 2021-01-19 20:52:13,611]\u001b[0m Trial 23 finished with value: 0.96 and parameters: {'n_estimators': 4, 'max_depth': 6.838936697645187}. Best is trial 6 with value: 0.9666666666666667.\u001b[0m\n",
            "\u001b[32m[I 2021-01-19 20:52:13,662]\u001b[0m Trial 24 finished with value: 0.9533333333333333 and parameters: {'n_estimators': 9, 'max_depth': 2.6556112645588112}. Best is trial 6 with value: 0.9666666666666667.\u001b[0m\n",
            "\u001b[32m[I 2021-01-19 20:52:13,705]\u001b[0m Trial 25 finished with value: 0.96 and parameters: {'n_estimators': 6, 'max_depth': 4.9589783673537235}. Best is trial 6 with value: 0.9666666666666667.\u001b[0m\n",
            "\u001b[32m[I 2021-01-19 20:52:13,735]\u001b[0m Trial 26 finished with value: 0.9466666666666667 and parameters: {'n_estimators': 3, 'max_depth': 1.9492227196567171}. Best is trial 6 with value: 0.9666666666666667.\u001b[0m\n",
            "\u001b[32m[I 2021-01-19 20:52:13,783]\u001b[0m Trial 27 finished with value: 0.9533333333333333 and parameters: {'n_estimators': 7, 'max_depth': 7.51357794970179}. Best is trial 6 with value: 0.9666666666666667.\u001b[0m\n",
            "\u001b[32m[I 2021-01-19 20:52:13,827]\u001b[0m Trial 28 finished with value: 0.9533333333333333 and parameters: {'n_estimators': 5, 'max_depth': 13.433936369091573}. Best is trial 6 with value: 0.9666666666666667.\u001b[0m\n",
            "\u001b[32m[I 2021-01-19 20:52:13,889]\u001b[0m Trial 29 finished with value: 0.9666666666666667 and parameters: {'n_estimators': 11, 'max_depth': 4.262731444255869}. Best is trial 6 with value: 0.9666666666666667.\u001b[0m\n",
            "\u001b[32m[I 2021-01-19 20:52:13,965]\u001b[0m Trial 30 finished with value: 0.9533333333333333 and parameters: {'n_estimators': 15, 'max_depth': 4.050503240684709}. Best is trial 6 with value: 0.9666666666666667.\u001b[0m\n",
            "\u001b[32m[I 2021-01-19 20:52:14,028]\u001b[0m Trial 31 finished with value: 0.96 and parameters: {'n_estimators': 12, 'max_depth': 3.0680875674481967}. Best is trial 6 with value: 0.9666666666666667.\u001b[0m\n",
            "\u001b[32m[I 2021-01-19 20:52:14,090]\u001b[0m Trial 32 finished with value: 0.9666666666666667 and parameters: {'n_estimators': 11, 'max_depth': 4.265107253569383}. Best is trial 6 with value: 0.9666666666666667.\u001b[0m\n",
            "\u001b[32m[I 2021-01-19 20:52:14,184]\u001b[0m Trial 33 finished with value: 0.9466666666666667 and parameters: {'n_estimators': 18, 'max_depth': 4.483091633298101}. Best is trial 6 with value: 0.9666666666666667.\u001b[0m\n",
            "\u001b[32m[I 2021-01-19 20:52:14,237]\u001b[0m Trial 34 finished with value: 0.9533333333333333 and parameters: {'n_estimators': 9, 'max_depth': 3.20609850761082}. Best is trial 6 with value: 0.9666666666666667.\u001b[0m\n",
            "\u001b[32m[I 2021-01-19 20:52:14,303]\u001b[0m Trial 35 finished with value: 0.9533333333333333 and parameters: {'n_estimators': 11, 'max_depth': 2.213714624405369}. Best is trial 6 with value: 0.9666666666666667.\u001b[0m\n",
            "\u001b[32m[I 2021-01-19 20:52:14,368]\u001b[0m Trial 36 finished with value: 0.9466666666666667 and parameters: {'n_estimators': 13, 'max_depth': 6.510109592627783}. Best is trial 6 with value: 0.9666666666666667.\u001b[0m\n",
            "\u001b[32m[I 2021-01-19 20:52:14,435]\u001b[0m Trial 37 finished with value: 0.96 and parameters: {'n_estimators': 11, 'max_depth': 3.513272149317379}. Best is trial 6 with value: 0.9666666666666667.\u001b[0m\n",
            "\u001b[32m[I 2021-01-19 20:52:14,470]\u001b[0m Trial 38 finished with value: 0.9533333333333333 and parameters: {'n_estimators': 4, 'max_depth': 8.377675002679467}. Best is trial 6 with value: 0.9666666666666667.\u001b[0m\n",
            "\u001b[32m[I 2021-01-19 20:52:14,522]\u001b[0m Trial 39 finished with value: 0.96 and parameters: {'n_estimators': 9, 'max_depth': 18.193563173491047}. Best is trial 6 with value: 0.9666666666666667.\u001b[0m\n",
            "\u001b[32m[I 2021-01-19 20:52:14,589]\u001b[0m Trial 40 finished with value: 0.9466666666666667 and parameters: {'n_estimators': 13, 'max_depth': 4.7155679939675075}. Best is trial 6 with value: 0.9666666666666667.\u001b[0m\n",
            "\u001b[32m[I 2021-01-19 20:52:14,658]\u001b[0m Trial 41 finished with value: 0.9533333333333333 and parameters: {'n_estimators': 12, 'max_depth': 10.599516965618744}. Best is trial 6 with value: 0.9666666666666667.\u001b[0m\n",
            "\u001b[32m[I 2021-01-19 20:52:14,713]\u001b[0m Trial 42 finished with value: 0.9466666666666667 and parameters: {'n_estimators': 10, 'max_depth': 2.595490610199475}. Best is trial 6 with value: 0.9666666666666667.\u001b[0m\n",
            "\u001b[32m[I 2021-01-19 20:52:14,784]\u001b[0m Trial 43 finished with value: 0.9533333333333333 and parameters: {'n_estimators': 14, 'max_depth': 5.9062026959295615}. Best is trial 6 with value: 0.9666666666666667.\u001b[0m\n",
            "\u001b[32m[I 2021-01-19 20:52:14,837]\u001b[0m Trial 44 finished with value: 0.9466666666666667 and parameters: {'n_estimators': 8, 'max_depth': 29.42312539256607}. Best is trial 6 with value: 0.9666666666666667.\u001b[0m\n",
            "\u001b[32m[I 2021-01-19 20:52:14,911]\u001b[0m Trial 45 finished with value: 0.9533333333333333 and parameters: {'n_estimators': 12, 'max_depth': 3.0429065469400394}. Best is trial 6 with value: 0.9666666666666667.\u001b[0m\n",
            "\u001b[32m[I 2021-01-19 20:52:14,979]\u001b[0m Trial 46 finished with value: 0.9533333333333333 and parameters: {'n_estimators': 11, 'max_depth': 8.60165094685243}. Best is trial 6 with value: 0.9666666666666667.\u001b[0m\n",
            "\u001b[32m[I 2021-01-19 20:52:15,022]\u001b[0m Trial 47 finished with value: 0.9666666666666667 and parameters: {'n_estimators': 6, 'max_depth': 3.6956374098552276}. Best is trial 6 with value: 0.9666666666666667.\u001b[0m\n",
            "\u001b[32m[I 2021-01-19 20:52:15,072]\u001b[0m Trial 48 finished with value: 0.9466666666666667 and parameters: {'n_estimators': 8, 'max_depth': 3.729134707621457}. Best is trial 6 with value: 0.9666666666666667.\u001b[0m\n",
            "\u001b[32m[I 2021-01-19 20:52:15,105]\u001b[0m Trial 49 finished with value: 0.9466666666666667 and parameters: {'n_estimators': 3, 'max_depth': 5.297185909831163}. Best is trial 6 with value: 0.9666666666666667.\u001b[0m\n",
            "\u001b[32m[I 2021-01-19 20:52:15,145]\u001b[0m Trial 50 finished with value: 0.8466666666666667 and parameters: {'n_estimators': 6, 'max_depth': 1.2160370203654645}. Best is trial 6 with value: 0.9666666666666667.\u001b[0m\n",
            "\u001b[32m[I 2021-01-19 20:52:15,188]\u001b[0m Trial 51 finished with value: 0.96 and parameters: {'n_estimators': 7, 'max_depth': 4.2996583639212655}. Best is trial 6 with value: 0.9666666666666667.\u001b[0m\n",
            "\u001b[32m[I 2021-01-19 20:52:15,225]\u001b[0m Trial 52 finished with value: 0.96 and parameters: {'n_estimators': 5, 'max_depth': 3.49204215276705}. Best is trial 6 with value: 0.9666666666666667.\u001b[0m\n",
            "\u001b[32m[I 2021-01-19 20:52:15,282]\u001b[0m Trial 53 finished with value: 0.9533333333333333 and parameters: {'n_estimators': 10, 'max_depth': 2.197561266373025}. Best is trial 6 with value: 0.9666666666666667.\u001b[0m\n",
            "\u001b[32m[I 2021-01-19 20:52:15,320]\u001b[0m Trial 54 finished with value: 0.7666666666666667 and parameters: {'n_estimators': 4, 'max_depth': 1.6073593097036398}. Best is trial 6 with value: 0.9666666666666667.\u001b[0m\n",
            "\u001b[32m[I 2021-01-19 20:52:15,360]\u001b[0m Trial 55 finished with value: 0.9533333333333333 and parameters: {'n_estimators': 6, 'max_depth': 6.100017298851311}. Best is trial 6 with value: 0.9666666666666667.\u001b[0m\n",
            "\u001b[32m[I 2021-01-19 20:52:15,411]\u001b[0m Trial 56 finished with value: 0.9466666666666667 and parameters: {'n_estimators': 9, 'max_depth': 2.8007291021539364}. Best is trial 6 with value: 0.9666666666666667.\u001b[0m\n",
            "\u001b[32m[I 2021-01-19 20:52:15,469]\u001b[0m Trial 57 finished with value: 0.9733333333333333 and parameters: {'n_estimators': 7, 'max_depth': 4.898670191017612}. Best is trial 57 with value: 0.9733333333333333.\u001b[0m\n",
            "\u001b[32m[I 2021-01-19 20:52:15,517]\u001b[0m Trial 58 finished with value: 0.9666666666666667 and parameters: {'n_estimators': 7, 'max_depth': 4.993356415783825}. Best is trial 57 with value: 0.9733333333333333.\u001b[0m\n",
            "\u001b[32m[I 2021-01-19 20:52:15,551]\u001b[0m Trial 59 finished with value: 0.9266666666666666 and parameters: {'n_estimators': 4, 'max_depth': 11.93248885187737}. Best is trial 57 with value: 0.9733333333333333.\u001b[0m\n",
            "\u001b[32m[I 2021-01-19 20:52:15,589]\u001b[0m Trial 60 finished with value: 0.96 and parameters: {'n_estimators': 5, 'max_depth': 17.00958002875271}. Best is trial 57 with value: 0.9733333333333333.\u001b[0m\n",
            "\u001b[32m[I 2021-01-19 20:52:15,644]\u001b[0m Trial 61 finished with value: 0.96 and parameters: {'n_estimators': 8, 'max_depth': 5.062460645717551}. Best is trial 57 with value: 0.9733333333333333.\u001b[0m\n",
            "\u001b[32m[I 2021-01-19 20:52:15,692]\u001b[0m Trial 62 finished with value: 0.9533333333333333 and parameters: {'n_estimators': 7, 'max_depth': 3.740048707448562}. Best is trial 57 with value: 0.9733333333333333.\u001b[0m\n",
            "\u001b[32m[I 2021-01-19 20:52:15,740]\u001b[0m Trial 63 finished with value: 0.96 and parameters: {'n_estimators': 7, 'max_depth': 7.039682784738636}. Best is trial 57 with value: 0.9733333333333333.\u001b[0m\n",
            "\u001b[32m[I 2021-01-19 20:52:15,784]\u001b[0m Trial 64 finished with value: 0.9533333333333333 and parameters: {'n_estimators': 6, 'max_depth': 5.504269452543135}. Best is trial 57 with value: 0.9733333333333333.\u001b[0m\n",
            "\u001b[32m[I 2021-01-19 20:52:15,835]\u001b[0m Trial 65 finished with value: 0.9666666666666667 and parameters: {'n_estimators': 9, 'max_depth': 26.145629517220783}. Best is trial 57 with value: 0.9733333333333333.\u001b[0m\n",
            "\u001b[32m[I 2021-01-19 20:52:15,876]\u001b[0m Trial 66 finished with value: 0.9466666666666667 and parameters: {'n_estimators': 5, 'max_depth': 4.636750277758045}. Best is trial 57 with value: 0.9733333333333333.\u001b[0m\n",
            "\u001b[32m[I 2021-01-19 20:52:15,936]\u001b[0m Trial 67 finished with value: 0.9533333333333333 and parameters: {'n_estimators': 10, 'max_depth': 4.108643040576452}. Best is trial 57 with value: 0.9733333333333333.\u001b[0m\n",
            "\u001b[32m[I 2021-01-19 20:52:15,989]\u001b[0m Trial 68 finished with value: 0.96 and parameters: {'n_estimators': 8, 'max_depth': 2.3774455339047442}. Best is trial 57 with value: 0.9733333333333333.\u001b[0m\n",
            "\u001b[32m[I 2021-01-19 20:52:16,045]\u001b[0m Trial 69 finished with value: 0.9466666666666667 and parameters: {'n_estimators': 10, 'max_depth': 22.922845589124684}. Best is trial 57 with value: 0.9733333333333333.\u001b[0m\n",
            "\u001b[32m[I 2021-01-19 20:52:16,098]\u001b[0m Trial 70 finished with value: 0.96 and parameters: {'n_estimators': 9, 'max_depth': 26.237877534965662}. Best is trial 57 with value: 0.9733333333333333.\u001b[0m\n",
            "\u001b[32m[I 2021-01-19 20:52:16,156]\u001b[0m Trial 71 finished with value: 0.9466666666666667 and parameters: {'n_estimators': 11, 'max_depth': 3.952710162887515}. Best is trial 57 with value: 0.9733333333333333.\u001b[0m\n",
            "\u001b[32m[I 2021-01-19 20:52:16,212]\u001b[0m Trial 72 finished with value: 0.94 and parameters: {'n_estimators': 9, 'max_depth': 4.879448550571246}. Best is trial 57 with value: 0.9733333333333333.\u001b[0m\n",
            "\u001b[32m[I 2021-01-19 20:52:16,275]\u001b[0m Trial 73 finished with value: 0.94 and parameters: {'n_estimators': 12, 'max_depth': 3.1724261895683328}. Best is trial 57 with value: 0.9733333333333333.\u001b[0m\n",
            "\u001b[32m[I 2021-01-19 20:52:16,332]\u001b[0m Trial 74 finished with value: 0.9666666666666667 and parameters: {'n_estimators': 8, 'max_depth': 3.5179189193649973}. Best is trial 57 with value: 0.9733333333333333.\u001b[0m\n",
            "\u001b[32m[I 2021-01-19 20:52:16,379]\u001b[0m Trial 75 finished with value: 0.9533333333333333 and parameters: {'n_estimators': 7, 'max_depth': 7.701516245777393}. Best is trial 57 with value: 0.9733333333333333.\u001b[0m\n",
            "\u001b[32m[I 2021-01-19 20:52:16,430]\u001b[0m Trial 76 finished with value: 0.9666666666666667 and parameters: {'n_estimators': 8, 'max_depth': 6.375186361617254}. Best is trial 57 with value: 0.9733333333333333.\u001b[0m\n",
            "\u001b[32m[I 2021-01-19 20:52:16,473]\u001b[0m Trial 77 finished with value: 0.9533333333333333 and parameters: {'n_estimators': 6, 'max_depth': 5.756718800503204}. Best is trial 57 with value: 0.9733333333333333.\u001b[0m\n",
            "\u001b[32m[I 2021-01-19 20:52:16,508]\u001b[0m Trial 78 finished with value: 0.94 and parameters: {'n_estimators': 3, 'max_depth': 18.486800911901998}. Best is trial 57 with value: 0.9733333333333333.\u001b[0m\n",
            "\u001b[32m[I 2021-01-19 20:52:16,553]\u001b[0m Trial 79 finished with value: 0.9533333333333333 and parameters: {'n_estimators': 7, 'max_depth': 4.568569214949648}. Best is trial 57 with value: 0.9733333333333333.\u001b[0m\n",
            "\u001b[32m[I 2021-01-19 20:52:16,598]\u001b[0m Trial 80 finished with value: 0.94 and parameters: {'n_estimators': 6, 'max_depth': 6.372255211301727}. Best is trial 57 with value: 0.9733333333333333.\u001b[0m\n",
            "\u001b[32m[I 2021-01-19 20:52:16,650]\u001b[0m Trial 81 finished with value: 0.96 and parameters: {'n_estimators': 9, 'max_depth': 9.616733621311104}. Best is trial 57 with value: 0.9733333333333333.\u001b[0m\n",
            "\u001b[32m[I 2021-01-19 20:52:16,699]\u001b[0m Trial 82 finished with value: 0.94 and parameters: {'n_estimators': 8, 'max_depth': 5.313559050579044}. Best is trial 57 with value: 0.9733333333333333.\u001b[0m\n",
            "\u001b[32m[I 2021-01-19 20:52:16,747]\u001b[0m Trial 83 finished with value: 0.96 and parameters: {'n_estimators': 8, 'max_depth': 3.4341260628493866}. Best is trial 57 with value: 0.9733333333333333.\u001b[0m\n",
            "\u001b[32m[I 2021-01-19 20:52:16,807]\u001b[0m Trial 84 finished with value: 0.96 and parameters: {'n_estimators': 10, 'max_depth': 4.249621796344076}. Best is trial 57 with value: 0.9733333333333333.\u001b[0m\n",
            "\u001b[32m[I 2021-01-19 20:52:16,846]\u001b[0m Trial 85 finished with value: 0.9533333333333333 and parameters: {'n_estimators': 5, 'max_depth': 2.7623609711360158}. Best is trial 57 with value: 0.9733333333333333.\u001b[0m\n",
            "\u001b[32m[I 2021-01-19 20:52:16,890]\u001b[0m Trial 86 finished with value: 0.96 and parameters: {'n_estimators': 7, 'max_depth': 6.978342151805111}. Best is trial 57 with value: 0.9733333333333333.\u001b[0m\n",
            "\u001b[32m[I 2021-01-19 20:52:16,950]\u001b[0m Trial 87 finished with value: 0.9666666666666667 and parameters: {'n_estimators': 11, 'max_depth': 8.700935994431308}. Best is trial 57 with value: 0.9733333333333333.\u001b[0m\n",
            "\u001b[32m[I 2021-01-19 20:52:17,002]\u001b[0m Trial 88 finished with value: 0.96 and parameters: {'n_estimators': 9, 'max_depth': 8.556118770623664}. Best is trial 57 with value: 0.9733333333333333.\u001b[0m\n",
            "\u001b[32m[I 2021-01-19 20:52:17,065]\u001b[0m Trial 89 finished with value: 0.9466666666666667 and parameters: {'n_estimators': 11, 'max_depth': 6.492198670590373}. Best is trial 57 with value: 0.9733333333333333.\u001b[0m\n",
            "\u001b[32m[I 2021-01-19 20:52:17,109]\u001b[0m Trial 90 finished with value: 0.9466666666666667 and parameters: {'n_estimators': 6, 'max_depth': 4.981662291199925}. Best is trial 57 with value: 0.9733333333333333.\u001b[0m\n",
            "\u001b[32m[I 2021-01-19 20:52:17,145]\u001b[0m Trial 91 finished with value: 0.96 and parameters: {'n_estimators': 4, 'max_depth': 3.990127673791799}. Best is trial 57 with value: 0.9733333333333333.\u001b[0m\n",
            "\u001b[32m[I 2021-01-19 20:52:17,194]\u001b[0m Trial 92 finished with value: 0.9466666666666667 and parameters: {'n_estimators': 8, 'max_depth': 2.9573139612821673}. Best is trial 57 with value: 0.9733333333333333.\u001b[0m\n",
            "\u001b[32m[I 2021-01-19 20:52:17,234]\u001b[0m Trial 93 finished with value: 0.96 and parameters: {'n_estimators': 5, 'max_depth': 3.4699241029964143}. Best is trial 57 with value: 0.9733333333333333.\u001b[0m\n",
            "\u001b[32m[I 2021-01-19 20:52:17,282]\u001b[0m Trial 94 finished with value: 0.96 and parameters: {'n_estimators': 7, 'max_depth': 4.327235354448495}. Best is trial 57 with value: 0.9733333333333333.\u001b[0m\n",
            "\u001b[32m[I 2021-01-19 20:52:17,332]\u001b[0m Trial 95 finished with value: 0.94 and parameters: {'n_estimators': 6, 'max_depth': 15.561001774425872}. Best is trial 57 with value: 0.9733333333333333.\u001b[0m\n",
            "\u001b[32m[I 2021-01-19 20:52:17,398]\u001b[0m Trial 96 finished with value: 0.96 and parameters: {'n_estimators': 12, 'max_depth': 5.787168371574898}. Best is trial 57 with value: 0.9733333333333333.\u001b[0m\n",
            "\u001b[32m[I 2021-01-19 20:52:17,458]\u001b[0m Trial 97 finished with value: 0.96 and parameters: {'n_estimators': 11, 'max_depth': 11.950935350585999}. Best is trial 57 with value: 0.9733333333333333.\u001b[0m\n",
            "\u001b[32m[I 2021-01-19 20:52:17,526]\u001b[0m Trial 98 finished with value: 0.9533333333333333 and parameters: {'n_estimators': 13, 'max_depth': 7.733498548849137}. Best is trial 57 with value: 0.9733333333333333.\u001b[0m\n",
            "\u001b[32m[I 2021-01-19 20:52:17,596]\u001b[0m Trial 99 finished with value: 0.96 and parameters: {'n_estimators': 12, 'max_depth': 3.708055003441199}. Best is trial 57 with value: 0.9733333333333333.\u001b[0m\n"
          ],
          "name": "stderr"
        },
        {
          "output_type": "stream",
          "text": [
            "Accuracy: 0.9733333333333333\n",
            "Best hyperparameters: {'n_estimators': 7, 'max_depth': 4.898670191017612}\n"
          ],
          "name": "stdout"
        }
      ]
    },
    {
      "cell_type": "markdown",
      "metadata": {
        "id": "tniePtHua5rI"
      },
      "source": [
        "It is possible to condition hyperparameters using Python `if` statements. We can for instance include another classifier, a support vector machine, in our HPO and define hyperparameters specific to the random forest model and the support vector machine."
      ]
    },
    {
      "cell_type": "code",
      "metadata": {
        "colab": {
          "base_uri": "https://localhost:8080/"
        },
        "id": "kHk_5W6Ba65j",
        "outputId": "f3b70135-da09-4faf-d029-699150460ffa"
      },
      "source": [
        "import sklearn.svm\r\n",
        "\r\n",
        "def objective(trial):\r\n",
        "    iris = sklearn.datasets.load_iris()\r\n",
        "\r\n",
        "    classifier = trial.suggest_categorical('classifier', ['RandomForest', 'SVC'])\r\n",
        "    \r\n",
        "    if classifier == 'RandomForest':\r\n",
        "        n_estimators = trial.suggest_int('n_estimators', 2, 20)\r\n",
        "        max_depth = int(trial.suggest_float('max_depth', 1, 32, log=True))\r\n",
        "\r\n",
        "        clf = sklearn.ensemble.RandomForestClassifier(\r\n",
        "            n_estimators=n_estimators, max_depth=max_depth)\r\n",
        "    else:\r\n",
        "        c = trial.suggest_float('svc_c', 1e-10, 1e10, log=True)\r\n",
        "        \r\n",
        "        clf = sklearn.svm.SVC(C=c, gamma='auto')\r\n",
        "\r\n",
        "    return sklearn.model_selection.cross_val_score(\r\n",
        "        clf, iris.data, iris.target, n_jobs=-1, cv=3).mean()\r\n",
        "\r\n",
        "study = optuna.create_study(direction='maximize')\r\n",
        "study.optimize(objective, n_trials=100)\r\n",
        "\r\n",
        "trial = study.best_trial\r\n",
        "\r\n",
        "print('Accuracy: {}'.format(trial.value))\r\n",
        "print(\"Best hyperparameters: {}\".format(trial.params))"
      ],
      "execution_count": null,
      "outputs": [
        {
          "output_type": "stream",
          "text": [
            "\u001b[32m[I 2021-01-19 20:52:42,988]\u001b[0m A new study created in memory with name: no-name-8739ef67-a44e-46aa-bcbc-2c74ea6a4e44\u001b[0m\n",
            "\u001b[32m[I 2021-01-19 20:52:43,011]\u001b[0m Trial 0 finished with value: 0.32 and parameters: {'classifier': 'SVC', 'svc_c': 1.5883665383285734e-10}. Best is trial 0 with value: 0.32.\u001b[0m\n",
            "\u001b[32m[I 2021-01-19 20:52:43,063]\u001b[0m Trial 1 finished with value: 0.9666666666666667 and parameters: {'classifier': 'RandomForest', 'n_estimators': 9, 'max_depth': 4.463018107137593}. Best is trial 1 with value: 0.9666666666666667.\u001b[0m\n",
            "\u001b[32m[I 2021-01-19 20:52:43,091]\u001b[0m Trial 2 finished with value: 0.96 and parameters: {'classifier': 'RandomForest', 'n_estimators': 3, 'max_depth': 9.881065935022777}. Best is trial 1 with value: 0.9666666666666667.\u001b[0m\n",
            "\u001b[32m[I 2021-01-19 20:52:43,142]\u001b[0m Trial 3 finished with value: 0.9333333333333332 and parameters: {'classifier': 'RandomForest', 'n_estimators': 10, 'max_depth': 1.9157848682885572}. Best is trial 1 with value: 0.9666666666666667.\u001b[0m\n",
            "\u001b[32m[I 2021-01-19 20:52:43,233]\u001b[0m Trial 4 finished with value: 0.96 and parameters: {'classifier': 'RandomForest', 'n_estimators': 20, 'max_depth': 5.9956548055995045}. Best is trial 1 with value: 0.9666666666666667.\u001b[0m\n",
            "\u001b[32m[I 2021-01-19 20:52:43,273]\u001b[0m Trial 5 finished with value: 0.9466666666666667 and parameters: {'classifier': 'RandomForest', 'n_estimators': 5, 'max_depth': 6.164351537769689}. Best is trial 1 with value: 0.9666666666666667.\u001b[0m\n",
            "\u001b[32m[I 2021-01-19 20:52:43,289]\u001b[0m Trial 6 finished with value: 0.96 and parameters: {'classifier': 'SVC', 'svc_c': 3711769.5022123763}. Best is trial 1 with value: 0.9666666666666667.\u001b[0m\n",
            "\u001b[32m[I 2021-01-19 20:52:43,358]\u001b[0m Trial 7 finished with value: 0.9199999999999999 and parameters: {'classifier': 'RandomForest', 'n_estimators': 15, 'max_depth': 1.2732120478313482}. Best is trial 1 with value: 0.9666666666666667.\u001b[0m\n",
            "\u001b[32m[I 2021-01-19 20:52:43,373]\u001b[0m Trial 8 finished with value: 0.32 and parameters: {'classifier': 'SVC', 'svc_c': 1.2868175068340535e-07}. Best is trial 1 with value: 0.9666666666666667.\u001b[0m\n",
            "\u001b[32m[I 2021-01-19 20:52:43,432]\u001b[0m Trial 9 finished with value: 0.9666666666666667 and parameters: {'classifier': 'RandomForest', 'n_estimators': 12, 'max_depth': 7.797997218570534}. Best is trial 1 with value: 0.9666666666666667.\u001b[0m\n",
            "\u001b[32m[I 2021-01-19 20:52:43,477]\u001b[0m Trial 10 finished with value: 0.96 and parameters: {'classifier': 'RandomForest', 'n_estimators': 7, 'max_depth': 29.63195253624997}. Best is trial 1 with value: 0.9666666666666667.\u001b[0m\n",
            "\u001b[32m[I 2021-01-19 20:52:43,547]\u001b[0m Trial 11 finished with value: 0.96 and parameters: {'classifier': 'RandomForest', 'n_estimators': 13, 'max_depth': 15.846840219307404}. Best is trial 1 with value: 0.9666666666666667.\u001b[0m\n",
            "\u001b[32m[I 2021-01-19 20:52:43,611]\u001b[0m Trial 12 finished with value: 0.96 and parameters: {'classifier': 'RandomForest', 'n_estimators': 10, 'max_depth': 3.3074979096499133}. Best is trial 1 with value: 0.9666666666666667.\u001b[0m\n",
            "\u001b[32m[I 2021-01-19 20:52:43,687]\u001b[0m Trial 13 finished with value: 0.96 and parameters: {'classifier': 'RandomForest', 'n_estimators': 16, 'max_depth': 3.1575969482573476}. Best is trial 1 with value: 0.9666666666666667.\u001b[0m\n",
            "\u001b[32m[I 2021-01-19 20:52:43,737]\u001b[0m Trial 14 finished with value: 0.9533333333333333 and parameters: {'classifier': 'RandomForest', 'n_estimators': 8, 'max_depth': 13.19920350463334}. Best is trial 1 with value: 0.9666666666666667.\u001b[0m\n",
            "\u001b[32m[I 2021-01-19 20:52:43,805]\u001b[0m Trial 15 finished with value: 0.96 and parameters: {'classifier': 'RandomForest', 'n_estimators': 13, 'max_depth': 3.490495508392455}. Best is trial 1 with value: 0.9666666666666667.\u001b[0m\n",
            "\u001b[32m[I 2021-01-19 20:52:43,896]\u001b[0m Trial 16 finished with value: 0.96 and parameters: {'classifier': 'RandomForest', 'n_estimators': 18, 'max_depth': 8.42314416935325}. Best is trial 1 with value: 0.9666666666666667.\u001b[0m\n",
            "\u001b[32m[I 2021-01-19 20:52:43,913]\u001b[0m Trial 17 finished with value: 0.96 and parameters: {'classifier': 'SVC', 'svc_c': 2239192655.2248588}. Best is trial 1 with value: 0.9666666666666667.\u001b[0m\n",
            "\u001b[32m[I 2021-01-19 20:52:43,977]\u001b[0m Trial 18 finished with value: 0.9533333333333333 and parameters: {'classifier': 'RandomForest', 'n_estimators': 12, 'max_depth': 18.539602364231335}. Best is trial 1 with value: 0.9666666666666667.\u001b[0m\n",
            "\u001b[32m[I 2021-01-19 20:52:44,028]\u001b[0m Trial 19 finished with value: 0.96 and parameters: {'classifier': 'RandomForest', 'n_estimators': 8, 'max_depth': 3.833302420806611}. Best is trial 1 with value: 0.9666666666666667.\u001b[0m\n",
            "\u001b[32m[I 2021-01-19 20:52:44,055]\u001b[0m Trial 20 finished with value: 0.6733333333333333 and parameters: {'classifier': 'RandomForest', 'n_estimators': 2, 'max_depth': 1.6134513400722421}. Best is trial 1 with value: 0.9666666666666667.\u001b[0m\n",
            "\u001b[32m[I 2021-01-19 20:52:44,096]\u001b[0m Trial 21 finished with value: 0.9533333333333333 and parameters: {'classifier': 'RandomForest', 'n_estimators': 6, 'max_depth': 25.315955182123172}. Best is trial 1 with value: 0.9666666666666667.\u001b[0m\n",
            "\u001b[32m[I 2021-01-19 20:52:44,150]\u001b[0m Trial 22 finished with value: 0.9666666666666667 and parameters: {'classifier': 'RandomForest', 'n_estimators': 8, 'max_depth': 31.076688225346004}. Best is trial 1 with value: 0.9666666666666667.\u001b[0m\n",
            "\u001b[32m[I 2021-01-19 20:52:44,206]\u001b[0m Trial 23 finished with value: 0.96 and parameters: {'classifier': 'RandomForest', 'n_estimators': 10, 'max_depth': 2.2852048160482457}. Best is trial 1 with value: 0.9666666666666667.\u001b[0m\n",
            "\u001b[32m[I 2021-01-19 20:52:44,242]\u001b[0m Trial 24 finished with value: 0.9466666666666667 and parameters: {'classifier': 'RandomForest', 'n_estimators': 4, 'max_depth': 8.653387809782936}. Best is trial 1 with value: 0.9666666666666667.\u001b[0m\n",
            "\u001b[32m[I 2021-01-19 20:52:44,294]\u001b[0m Trial 25 finished with value: 0.9666666666666667 and parameters: {'classifier': 'RandomForest', 'n_estimators': 9, 'max_depth': 4.662119967274052}. Best is trial 1 with value: 0.9666666666666667.\u001b[0m\n",
            "\u001b[32m[I 2021-01-19 20:52:44,342]\u001b[0m Trial 26 finished with value: 0.9666666666666667 and parameters: {'classifier': 'RandomForest', 'n_estimators': 8, 'max_depth': 5.428370596348453}. Best is trial 1 with value: 0.9666666666666667.\u001b[0m\n",
            "\u001b[32m[I 2021-01-19 20:52:44,358]\u001b[0m Trial 27 finished with value: 0.9666666666666667 and parameters: {'classifier': 'SVC', 'svc_c': 0.4032996358754947}. Best is trial 1 with value: 0.9666666666666667.\u001b[0m\n",
            "\u001b[32m[I 2021-01-19 20:52:44,373]\u001b[0m Trial 28 finished with value: 0.9666666666666667 and parameters: {'classifier': 'SVC', 'svc_c': 0.7263405176016917}. Best is trial 1 with value: 0.9666666666666667.\u001b[0m\n",
            "\u001b[32m[I 2021-01-19 20:52:44,390]\u001b[0m Trial 29 finished with value: 0.9666666666666667 and parameters: {'classifier': 'SVC', 'svc_c': 0.4016932301780582}. Best is trial 1 with value: 0.9666666666666667.\u001b[0m\n",
            "\u001b[32m[I 2021-01-19 20:52:44,411]\u001b[0m Trial 30 finished with value: 0.32 and parameters: {'classifier': 'SVC', 'svc_c': 4.237127126015354e-05}. Best is trial 1 with value: 0.9666666666666667.\u001b[0m\n",
            "\u001b[32m[I 2021-01-19 20:52:44,434]\u001b[0m Trial 31 finished with value: 0.96 and parameters: {'classifier': 'SVC', 'svc_c': 157829.0679629375}. Best is trial 1 with value: 0.9666666666666667.\u001b[0m\n",
            "\u001b[32m[I 2021-01-19 20:52:44,453]\u001b[0m Trial 32 finished with value: 0.9666666666666667 and parameters: {'classifier': 'SVC', 'svc_c': 1.319563475299467}. Best is trial 1 with value: 0.9666666666666667.\u001b[0m\n",
            "\u001b[32m[I 2021-01-19 20:52:44,473]\u001b[0m Trial 33 finished with value: 0.9666666666666667 and parameters: {'classifier': 'SVC', 'svc_c': 0.8075192401152379}. Best is trial 1 with value: 0.9666666666666667.\u001b[0m\n",
            "\u001b[32m[I 2021-01-19 20:52:44,490]\u001b[0m Trial 34 finished with value: 0.9733333333333333 and parameters: {'classifier': 'SVC', 'svc_c': 3.3867884709944462}. Best is trial 34 with value: 0.9733333333333333.\u001b[0m\n",
            "\u001b[32m[I 2021-01-19 20:52:44,509]\u001b[0m Trial 35 finished with value: 0.96 and parameters: {'classifier': 'SVC', 'svc_c': 2288.6371351074677}. Best is trial 34 with value: 0.9733333333333333.\u001b[0m\n",
            "\u001b[32m[I 2021-01-19 20:52:44,528]\u001b[0m Trial 36 finished with value: 0.32 and parameters: {'classifier': 'SVC', 'svc_c': 0.0003377045452458061}. Best is trial 34 with value: 0.9733333333333333.\u001b[0m\n",
            "\u001b[32m[I 2021-01-19 20:52:44,546]\u001b[0m Trial 37 finished with value: 0.94 and parameters: {'classifier': 'SVC', 'svc_c': 227.7487397370822}. Best is trial 34 with value: 0.9733333333333333.\u001b[0m\n",
            "\u001b[32m[I 2021-01-19 20:52:44,564]\u001b[0m Trial 38 finished with value: 0.32 and parameters: {'classifier': 'SVC', 'svc_c': 0.006525304310059995}. Best is trial 34 with value: 0.9733333333333333.\u001b[0m\n",
            "\u001b[32m[I 2021-01-19 20:52:44,583]\u001b[0m Trial 39 finished with value: 0.9533333333333333 and parameters: {'classifier': 'SVC', 'svc_c': 486.24488161350814}. Best is trial 34 with value: 0.9733333333333333.\u001b[0m\n",
            "\u001b[32m[I 2021-01-19 20:52:44,647]\u001b[0m Trial 40 finished with value: 0.9533333333333333 and parameters: {'classifier': 'RandomForest', 'n_estimators': 9, 'max_depth': 4.545326465521903}. Best is trial 34 with value: 0.9733333333333333.\u001b[0m\n",
            "\u001b[32m[I 2021-01-19 20:52:44,666]\u001b[0m Trial 41 finished with value: 0.9733333333333333 and parameters: {'classifier': 'SVC', 'svc_c': 0.9760177836262313}. Best is trial 34 with value: 0.9733333333333333.\u001b[0m\n",
            "\u001b[32m[I 2021-01-19 20:52:44,685]\u001b[0m Trial 42 finished with value: 0.98 and parameters: {'classifier': 'SVC', 'svc_c': 7.547131099024809}. Best is trial 42 with value: 0.98.\u001b[0m\n",
            "\u001b[32m[I 2021-01-19 20:52:44,703]\u001b[0m Trial 43 finished with value: 0.96 and parameters: {'classifier': 'SVC', 'svc_c': 77.03406834404659}. Best is trial 42 with value: 0.98.\u001b[0m\n",
            "\u001b[32m[I 2021-01-19 20:52:44,722]\u001b[0m Trial 44 finished with value: 0.32 and parameters: {'classifier': 'SVC', 'svc_c': 0.006735987039873751}. Best is trial 42 with value: 0.98.\u001b[0m\n",
            "\u001b[32m[I 2021-01-19 20:52:44,742]\u001b[0m Trial 45 finished with value: 0.96 and parameters: {'classifier': 'SVC', 'svc_c': 55468.18124078131}. Best is trial 42 with value: 0.98.\u001b[0m\n",
            "\u001b[32m[I 2021-01-19 20:52:44,760]\u001b[0m Trial 46 finished with value: 0.32 and parameters: {'classifier': 'SVC', 'svc_c': 1.989454061399658e-06}. Best is trial 42 with value: 0.98.\u001b[0m\n",
            "\u001b[32m[I 2021-01-19 20:52:44,778]\u001b[0m Trial 47 finished with value: 0.9666666666666667 and parameters: {'classifier': 'SVC', 'svc_c': 18.180610671784102}. Best is trial 42 with value: 0.98.\u001b[0m\n",
            "\u001b[32m[I 2021-01-19 20:52:44,798]\u001b[0m Trial 48 finished with value: 0.96 and parameters: {'classifier': 'SVC', 'svc_c': 32.17637218994999}. Best is trial 42 with value: 0.98.\u001b[0m\n",
            "\u001b[32m[I 2021-01-19 20:52:44,818]\u001b[0m Trial 49 finished with value: 0.7799999999999999 and parameters: {'classifier': 'SVC', 'svc_c': 0.03483758629980328}. Best is trial 42 with value: 0.98.\u001b[0m\n",
            "\u001b[32m[I 2021-01-19 20:52:44,835]\u001b[0m Trial 50 finished with value: 0.96 and parameters: {'classifier': 'SVC', 'svc_c': 8088.1209068016815}. Best is trial 42 with value: 0.98.\u001b[0m\n",
            "\u001b[32m[I 2021-01-19 20:52:44,853]\u001b[0m Trial 51 finished with value: 0.7466666666666667 and parameters: {'classifier': 'SVC', 'svc_c': 0.024265638360458346}. Best is trial 42 with value: 0.98.\u001b[0m\n",
            "\u001b[32m[I 2021-01-19 20:52:44,871]\u001b[0m Trial 52 finished with value: 0.9666666666666667 and parameters: {'classifier': 'SVC', 'svc_c': 18.402788381215473}. Best is trial 42 with value: 0.98.\u001b[0m\n",
            "\u001b[32m[I 2021-01-19 20:52:44,888]\u001b[0m Trial 53 finished with value: 0.98 and parameters: {'classifier': 'SVC', 'svc_c': 7.02799917600273}. Best is trial 42 with value: 0.98.\u001b[0m\n",
            "\u001b[32m[I 2021-01-19 20:52:44,905]\u001b[0m Trial 54 finished with value: 0.98 and parameters: {'classifier': 'SVC', 'svc_c': 7.770480818019741}. Best is trial 42 with value: 0.98.\u001b[0m\n",
            "\u001b[32m[I 2021-01-19 20:52:44,925]\u001b[0m Trial 55 finished with value: 0.98 and parameters: {'classifier': 'SVC', 'svc_c': 8.596083791757094}. Best is trial 42 with value: 0.98.\u001b[0m\n",
            "\u001b[32m[I 2021-01-19 20:52:44,943]\u001b[0m Trial 56 finished with value: 0.9866666666666667 and parameters: {'classifier': 'SVC', 'svc_c': 3.9689603403405735}. Best is trial 56 with value: 0.9866666666666667.\u001b[0m\n",
            "\u001b[32m[I 2021-01-19 20:52:44,959]\u001b[0m Trial 57 finished with value: 0.9733333333333333 and parameters: {'classifier': 'SVC', 'svc_c': 12.076252504147313}. Best is trial 56 with value: 0.9866666666666667.\u001b[0m\n",
            "\u001b[32m[I 2021-01-19 20:52:44,978]\u001b[0m Trial 58 finished with value: 0.96 and parameters: {'classifier': 'SVC', 'svc_c': 534.8701832638629}. Best is trial 56 with value: 0.9866666666666667.\u001b[0m\n",
            "\u001b[32m[I 2021-01-19 20:52:44,998]\u001b[0m Trial 59 finished with value: 0.9733333333333333 and parameters: {'classifier': 'SVC', 'svc_c': 15.126342560168881}. Best is trial 56 with value: 0.9866666666666667.\u001b[0m\n",
            "\u001b[32m[I 2021-01-19 20:52:45,019]\u001b[0m Trial 60 finished with value: 0.9133333333333334 and parameters: {'classifier': 'SVC', 'svc_c': 0.051638120540043}. Best is trial 56 with value: 0.9866666666666667.\u001b[0m\n",
            "\u001b[32m[I 2021-01-19 20:52:45,042]\u001b[0m Trial 61 finished with value: 0.9733333333333333 and parameters: {'classifier': 'SVC', 'svc_c': 13.081965692673224}. Best is trial 56 with value: 0.9866666666666667.\u001b[0m\n",
            "\u001b[32m[I 2021-01-19 20:52:45,067]\u001b[0m Trial 62 finished with value: 0.96 and parameters: {'classifier': 'SVC', 'svc_c': 0.1906366599631523}. Best is trial 56 with value: 0.9866666666666667.\u001b[0m\n",
            "\u001b[32m[I 2021-01-19 20:52:45,085]\u001b[0m Trial 63 finished with value: 0.98 and parameters: {'classifier': 'SVC', 'svc_c': 7.313657970450185}. Best is trial 56 with value: 0.9866666666666667.\u001b[0m\n",
            "\u001b[32m[I 2021-01-19 20:52:45,104]\u001b[0m Trial 64 finished with value: 0.96 and parameters: {'classifier': 'SVC', 'svc_c': 7561.420080007684}. Best is trial 56 with value: 0.9866666666666667.\u001b[0m\n",
            "\u001b[32m[I 2021-01-19 20:52:45,123]\u001b[0m Trial 65 finished with value: 0.9466666666666667 and parameters: {'classifier': 'SVC', 'svc_c': 177.1836935394832}. Best is trial 56 with value: 0.9866666666666667.\u001b[0m\n",
            "\u001b[32m[I 2021-01-19 20:52:45,142]\u001b[0m Trial 66 finished with value: 0.9733333333333333 and parameters: {'classifier': 'SVC', 'svc_c': 2.866870907826329}. Best is trial 56 with value: 0.9866666666666667.\u001b[0m\n",
            "\u001b[32m[I 2021-01-19 20:52:45,164]\u001b[0m Trial 67 finished with value: 0.9666666666666667 and parameters: {'classifier': 'SVC', 'svc_c': 1.3857055860666734}. Best is trial 56 with value: 0.9866666666666667.\u001b[0m\n",
            "\u001b[32m[I 2021-01-19 20:52:45,182]\u001b[0m Trial 68 finished with value: 0.32 and parameters: {'classifier': 'SVC', 'svc_c': 0.0010284371505441406}. Best is trial 56 with value: 0.9866666666666667.\u001b[0m\n",
            "\u001b[32m[I 2021-01-19 20:52:45,202]\u001b[0m Trial 69 finished with value: 0.94 and parameters: {'classifier': 'SVC', 'svc_c': 0.0909855687067499}. Best is trial 56 with value: 0.9866666666666667.\u001b[0m\n",
            "\u001b[32m[I 2021-01-19 20:52:45,219]\u001b[0m Trial 70 finished with value: 0.96 and parameters: {'classifier': 'SVC', 'svc_c': 1018.837927822254}. Best is trial 56 with value: 0.9866666666666667.\u001b[0m\n",
            "\u001b[32m[I 2021-01-19 20:52:45,241]\u001b[0m Trial 71 finished with value: 0.9733333333333333 and parameters: {'classifier': 'SVC', 'svc_c': 2.5070186096841724}. Best is trial 56 with value: 0.9866666666666667.\u001b[0m\n",
            "\u001b[32m[I 2021-01-19 20:52:45,262]\u001b[0m Trial 72 finished with value: 0.9733333333333333 and parameters: {'classifier': 'SVC', 'svc_c': 2.393507974927132}. Best is trial 56 with value: 0.9866666666666667.\u001b[0m\n",
            "\u001b[32m[I 2021-01-19 20:52:45,281]\u001b[0m Trial 73 finished with value: 0.98 and parameters: {'classifier': 'SVC', 'svc_c': 5.74852199812291}. Best is trial 56 with value: 0.9866666666666667.\u001b[0m\n",
            "\u001b[32m[I 2021-01-19 20:52:45,301]\u001b[0m Trial 74 finished with value: 0.96 and parameters: {'classifier': 'SVC', 'svc_c': 56.1083534858145}. Best is trial 56 with value: 0.9866666666666667.\u001b[0m\n",
            "\u001b[32m[I 2021-01-19 20:52:45,321]\u001b[0m Trial 75 finished with value: 0.96 and parameters: {'classifier': 'SVC', 'svc_c': 0.44946011197498664}. Best is trial 56 with value: 0.9866666666666667.\u001b[0m\n",
            "\u001b[32m[I 2021-01-19 20:52:45,340]\u001b[0m Trial 76 finished with value: 0.9866666666666667 and parameters: {'classifier': 'SVC', 'svc_c': 4.195365163189386}. Best is trial 56 with value: 0.9866666666666667.\u001b[0m\n",
            "\u001b[32m[I 2021-01-19 20:52:45,360]\u001b[0m Trial 77 finished with value: 0.96 and parameters: {'classifier': 'SVC', 'svc_c': 2826785560.288821}. Best is trial 56 with value: 0.9866666666666667.\u001b[0m\n",
            "\u001b[32m[I 2021-01-19 20:52:45,382]\u001b[0m Trial 78 finished with value: 0.96 and parameters: {'classifier': 'SVC', 'svc_c': 136.79168606834472}. Best is trial 56 with value: 0.9866666666666667.\u001b[0m\n",
            "\u001b[32m[I 2021-01-19 20:52:45,400]\u001b[0m Trial 79 finished with value: 0.96 and parameters: {'classifier': 'SVC', 'svc_c': 0.2285627959602521}. Best is trial 56 with value: 0.9866666666666667.\u001b[0m\n",
            "\u001b[32m[I 2021-01-19 20:52:45,421]\u001b[0m Trial 80 finished with value: 0.98 and parameters: {'classifier': 'SVC', 'svc_c': 8.023039249030932}. Best is trial 56 with value: 0.9866666666666667.\u001b[0m\n",
            "\u001b[32m[I 2021-01-19 20:52:45,440]\u001b[0m Trial 81 finished with value: 0.98 and parameters: {'classifier': 'SVC', 'svc_c': 5.755117355580593}. Best is trial 56 with value: 0.9866666666666667.\u001b[0m\n",
            "\u001b[32m[I 2021-01-19 20:52:45,459]\u001b[0m Trial 82 finished with value: 0.32 and parameters: {'classifier': 'SVC', 'svc_c': 4.809026841112079e-10}. Best is trial 56 with value: 0.9866666666666667.\u001b[0m\n",
            "\u001b[32m[I 2021-01-19 20:52:45,476]\u001b[0m Trial 83 finished with value: 0.96 and parameters: {'classifier': 'SVC', 'svc_c': 81.40419770865996}. Best is trial 56 with value: 0.9866666666666667.\u001b[0m\n",
            "\u001b[32m[I 2021-01-19 20:52:45,494]\u001b[0m Trial 84 finished with value: 0.9666666666666667 and parameters: {'classifier': 'SVC', 'svc_c': 0.5675148041192559}. Best is trial 56 with value: 0.9866666666666667.\u001b[0m\n",
            "\u001b[32m[I 2021-01-19 20:52:45,513]\u001b[0m Trial 85 finished with value: 0.98 and parameters: {'classifier': 'SVC', 'svc_c': 7.460085417567201}. Best is trial 56 with value: 0.9866666666666667.\u001b[0m\n",
            "\u001b[32m[I 2021-01-19 20:52:45,533]\u001b[0m Trial 86 finished with value: 0.96 and parameters: {'classifier': 'SVC', 'svc_c': 2294.509266682846}. Best is trial 56 with value: 0.9866666666666667.\u001b[0m\n",
            "\u001b[32m[I 2021-01-19 20:52:45,552]\u001b[0m Trial 87 finished with value: 0.9866666666666667 and parameters: {'classifier': 'SVC', 'svc_c': 4.6895518899231226}. Best is trial 56 with value: 0.9866666666666667.\u001b[0m\n",
            "\u001b[32m[I 2021-01-19 20:52:45,573]\u001b[0m Trial 88 finished with value: 0.32 and parameters: {'classifier': 'SVC', 'svc_c': 0.0070522715581409845}. Best is trial 56 with value: 0.9866666666666667.\u001b[0m\n",
            "\u001b[32m[I 2021-01-19 20:52:45,591]\u001b[0m Trial 89 finished with value: 0.96 and parameters: {'classifier': 'SVC', 'svc_c': 47223987.17626251}. Best is trial 56 with value: 0.9866666666666667.\u001b[0m\n",
            "\u001b[32m[I 2021-01-19 20:52:45,608]\u001b[0m Trial 90 finished with value: 0.96 and parameters: {'classifier': 'SVC', 'svc_c': 82.00800834510191}. Best is trial 56 with value: 0.9866666666666667.\u001b[0m\n",
            "\u001b[32m[I 2021-01-19 20:52:45,638]\u001b[0m Trial 91 finished with value: 0.9733333333333333 and parameters: {'classifier': 'SVC', 'svc_c': 0.995137435354538}. Best is trial 56 with value: 0.9866666666666667.\u001b[0m\n",
            "\u001b[32m[I 2021-01-19 20:52:45,658]\u001b[0m Trial 92 finished with value: 0.98 and parameters: {'classifier': 'SVC', 'svc_c': 5.73891173959934}. Best is trial 56 with value: 0.9866666666666667.\u001b[0m\n",
            "\u001b[32m[I 2021-01-19 20:52:45,676]\u001b[0m Trial 93 finished with value: 0.96 and parameters: {'classifier': 'SVC', 'svc_c': 0.18847196330929308}. Best is trial 56 with value: 0.9866666666666667.\u001b[0m\n",
            "\u001b[32m[I 2021-01-19 20:52:45,697]\u001b[0m Trial 94 finished with value: 0.9733333333333333 and parameters: {'classifier': 'SVC', 'svc_c': 3.4106830208659082}. Best is trial 56 with value: 0.9866666666666667.\u001b[0m\n",
            "\u001b[32m[I 2021-01-19 20:52:45,716]\u001b[0m Trial 95 finished with value: 0.9666666666666667 and parameters: {'classifier': 'SVC', 'svc_c': 28.218839265890207}. Best is trial 56 with value: 0.9866666666666667.\u001b[0m\n",
            "\u001b[32m[I 2021-01-19 20:52:45,736]\u001b[0m Trial 96 finished with value: 0.9466666666666667 and parameters: {'classifier': 'SVC', 'svc_c': 425.1797771539335}. Best is trial 56 with value: 0.9866666666666667.\u001b[0m\n",
            "\u001b[32m[I 2021-01-19 20:52:45,754]\u001b[0m Trial 97 finished with value: 0.7533333333333333 and parameters: {'classifier': 'SVC', 'svc_c': 0.029021043651839516}. Best is trial 56 with value: 0.9866666666666667.\u001b[0m\n",
            "\u001b[32m[I 2021-01-19 20:52:45,773]\u001b[0m Trial 98 finished with value: 0.96 and parameters: {'classifier': 'SVC', 'svc_c': 32.94518253230608}. Best is trial 56 with value: 0.9866666666666667.\u001b[0m\n",
            "\u001b[32m[I 2021-01-19 20:52:45,794]\u001b[0m Trial 99 finished with value: 0.9666666666666667 and parameters: {'classifier': 'SVC', 'svc_c': 0.7361735967876374}. Best is trial 56 with value: 0.9866666666666667.\u001b[0m\n"
          ],
          "name": "stderr"
        },
        {
          "output_type": "stream",
          "text": [
            "Accuracy: 0.9866666666666667\n",
            "Best hyperparameters: {'classifier': 'SVC', 'svc_c': 3.9689603403405735}\n"
          ],
          "name": "stdout"
        }
      ]
    },
    {
      "cell_type": "markdown",
      "metadata": {
        "id": "AQBzTIe5bBqE"
      },
      "source": [
        "#### Plotting the study\r\n",
        "\r\n",
        "Plotting the optimization history of the study."
      ]
    },
    {
      "cell_type": "code",
      "metadata": {
        "colab": {
          "base_uri": "https://localhost:8080/",
          "height": 542
        },
        "id": "v0Q_i-PnbEwy",
        "outputId": "c4bcef20-62d2-43bb-88ab-4fb42d5d1836"
      },
      "source": [
        "optuna.visualization.plot_optimization_history(study)"
      ],
      "execution_count": null,
      "outputs": [
        {
          "output_type": "display_data",
          "data": {
            "text/html": [
              "<html>\n",
              "<head><meta charset=\"utf-8\" /></head>\n",
              "<body>\n",
              "    <div>\n",
              "            <script src=\"https://cdnjs.cloudflare.com/ajax/libs/mathjax/2.7.5/MathJax.js?config=TeX-AMS-MML_SVG\"></script><script type=\"text/javascript\">if (window.MathJax) {MathJax.Hub.Config({SVG: {font: \"STIX-Web\"}});}</script>\n",
              "                <script type=\"text/javascript\">window.PlotlyConfig = {MathJaxConfig: 'local'};</script>\n",
              "        <script src=\"https://cdn.plot.ly/plotly-latest.min.js\"></script>    \n",
              "            <div id=\"c32a551c-59ec-458b-889d-95c4f1b64bbf\" class=\"plotly-graph-div\" style=\"height:525px; width:100%;\"></div>\n",
              "            <script type=\"text/javascript\">\n",
              "                \n",
              "                    window.PLOTLYENV=window.PLOTLYENV || {};\n",
              "                    \n",
              "                if (document.getElementById(\"c32a551c-59ec-458b-889d-95c4f1b64bbf\")) {\n",
              "                    Plotly.newPlot(\n",
              "                        'c32a551c-59ec-458b-889d-95c4f1b64bbf',\n",
              "                        [{\"mode\": \"markers\", \"name\": \"Objective Value\", \"type\": \"scatter\", \"x\": [0, 1, 2, 3, 4, 5, 6, 7, 8, 9, 10, 11, 12, 13, 14, 15, 16, 17, 18, 19, 20, 21, 22, 23, 24, 25, 26, 27, 28, 29, 30, 31, 32, 33, 34, 35, 36, 37, 38, 39, 40, 41, 42, 43, 44, 45, 46, 47, 48, 49, 50, 51, 52, 53, 54, 55, 56, 57, 58, 59, 60, 61, 62, 63, 64, 65, 66, 67, 68, 69, 70, 71, 72, 73, 74, 75, 76, 77, 78, 79, 80, 81, 82, 83, 84, 85, 86, 87, 88, 89, 90, 91, 92, 93, 94, 95, 96, 97, 98, 99], \"y\": [0.32, 0.9666666666666667, 0.96, 0.9333333333333332, 0.96, 0.9466666666666667, 0.96, 0.9199999999999999, 0.32, 0.9666666666666667, 0.96, 0.96, 0.96, 0.96, 0.9533333333333333, 0.96, 0.96, 0.96, 0.9533333333333333, 0.96, 0.6733333333333333, 0.9533333333333333, 0.9666666666666667, 0.96, 0.9466666666666667, 0.9666666666666667, 0.9666666666666667, 0.9666666666666667, 0.9666666666666667, 0.9666666666666667, 0.32, 0.96, 0.9666666666666667, 0.9666666666666667, 0.9733333333333333, 0.96, 0.32, 0.94, 0.32, 0.9533333333333333, 0.9533333333333333, 0.9733333333333333, 0.98, 0.96, 0.32, 0.96, 0.32, 0.9666666666666667, 0.96, 0.7799999999999999, 0.96, 0.7466666666666667, 0.9666666666666667, 0.98, 0.98, 0.98, 0.9866666666666667, 0.9733333333333333, 0.96, 0.9733333333333333, 0.9133333333333334, 0.9733333333333333, 0.96, 0.98, 0.96, 0.9466666666666667, 0.9733333333333333, 0.9666666666666667, 0.32, 0.94, 0.96, 0.9733333333333333, 0.9733333333333333, 0.98, 0.96, 0.96, 0.9866666666666667, 0.96, 0.96, 0.96, 0.98, 0.98, 0.32, 0.96, 0.9666666666666667, 0.98, 0.96, 0.9866666666666667, 0.32, 0.96, 0.96, 0.9733333333333333, 0.98, 0.96, 0.9733333333333333, 0.9666666666666667, 0.9466666666666667, 0.7533333333333333, 0.96, 0.9666666666666667]}, {\"name\": \"Best Value\", \"type\": \"scatter\", \"x\": [0, 1, 2, 3, 4, 5, 6, 7, 8, 9, 10, 11, 12, 13, 14, 15, 16, 17, 18, 19, 20, 21, 22, 23, 24, 25, 26, 27, 28, 29, 30, 31, 32, 33, 34, 35, 36, 37, 38, 39, 40, 41, 42, 43, 44, 45, 46, 47, 48, 49, 50, 51, 52, 53, 54, 55, 56, 57, 58, 59, 60, 61, 62, 63, 64, 65, 66, 67, 68, 69, 70, 71, 72, 73, 74, 75, 76, 77, 78, 79, 80, 81, 82, 83, 84, 85, 86, 87, 88, 89, 90, 91, 92, 93, 94, 95, 96, 97, 98, 99], \"y\": [0.32, 0.9666666666666667, 0.9666666666666667, 0.9666666666666667, 0.9666666666666667, 0.9666666666666667, 0.9666666666666667, 0.9666666666666667, 0.9666666666666667, 0.9666666666666667, 0.9666666666666667, 0.9666666666666667, 0.9666666666666667, 0.9666666666666667, 0.9666666666666667, 0.9666666666666667, 0.9666666666666667, 0.9666666666666667, 0.9666666666666667, 0.9666666666666667, 0.9666666666666667, 0.9666666666666667, 0.9666666666666667, 0.9666666666666667, 0.9666666666666667, 0.9666666666666667, 0.9666666666666667, 0.9666666666666667, 0.9666666666666667, 0.9666666666666667, 0.9666666666666667, 0.9666666666666667, 0.9666666666666667, 0.9666666666666667, 0.9733333333333333, 0.9733333333333333, 0.9733333333333333, 0.9733333333333333, 0.9733333333333333, 0.9733333333333333, 0.9733333333333333, 0.9733333333333333, 0.98, 0.98, 0.98, 0.98, 0.98, 0.98, 0.98, 0.98, 0.98, 0.98, 0.98, 0.98, 0.98, 0.98, 0.9866666666666667, 0.9866666666666667, 0.9866666666666667, 0.9866666666666667, 0.9866666666666667, 0.9866666666666667, 0.9866666666666667, 0.9866666666666667, 0.9866666666666667, 0.9866666666666667, 0.9866666666666667, 0.9866666666666667, 0.9866666666666667, 0.9866666666666667, 0.9866666666666667, 0.9866666666666667, 0.9866666666666667, 0.9866666666666667, 0.9866666666666667, 0.9866666666666667, 0.9866666666666667, 0.9866666666666667, 0.9866666666666667, 0.9866666666666667, 0.9866666666666667, 0.9866666666666667, 0.9866666666666667, 0.9866666666666667, 0.9866666666666667, 0.9866666666666667, 0.9866666666666667, 0.9866666666666667, 0.9866666666666667, 0.9866666666666667, 0.9866666666666667, 0.9866666666666667, 0.9866666666666667, 0.9866666666666667, 0.9866666666666667, 0.9866666666666667, 0.9866666666666667, 0.9866666666666667, 0.9866666666666667, 0.9866666666666667]}],\n",
              "                        {\"template\": {\"data\": {\"bar\": [{\"error_x\": {\"color\": \"#2a3f5f\"}, \"error_y\": {\"color\": \"#2a3f5f\"}, \"marker\": {\"line\": {\"color\": \"#E5ECF6\", \"width\": 0.5}}, \"type\": \"bar\"}], \"barpolar\": [{\"marker\": {\"line\": {\"color\": \"#E5ECF6\", \"width\": 0.5}}, \"type\": \"barpolar\"}], \"carpet\": [{\"aaxis\": {\"endlinecolor\": \"#2a3f5f\", \"gridcolor\": \"white\", \"linecolor\": \"white\", \"minorgridcolor\": \"white\", \"startlinecolor\": \"#2a3f5f\"}, \"baxis\": {\"endlinecolor\": \"#2a3f5f\", \"gridcolor\": \"white\", \"linecolor\": \"white\", \"minorgridcolor\": \"white\", \"startlinecolor\": \"#2a3f5f\"}, \"type\": \"carpet\"}], \"choropleth\": [{\"colorbar\": {\"outlinewidth\": 0, \"ticks\": \"\"}, \"type\": \"choropleth\"}], \"contour\": [{\"colorbar\": {\"outlinewidth\": 0, \"ticks\": \"\"}, \"colorscale\": [[0.0, \"#0d0887\"], [0.1111111111111111, \"#46039f\"], [0.2222222222222222, \"#7201a8\"], [0.3333333333333333, \"#9c179e\"], [0.4444444444444444, \"#bd3786\"], [0.5555555555555556, \"#d8576b\"], [0.6666666666666666, \"#ed7953\"], [0.7777777777777778, \"#fb9f3a\"], [0.8888888888888888, \"#fdca26\"], [1.0, \"#f0f921\"]], \"type\": \"contour\"}], \"contourcarpet\": [{\"colorbar\": {\"outlinewidth\": 0, \"ticks\": \"\"}, \"type\": \"contourcarpet\"}], \"heatmap\": [{\"colorbar\": {\"outlinewidth\": 0, \"ticks\": \"\"}, \"colorscale\": [[0.0, \"#0d0887\"], [0.1111111111111111, \"#46039f\"], [0.2222222222222222, \"#7201a8\"], [0.3333333333333333, \"#9c179e\"], [0.4444444444444444, \"#bd3786\"], [0.5555555555555556, \"#d8576b\"], [0.6666666666666666, \"#ed7953\"], [0.7777777777777778, \"#fb9f3a\"], [0.8888888888888888, \"#fdca26\"], [1.0, \"#f0f921\"]], \"type\": \"heatmap\"}], \"heatmapgl\": [{\"colorbar\": {\"outlinewidth\": 0, \"ticks\": \"\"}, \"colorscale\": [[0.0, \"#0d0887\"], [0.1111111111111111, \"#46039f\"], [0.2222222222222222, \"#7201a8\"], [0.3333333333333333, \"#9c179e\"], [0.4444444444444444, \"#bd3786\"], [0.5555555555555556, \"#d8576b\"], [0.6666666666666666, \"#ed7953\"], [0.7777777777777778, \"#fb9f3a\"], [0.8888888888888888, \"#fdca26\"], [1.0, \"#f0f921\"]], \"type\": \"heatmapgl\"}], \"histogram\": [{\"marker\": {\"colorbar\": {\"outlinewidth\": 0, \"ticks\": \"\"}}, \"type\": \"histogram\"}], \"histogram2d\": [{\"colorbar\": {\"outlinewidth\": 0, \"ticks\": \"\"}, \"colorscale\": [[0.0, \"#0d0887\"], [0.1111111111111111, \"#46039f\"], [0.2222222222222222, \"#7201a8\"], [0.3333333333333333, \"#9c179e\"], [0.4444444444444444, \"#bd3786\"], [0.5555555555555556, \"#d8576b\"], [0.6666666666666666, \"#ed7953\"], [0.7777777777777778, \"#fb9f3a\"], [0.8888888888888888, \"#fdca26\"], [1.0, \"#f0f921\"]], \"type\": \"histogram2d\"}], \"histogram2dcontour\": [{\"colorbar\": {\"outlinewidth\": 0, \"ticks\": \"\"}, \"colorscale\": [[0.0, \"#0d0887\"], [0.1111111111111111, \"#46039f\"], [0.2222222222222222, \"#7201a8\"], [0.3333333333333333, \"#9c179e\"], [0.4444444444444444, \"#bd3786\"], [0.5555555555555556, \"#d8576b\"], [0.6666666666666666, \"#ed7953\"], [0.7777777777777778, \"#fb9f3a\"], [0.8888888888888888, \"#fdca26\"], [1.0, \"#f0f921\"]], \"type\": \"histogram2dcontour\"}], \"mesh3d\": [{\"colorbar\": {\"outlinewidth\": 0, \"ticks\": \"\"}, \"type\": \"mesh3d\"}], \"parcoords\": [{\"line\": {\"colorbar\": {\"outlinewidth\": 0, \"ticks\": \"\"}}, \"type\": \"parcoords\"}], \"pie\": [{\"automargin\": true, \"type\": \"pie\"}], \"scatter\": [{\"marker\": {\"colorbar\": {\"outlinewidth\": 0, \"ticks\": \"\"}}, \"type\": \"scatter\"}], \"scatter3d\": [{\"line\": {\"colorbar\": {\"outlinewidth\": 0, \"ticks\": \"\"}}, \"marker\": {\"colorbar\": {\"outlinewidth\": 0, \"ticks\": \"\"}}, \"type\": \"scatter3d\"}], \"scattercarpet\": [{\"marker\": {\"colorbar\": {\"outlinewidth\": 0, \"ticks\": \"\"}}, \"type\": \"scattercarpet\"}], \"scattergeo\": [{\"marker\": {\"colorbar\": {\"outlinewidth\": 0, \"ticks\": \"\"}}, \"type\": \"scattergeo\"}], \"scattergl\": [{\"marker\": {\"colorbar\": {\"outlinewidth\": 0, \"ticks\": \"\"}}, \"type\": \"scattergl\"}], \"scattermapbox\": [{\"marker\": {\"colorbar\": {\"outlinewidth\": 0, \"ticks\": \"\"}}, \"type\": \"scattermapbox\"}], \"scatterpolar\": [{\"marker\": {\"colorbar\": {\"outlinewidth\": 0, \"ticks\": \"\"}}, \"type\": \"scatterpolar\"}], \"scatterpolargl\": [{\"marker\": {\"colorbar\": {\"outlinewidth\": 0, \"ticks\": \"\"}}, \"type\": \"scatterpolargl\"}], \"scatterternary\": [{\"marker\": {\"colorbar\": {\"outlinewidth\": 0, \"ticks\": \"\"}}, \"type\": \"scatterternary\"}], \"surface\": [{\"colorbar\": {\"outlinewidth\": 0, \"ticks\": \"\"}, \"colorscale\": [[0.0, \"#0d0887\"], [0.1111111111111111, \"#46039f\"], [0.2222222222222222, \"#7201a8\"], [0.3333333333333333, \"#9c179e\"], [0.4444444444444444, \"#bd3786\"], [0.5555555555555556, \"#d8576b\"], [0.6666666666666666, \"#ed7953\"], [0.7777777777777778, \"#fb9f3a\"], [0.8888888888888888, \"#fdca26\"], [1.0, \"#f0f921\"]], \"type\": \"surface\"}], \"table\": [{\"cells\": {\"fill\": {\"color\": \"#EBF0F8\"}, \"line\": {\"color\": \"white\"}}, \"header\": {\"fill\": {\"color\": \"#C8D4E3\"}, \"line\": {\"color\": \"white\"}}, \"type\": \"table\"}]}, \"layout\": {\"annotationdefaults\": {\"arrowcolor\": \"#2a3f5f\", \"arrowhead\": 0, \"arrowwidth\": 1}, \"coloraxis\": {\"colorbar\": {\"outlinewidth\": 0, \"ticks\": \"\"}}, \"colorscale\": {\"diverging\": [[0, \"#8e0152\"], [0.1, \"#c51b7d\"], [0.2, \"#de77ae\"], [0.3, \"#f1b6da\"], [0.4, \"#fde0ef\"], [0.5, \"#f7f7f7\"], [0.6, \"#e6f5d0\"], [0.7, \"#b8e186\"], [0.8, \"#7fbc41\"], [0.9, \"#4d9221\"], [1, \"#276419\"]], \"sequential\": [[0.0, \"#0d0887\"], [0.1111111111111111, \"#46039f\"], [0.2222222222222222, \"#7201a8\"], [0.3333333333333333, \"#9c179e\"], [0.4444444444444444, \"#bd3786\"], [0.5555555555555556, \"#d8576b\"], [0.6666666666666666, \"#ed7953\"], [0.7777777777777778, \"#fb9f3a\"], [0.8888888888888888, \"#fdca26\"], [1.0, \"#f0f921\"]], \"sequentialminus\": [[0.0, \"#0d0887\"], [0.1111111111111111, \"#46039f\"], [0.2222222222222222, \"#7201a8\"], [0.3333333333333333, \"#9c179e\"], [0.4444444444444444, \"#bd3786\"], [0.5555555555555556, \"#d8576b\"], [0.6666666666666666, \"#ed7953\"], [0.7777777777777778, \"#fb9f3a\"], [0.8888888888888888, \"#fdca26\"], [1.0, \"#f0f921\"]]}, \"colorway\": [\"#636efa\", \"#EF553B\", \"#00cc96\", \"#ab63fa\", \"#FFA15A\", \"#19d3f3\", \"#FF6692\", \"#B6E880\", \"#FF97FF\", \"#FECB52\"], \"font\": {\"color\": \"#2a3f5f\"}, \"geo\": {\"bgcolor\": \"white\", \"lakecolor\": \"white\", \"landcolor\": \"#E5ECF6\", \"showlakes\": true, \"showland\": true, \"subunitcolor\": \"white\"}, \"hoverlabel\": {\"align\": \"left\"}, \"hovermode\": \"closest\", \"mapbox\": {\"style\": \"light\"}, \"paper_bgcolor\": \"white\", \"plot_bgcolor\": \"#E5ECF6\", \"polar\": {\"angularaxis\": {\"gridcolor\": \"white\", \"linecolor\": \"white\", \"ticks\": \"\"}, \"bgcolor\": \"#E5ECF6\", \"radialaxis\": {\"gridcolor\": \"white\", \"linecolor\": \"white\", \"ticks\": \"\"}}, \"scene\": {\"xaxis\": {\"backgroundcolor\": \"#E5ECF6\", \"gridcolor\": \"white\", \"gridwidth\": 2, \"linecolor\": \"white\", \"showbackground\": true, \"ticks\": \"\", \"zerolinecolor\": \"white\"}, \"yaxis\": {\"backgroundcolor\": \"#E5ECF6\", \"gridcolor\": \"white\", \"gridwidth\": 2, \"linecolor\": \"white\", \"showbackground\": true, \"ticks\": \"\", \"zerolinecolor\": \"white\"}, \"zaxis\": {\"backgroundcolor\": \"#E5ECF6\", \"gridcolor\": \"white\", \"gridwidth\": 2, \"linecolor\": \"white\", \"showbackground\": true, \"ticks\": \"\", \"zerolinecolor\": \"white\"}}, \"shapedefaults\": {\"line\": {\"color\": \"#2a3f5f\"}}, \"ternary\": {\"aaxis\": {\"gridcolor\": \"white\", \"linecolor\": \"white\", \"ticks\": \"\"}, \"baxis\": {\"gridcolor\": \"white\", \"linecolor\": \"white\", \"ticks\": \"\"}, \"bgcolor\": \"#E5ECF6\", \"caxis\": {\"gridcolor\": \"white\", \"linecolor\": \"white\", \"ticks\": \"\"}}, \"title\": {\"x\": 0.05}, \"xaxis\": {\"automargin\": true, \"gridcolor\": \"white\", \"linecolor\": \"white\", \"ticks\": \"\", \"title\": {\"standoff\": 15}, \"zerolinecolor\": \"white\", \"zerolinewidth\": 2}, \"yaxis\": {\"automargin\": true, \"gridcolor\": \"white\", \"linecolor\": \"white\", \"ticks\": \"\", \"title\": {\"standoff\": 15}, \"zerolinecolor\": \"white\", \"zerolinewidth\": 2}}}, \"title\": {\"text\": \"Optimization History Plot\"}, \"xaxis\": {\"title\": {\"text\": \"#Trials\"}}, \"yaxis\": {\"title\": {\"text\": \"Objective Value\"}}},\n",
              "                        {\"responsive\": true}\n",
              "                    ).then(function(){\n",
              "                            \n",
              "var gd = document.getElementById('c32a551c-59ec-458b-889d-95c4f1b64bbf');\n",
              "var x = new MutationObserver(function (mutations, observer) {{\n",
              "        var display = window.getComputedStyle(gd).display;\n",
              "        if (!display || display === 'none') {{\n",
              "            console.log([gd, 'removed!']);\n",
              "            Plotly.purge(gd);\n",
              "            observer.disconnect();\n",
              "        }}\n",
              "}});\n",
              "\n",
              "// Listen for the removal of the full notebook cells\n",
              "var notebookContainer = gd.closest('#notebook-container');\n",
              "if (notebookContainer) {{\n",
              "    x.observe(notebookContainer, {childList: true});\n",
              "}}\n",
              "\n",
              "// Listen for the clearing of the current output cell\n",
              "var outputEl = gd.closest('.output');\n",
              "if (outputEl) {{\n",
              "    x.observe(outputEl, {childList: true});\n",
              "}}\n",
              "\n",
              "                        })\n",
              "                };\n",
              "                \n",
              "            </script>\n",
              "        </div>\n",
              "</body>\n",
              "</html>"
            ]
          },
          "metadata": {
            "tags": []
          }
        }
      ]
    },
    {
      "cell_type": "markdown",
      "metadata": {
        "id": "UYiUHGOhbKmG"
      },
      "source": [
        "Plotting the accuracies for each hyperparameter for each trial."
      ]
    },
    {
      "cell_type": "code",
      "metadata": {
        "colab": {
          "base_uri": "https://localhost:8080/",
          "height": 542
        },
        "id": "Gh2JPu5kbKHA",
        "outputId": "122a4522-a727-42ad-f9ef-4d73eb4fce2d"
      },
      "source": [
        "optuna.visualization.plot_slice(study)"
      ],
      "execution_count": null,
      "outputs": [
        {
          "output_type": "display_data",
          "data": {
            "text/html": [
              "<html>\n",
              "<head><meta charset=\"utf-8\" /></head>\n",
              "<body>\n",
              "    <div>\n",
              "            <script src=\"https://cdnjs.cloudflare.com/ajax/libs/mathjax/2.7.5/MathJax.js?config=TeX-AMS-MML_SVG\"></script><script type=\"text/javascript\">if (window.MathJax) {MathJax.Hub.Config({SVG: {font: \"STIX-Web\"}});}</script>\n",
              "                <script type=\"text/javascript\">window.PlotlyConfig = {MathJaxConfig: 'local'};</script>\n",
              "        <script src=\"https://cdn.plot.ly/plotly-latest.min.js\"></script>    \n",
              "            <div id=\"38d448d2-10c4-46de-b2d3-21d3a00dd0de\" class=\"plotly-graph-div\" style=\"height:525px; width:1200px;\"></div>\n",
              "            <script type=\"text/javascript\">\n",
              "                \n",
              "                    window.PLOTLYENV=window.PLOTLYENV || {};\n",
              "                    \n",
              "                if (document.getElementById(\"38d448d2-10c4-46de-b2d3-21d3a00dd0de\")) {\n",
              "                    Plotly.newPlot(\n",
              "                        '38d448d2-10c4-46de-b2d3-21d3a00dd0de',\n",
              "                        [{\"marker\": {\"color\": [0, 1, 2, 3, 4, 5, 6, 7, 8, 9, 10, 11, 12, 13, 14, 15, 16, 17, 18, 19, 20, 21, 22, 23, 24, 25, 26, 27, 28, 29, 30, 31, 32, 33, 34, 35, 36, 37, 38, 39, 40, 41, 42, 43, 44, 45, 46, 47, 48, 49, 50, 51, 52, 53, 54, 55, 56, 57, 58, 59, 60, 61, 62, 63, 64, 65, 66, 67, 68, 69, 70, 71, 72, 73, 74, 75, 76, 77, 78, 79, 80, 81, 82, 83, 84, 85, 86, 87, 88, 89, 90, 91, 92, 93, 94, 95, 96, 97, 98, 99], \"colorbar\": {\"title\": {\"text\": \"#Trials\"}, \"x\": 1.0, \"xpad\": 40}, \"colorscale\": [[0.0, \"rgb(247,251,255)\"], [0.125, \"rgb(222,235,247)\"], [0.25, \"rgb(198,219,239)\"], [0.375, \"rgb(158,202,225)\"], [0.5, \"rgb(107,174,214)\"], [0.625, \"rgb(66,146,198)\"], [0.75, \"rgb(33,113,181)\"], [0.875, \"rgb(8,81,156)\"], [1.0, \"rgb(8,48,107)\"]], \"line\": {\"color\": \"Grey\", \"width\": 0.5}, \"showscale\": true}, \"mode\": \"markers\", \"showlegend\": false, \"type\": \"scatter\", \"x\": [\"SVC\", \"RandomForest\", \"RandomForest\", \"RandomForest\", \"RandomForest\", \"RandomForest\", \"SVC\", \"RandomForest\", \"SVC\", \"RandomForest\", \"RandomForest\", \"RandomForest\", \"RandomForest\", \"RandomForest\", \"RandomForest\", \"RandomForest\", \"RandomForest\", \"SVC\", \"RandomForest\", \"RandomForest\", \"RandomForest\", \"RandomForest\", \"RandomForest\", \"RandomForest\", \"RandomForest\", \"RandomForest\", \"RandomForest\", \"SVC\", \"SVC\", \"SVC\", \"SVC\", \"SVC\", \"SVC\", \"SVC\", \"SVC\", \"SVC\", \"SVC\", \"SVC\", \"SVC\", \"SVC\", \"RandomForest\", \"SVC\", \"SVC\", \"SVC\", \"SVC\", \"SVC\", \"SVC\", \"SVC\", \"SVC\", \"SVC\", \"SVC\", \"SVC\", \"SVC\", \"SVC\", \"SVC\", \"SVC\", \"SVC\", \"SVC\", \"SVC\", \"SVC\", \"SVC\", \"SVC\", \"SVC\", \"SVC\", \"SVC\", \"SVC\", \"SVC\", \"SVC\", \"SVC\", \"SVC\", \"SVC\", \"SVC\", \"SVC\", \"SVC\", \"SVC\", \"SVC\", \"SVC\", \"SVC\", \"SVC\", \"SVC\", \"SVC\", \"SVC\", \"SVC\", \"SVC\", \"SVC\", \"SVC\", \"SVC\", \"SVC\", \"SVC\", \"SVC\", \"SVC\", \"SVC\", \"SVC\", \"SVC\", \"SVC\", \"SVC\", \"SVC\", \"SVC\", \"SVC\", \"SVC\"], \"xaxis\": \"x\", \"y\": [0.32, 0.9666666666666667, 0.96, 0.9333333333333332, 0.96, 0.9466666666666667, 0.96, 0.9199999999999999, 0.32, 0.9666666666666667, 0.96, 0.96, 0.96, 0.96, 0.9533333333333333, 0.96, 0.96, 0.96, 0.9533333333333333, 0.96, 0.6733333333333333, 0.9533333333333333, 0.9666666666666667, 0.96, 0.9466666666666667, 0.9666666666666667, 0.9666666666666667, 0.9666666666666667, 0.9666666666666667, 0.9666666666666667, 0.32, 0.96, 0.9666666666666667, 0.9666666666666667, 0.9733333333333333, 0.96, 0.32, 0.94, 0.32, 0.9533333333333333, 0.9533333333333333, 0.9733333333333333, 0.98, 0.96, 0.32, 0.96, 0.32, 0.9666666666666667, 0.96, 0.7799999999999999, 0.96, 0.7466666666666667, 0.9666666666666667, 0.98, 0.98, 0.98, 0.9866666666666667, 0.9733333333333333, 0.96, 0.9733333333333333, 0.9133333333333334, 0.9733333333333333, 0.96, 0.98, 0.96, 0.9466666666666667, 0.9733333333333333, 0.9666666666666667, 0.32, 0.94, 0.96, 0.9733333333333333, 0.9733333333333333, 0.98, 0.96, 0.96, 0.9866666666666667, 0.96, 0.96, 0.96, 0.98, 0.98, 0.32, 0.96, 0.9666666666666667, 0.98, 0.96, 0.9866666666666667, 0.32, 0.96, 0.96, 0.9733333333333333, 0.98, 0.96, 0.9733333333333333, 0.9666666666666667, 0.9466666666666667, 0.7533333333333333, 0.96, 0.9666666666666667], \"yaxis\": \"y\"}, {\"marker\": {\"color\": [1, 2, 3, 4, 5, 7, 9, 10, 11, 12, 13, 14, 15, 16, 18, 19, 20, 21, 22, 23, 24, 25, 26, 40], \"colorbar\": {\"title\": {\"text\": \"#Trials\"}, \"x\": 1.0, \"xpad\": 40}, \"colorscale\": [[0.0, \"rgb(247,251,255)\"], [0.125, \"rgb(222,235,247)\"], [0.25, \"rgb(198,219,239)\"], [0.375, \"rgb(158,202,225)\"], [0.5, \"rgb(107,174,214)\"], [0.625, \"rgb(66,146,198)\"], [0.75, \"rgb(33,113,181)\"], [0.875, \"rgb(8,81,156)\"], [1.0, \"rgb(8,48,107)\"]], \"line\": {\"color\": \"Grey\", \"width\": 0.5}, \"showscale\": false}, \"mode\": \"markers\", \"showlegend\": false, \"type\": \"scatter\", \"x\": [4.463018107137593, 9.881065935022777, 1.9157848682885572, 5.9956548055995045, 6.164351537769689, 1.2732120478313482, 7.797997218570534, 29.63195253624997, 15.846840219307404, 3.3074979096499133, 3.1575969482573476, 13.19920350463334, 3.490495508392455, 8.42314416935325, 18.539602364231335, 3.833302420806611, 1.6134513400722421, 25.315955182123172, 31.076688225346004, 2.2852048160482457, 8.653387809782936, 4.662119967274052, 5.428370596348453, 4.545326465521903], \"xaxis\": \"x2\", \"y\": [0.9666666666666667, 0.96, 0.9333333333333332, 0.96, 0.9466666666666667, 0.9199999999999999, 0.9666666666666667, 0.96, 0.96, 0.96, 0.96, 0.9533333333333333, 0.96, 0.96, 0.9533333333333333, 0.96, 0.6733333333333333, 0.9533333333333333, 0.9666666666666667, 0.96, 0.9466666666666667, 0.9666666666666667, 0.9666666666666667, 0.9533333333333333], \"yaxis\": \"y2\"}, {\"marker\": {\"color\": [1, 2, 3, 4, 5, 7, 9, 10, 11, 12, 13, 14, 15, 16, 18, 19, 20, 21, 22, 23, 24, 25, 26, 40], \"colorbar\": {\"title\": {\"text\": \"#Trials\"}, \"x\": 1.0, \"xpad\": 40}, \"colorscale\": [[0.0, \"rgb(247,251,255)\"], [0.125, \"rgb(222,235,247)\"], [0.25, \"rgb(198,219,239)\"], [0.375, \"rgb(158,202,225)\"], [0.5, \"rgb(107,174,214)\"], [0.625, \"rgb(66,146,198)\"], [0.75, \"rgb(33,113,181)\"], [0.875, \"rgb(8,81,156)\"], [1.0, \"rgb(8,48,107)\"]], \"line\": {\"color\": \"Grey\", \"width\": 0.5}, \"showscale\": false}, \"mode\": \"markers\", \"showlegend\": false, \"type\": \"scatter\", \"x\": [9, 3, 10, 20, 5, 15, 12, 7, 13, 10, 16, 8, 13, 18, 12, 8, 2, 6, 8, 10, 4, 9, 8, 9], \"xaxis\": \"x3\", \"y\": [0.9666666666666667, 0.96, 0.9333333333333332, 0.96, 0.9466666666666667, 0.9199999999999999, 0.9666666666666667, 0.96, 0.96, 0.96, 0.96, 0.9533333333333333, 0.96, 0.96, 0.9533333333333333, 0.96, 0.6733333333333333, 0.9533333333333333, 0.9666666666666667, 0.96, 0.9466666666666667, 0.9666666666666667, 0.9666666666666667, 0.9533333333333333], \"yaxis\": \"y3\"}, {\"marker\": {\"color\": [0, 6, 8, 17, 27, 28, 29, 30, 31, 32, 33, 34, 35, 36, 37, 38, 39, 41, 42, 43, 44, 45, 46, 47, 48, 49, 50, 51, 52, 53, 54, 55, 56, 57, 58, 59, 60, 61, 62, 63, 64, 65, 66, 67, 68, 69, 70, 71, 72, 73, 74, 75, 76, 77, 78, 79, 80, 81, 82, 83, 84, 85, 86, 87, 88, 89, 90, 91, 92, 93, 94, 95, 96, 97, 98, 99], \"colorbar\": {\"title\": {\"text\": \"#Trials\"}, \"x\": 1.0, \"xpad\": 40}, \"colorscale\": [[0.0, \"rgb(247,251,255)\"], [0.125, \"rgb(222,235,247)\"], [0.25, \"rgb(198,219,239)\"], [0.375, \"rgb(158,202,225)\"], [0.5, \"rgb(107,174,214)\"], [0.625, \"rgb(66,146,198)\"], [0.75, \"rgb(33,113,181)\"], [0.875, \"rgb(8,81,156)\"], [1.0, \"rgb(8,48,107)\"]], \"line\": {\"color\": \"Grey\", \"width\": 0.5}, \"showscale\": false}, \"mode\": \"markers\", \"showlegend\": false, \"type\": \"scatter\", \"x\": [1.5883665383285734e-10, 3711769.5022123763, 1.2868175068340535e-07, 2239192655.2248588, 0.4032996358754947, 0.7263405176016917, 0.4016932301780582, 4.237127126015354e-05, 157829.0679629375, 1.319563475299467, 0.8075192401152379, 3.3867884709944462, 2288.6371351074677, 0.0003377045452458061, 227.7487397370822, 0.006525304310059995, 486.24488161350814, 0.9760177836262313, 7.547131099024809, 77.03406834404659, 0.006735987039873751, 55468.18124078131, 1.989454061399658e-06, 18.180610671784102, 32.17637218994999, 0.03483758629980328, 8088.1209068016815, 0.024265638360458346, 18.402788381215473, 7.02799917600273, 7.770480818019741, 8.596083791757094, 3.9689603403405735, 12.076252504147313, 534.8701832638629, 15.126342560168881, 0.051638120540043, 13.081965692673224, 0.1906366599631523, 7.313657970450185, 7561.420080007684, 177.1836935394832, 2.866870907826329, 1.3857055860666734, 0.0010284371505441406, 0.0909855687067499, 1018.837927822254, 2.5070186096841724, 2.393507974927132, 5.74852199812291, 56.1083534858145, 0.44946011197498664, 4.195365163189386, 2826785560.288821, 136.79168606834472, 0.2285627959602521, 8.023039249030932, 5.755117355580593, 4.809026841112079e-10, 81.40419770865996, 0.5675148041192559, 7.460085417567201, 2294.509266682846, 4.6895518899231226, 0.0070522715581409845, 47223987.17626251, 82.00800834510191, 0.995137435354538, 5.73891173959934, 0.18847196330929308, 3.4106830208659082, 28.218839265890207, 425.1797771539335, 0.029021043651839516, 32.94518253230608, 0.7361735967876374], \"xaxis\": \"x4\", \"y\": [0.32, 0.96, 0.32, 0.96, 0.9666666666666667, 0.9666666666666667, 0.9666666666666667, 0.32, 0.96, 0.9666666666666667, 0.9666666666666667, 0.9733333333333333, 0.96, 0.32, 0.94, 0.32, 0.9533333333333333, 0.9733333333333333, 0.98, 0.96, 0.32, 0.96, 0.32, 0.9666666666666667, 0.96, 0.7799999999999999, 0.96, 0.7466666666666667, 0.9666666666666667, 0.98, 0.98, 0.98, 0.9866666666666667, 0.9733333333333333, 0.96, 0.9733333333333333, 0.9133333333333334, 0.9733333333333333, 0.96, 0.98, 0.96, 0.9466666666666667, 0.9733333333333333, 0.9666666666666667, 0.32, 0.94, 0.96, 0.9733333333333333, 0.9733333333333333, 0.98, 0.96, 0.96, 0.9866666666666667, 0.96, 0.96, 0.96, 0.98, 0.98, 0.32, 0.96, 0.9666666666666667, 0.98, 0.96, 0.9866666666666667, 0.32, 0.96, 0.96, 0.9733333333333333, 0.98, 0.96, 0.9733333333333333, 0.9666666666666667, 0.9466666666666667, 0.7533333333333333, 0.96, 0.9666666666666667], \"yaxis\": \"y4\"}],\n",
              "                        {\"template\": {\"data\": {\"bar\": [{\"error_x\": {\"color\": \"#2a3f5f\"}, \"error_y\": {\"color\": \"#2a3f5f\"}, \"marker\": {\"line\": {\"color\": \"#E5ECF6\", \"width\": 0.5}}, \"type\": \"bar\"}], \"barpolar\": [{\"marker\": {\"line\": {\"color\": \"#E5ECF6\", \"width\": 0.5}}, \"type\": \"barpolar\"}], \"carpet\": [{\"aaxis\": {\"endlinecolor\": \"#2a3f5f\", \"gridcolor\": \"white\", \"linecolor\": \"white\", \"minorgridcolor\": \"white\", \"startlinecolor\": \"#2a3f5f\"}, \"baxis\": {\"endlinecolor\": \"#2a3f5f\", \"gridcolor\": \"white\", \"linecolor\": \"white\", \"minorgridcolor\": \"white\", \"startlinecolor\": \"#2a3f5f\"}, \"type\": \"carpet\"}], \"choropleth\": [{\"colorbar\": {\"outlinewidth\": 0, \"ticks\": \"\"}, \"type\": \"choropleth\"}], \"contour\": [{\"colorbar\": {\"outlinewidth\": 0, \"ticks\": \"\"}, \"colorscale\": [[0.0, \"#0d0887\"], [0.1111111111111111, \"#46039f\"], [0.2222222222222222, \"#7201a8\"], [0.3333333333333333, \"#9c179e\"], [0.4444444444444444, \"#bd3786\"], [0.5555555555555556, \"#d8576b\"], [0.6666666666666666, \"#ed7953\"], [0.7777777777777778, \"#fb9f3a\"], [0.8888888888888888, \"#fdca26\"], [1.0, \"#f0f921\"]], \"type\": \"contour\"}], \"contourcarpet\": [{\"colorbar\": {\"outlinewidth\": 0, \"ticks\": \"\"}, \"type\": \"contourcarpet\"}], \"heatmap\": [{\"colorbar\": {\"outlinewidth\": 0, \"ticks\": \"\"}, \"colorscale\": [[0.0, \"#0d0887\"], [0.1111111111111111, \"#46039f\"], [0.2222222222222222, \"#7201a8\"], [0.3333333333333333, \"#9c179e\"], [0.4444444444444444, \"#bd3786\"], [0.5555555555555556, \"#d8576b\"], [0.6666666666666666, \"#ed7953\"], [0.7777777777777778, \"#fb9f3a\"], [0.8888888888888888, \"#fdca26\"], [1.0, \"#f0f921\"]], \"type\": \"heatmap\"}], \"heatmapgl\": [{\"colorbar\": {\"outlinewidth\": 0, \"ticks\": \"\"}, \"colorscale\": [[0.0, \"#0d0887\"], [0.1111111111111111, \"#46039f\"], [0.2222222222222222, \"#7201a8\"], [0.3333333333333333, \"#9c179e\"], [0.4444444444444444, \"#bd3786\"], [0.5555555555555556, \"#d8576b\"], [0.6666666666666666, \"#ed7953\"], [0.7777777777777778, \"#fb9f3a\"], [0.8888888888888888, \"#fdca26\"], [1.0, \"#f0f921\"]], \"type\": \"heatmapgl\"}], \"histogram\": [{\"marker\": {\"colorbar\": {\"outlinewidth\": 0, \"ticks\": \"\"}}, \"type\": \"histogram\"}], \"histogram2d\": [{\"colorbar\": {\"outlinewidth\": 0, \"ticks\": \"\"}, \"colorscale\": [[0.0, \"#0d0887\"], [0.1111111111111111, \"#46039f\"], [0.2222222222222222, \"#7201a8\"], [0.3333333333333333, \"#9c179e\"], [0.4444444444444444, \"#bd3786\"], [0.5555555555555556, \"#d8576b\"], [0.6666666666666666, \"#ed7953\"], [0.7777777777777778, \"#fb9f3a\"], [0.8888888888888888, \"#fdca26\"], [1.0, \"#f0f921\"]], \"type\": \"histogram2d\"}], \"histogram2dcontour\": [{\"colorbar\": {\"outlinewidth\": 0, \"ticks\": \"\"}, \"colorscale\": [[0.0, \"#0d0887\"], [0.1111111111111111, \"#46039f\"], [0.2222222222222222, \"#7201a8\"], [0.3333333333333333, \"#9c179e\"], [0.4444444444444444, \"#bd3786\"], [0.5555555555555556, \"#d8576b\"], [0.6666666666666666, \"#ed7953\"], [0.7777777777777778, \"#fb9f3a\"], [0.8888888888888888, \"#fdca26\"], [1.0, \"#f0f921\"]], \"type\": \"histogram2dcontour\"}], \"mesh3d\": [{\"colorbar\": {\"outlinewidth\": 0, \"ticks\": \"\"}, \"type\": \"mesh3d\"}], \"parcoords\": [{\"line\": {\"colorbar\": {\"outlinewidth\": 0, \"ticks\": \"\"}}, \"type\": \"parcoords\"}], \"pie\": [{\"automargin\": true, \"type\": \"pie\"}], \"scatter\": [{\"marker\": {\"colorbar\": {\"outlinewidth\": 0, \"ticks\": \"\"}}, \"type\": \"scatter\"}], \"scatter3d\": [{\"line\": {\"colorbar\": {\"outlinewidth\": 0, \"ticks\": \"\"}}, \"marker\": {\"colorbar\": {\"outlinewidth\": 0, \"ticks\": \"\"}}, \"type\": \"scatter3d\"}], \"scattercarpet\": [{\"marker\": {\"colorbar\": {\"outlinewidth\": 0, \"ticks\": \"\"}}, \"type\": \"scattercarpet\"}], \"scattergeo\": [{\"marker\": {\"colorbar\": {\"outlinewidth\": 0, \"ticks\": \"\"}}, \"type\": \"scattergeo\"}], \"scattergl\": [{\"marker\": {\"colorbar\": {\"outlinewidth\": 0, \"ticks\": \"\"}}, \"type\": \"scattergl\"}], \"scattermapbox\": [{\"marker\": {\"colorbar\": {\"outlinewidth\": 0, \"ticks\": \"\"}}, \"type\": \"scattermapbox\"}], \"scatterpolar\": [{\"marker\": {\"colorbar\": {\"outlinewidth\": 0, \"ticks\": \"\"}}, \"type\": \"scatterpolar\"}], \"scatterpolargl\": [{\"marker\": {\"colorbar\": {\"outlinewidth\": 0, \"ticks\": \"\"}}, \"type\": \"scatterpolargl\"}], \"scatterternary\": [{\"marker\": {\"colorbar\": {\"outlinewidth\": 0, \"ticks\": \"\"}}, \"type\": \"scatterternary\"}], \"surface\": [{\"colorbar\": {\"outlinewidth\": 0, \"ticks\": \"\"}, \"colorscale\": [[0.0, \"#0d0887\"], [0.1111111111111111, \"#46039f\"], [0.2222222222222222, \"#7201a8\"], [0.3333333333333333, \"#9c179e\"], [0.4444444444444444, \"#bd3786\"], [0.5555555555555556, \"#d8576b\"], [0.6666666666666666, \"#ed7953\"], [0.7777777777777778, \"#fb9f3a\"], [0.8888888888888888, \"#fdca26\"], [1.0, \"#f0f921\"]], \"type\": \"surface\"}], \"table\": [{\"cells\": {\"fill\": {\"color\": \"#EBF0F8\"}, \"line\": {\"color\": \"white\"}}, \"header\": {\"fill\": {\"color\": \"#C8D4E3\"}, \"line\": {\"color\": \"white\"}}, \"type\": \"table\"}]}, \"layout\": {\"annotationdefaults\": {\"arrowcolor\": \"#2a3f5f\", \"arrowhead\": 0, \"arrowwidth\": 1}, \"coloraxis\": {\"colorbar\": {\"outlinewidth\": 0, \"ticks\": \"\"}}, \"colorscale\": {\"diverging\": [[0, \"#8e0152\"], [0.1, \"#c51b7d\"], [0.2, \"#de77ae\"], [0.3, \"#f1b6da\"], [0.4, \"#fde0ef\"], [0.5, \"#f7f7f7\"], [0.6, \"#e6f5d0\"], [0.7, \"#b8e186\"], [0.8, \"#7fbc41\"], [0.9, \"#4d9221\"], [1, \"#276419\"]], \"sequential\": [[0.0, \"#0d0887\"], [0.1111111111111111, \"#46039f\"], [0.2222222222222222, \"#7201a8\"], [0.3333333333333333, \"#9c179e\"], [0.4444444444444444, \"#bd3786\"], [0.5555555555555556, \"#d8576b\"], [0.6666666666666666, \"#ed7953\"], [0.7777777777777778, \"#fb9f3a\"], [0.8888888888888888, \"#fdca26\"], [1.0, \"#f0f921\"]], \"sequentialminus\": [[0.0, \"#0d0887\"], [0.1111111111111111, \"#46039f\"], [0.2222222222222222, \"#7201a8\"], [0.3333333333333333, \"#9c179e\"], [0.4444444444444444, \"#bd3786\"], [0.5555555555555556, \"#d8576b\"], [0.6666666666666666, \"#ed7953\"], [0.7777777777777778, \"#fb9f3a\"], [0.8888888888888888, \"#fdca26\"], [1.0, \"#f0f921\"]]}, \"colorway\": [\"#636efa\", \"#EF553B\", \"#00cc96\", \"#ab63fa\", \"#FFA15A\", \"#19d3f3\", \"#FF6692\", \"#B6E880\", \"#FF97FF\", \"#FECB52\"], \"font\": {\"color\": \"#2a3f5f\"}, \"geo\": {\"bgcolor\": \"white\", \"lakecolor\": \"white\", \"landcolor\": \"#E5ECF6\", \"showlakes\": true, \"showland\": true, \"subunitcolor\": \"white\"}, \"hoverlabel\": {\"align\": \"left\"}, \"hovermode\": \"closest\", \"mapbox\": {\"style\": \"light\"}, \"paper_bgcolor\": \"white\", \"plot_bgcolor\": \"#E5ECF6\", \"polar\": {\"angularaxis\": {\"gridcolor\": \"white\", \"linecolor\": \"white\", \"ticks\": \"\"}, \"bgcolor\": \"#E5ECF6\", \"radialaxis\": {\"gridcolor\": \"white\", \"linecolor\": \"white\", \"ticks\": \"\"}}, \"scene\": {\"xaxis\": {\"backgroundcolor\": \"#E5ECF6\", \"gridcolor\": \"white\", \"gridwidth\": 2, \"linecolor\": \"white\", \"showbackground\": true, \"ticks\": \"\", \"zerolinecolor\": \"white\"}, \"yaxis\": {\"backgroundcolor\": \"#E5ECF6\", \"gridcolor\": \"white\", \"gridwidth\": 2, \"linecolor\": \"white\", \"showbackground\": true, \"ticks\": \"\", \"zerolinecolor\": \"white\"}, \"zaxis\": {\"backgroundcolor\": \"#E5ECF6\", \"gridcolor\": \"white\", \"gridwidth\": 2, \"linecolor\": \"white\", \"showbackground\": true, \"ticks\": \"\", \"zerolinecolor\": \"white\"}}, \"shapedefaults\": {\"line\": {\"color\": \"#2a3f5f\"}}, \"ternary\": {\"aaxis\": {\"gridcolor\": \"white\", \"linecolor\": \"white\", \"ticks\": \"\"}, \"baxis\": {\"gridcolor\": \"white\", \"linecolor\": \"white\", \"ticks\": \"\"}, \"bgcolor\": \"#E5ECF6\", \"caxis\": {\"gridcolor\": \"white\", \"linecolor\": \"white\", \"ticks\": \"\"}}, \"title\": {\"x\": 0.05}, \"xaxis\": {\"automargin\": true, \"gridcolor\": \"white\", \"linecolor\": \"white\", \"ticks\": \"\", \"title\": {\"standoff\": 15}, \"zerolinecolor\": \"white\", \"zerolinewidth\": 2}, \"yaxis\": {\"automargin\": true, \"gridcolor\": \"white\", \"linecolor\": \"white\", \"ticks\": \"\", \"title\": {\"standoff\": 15}, \"zerolinecolor\": \"white\", \"zerolinewidth\": 2}}}, \"title\": {\"text\": \"Slice Plot\"}, \"width\": 1200, \"xaxis\": {\"anchor\": \"y\", \"domain\": [0.0, 0.2125], \"title\": {\"text\": \"classifier\"}}, \"xaxis2\": {\"anchor\": \"y2\", \"domain\": [0.2625, 0.475], \"title\": {\"text\": \"max_depth\"}, \"type\": \"log\"}, \"xaxis3\": {\"anchor\": \"y3\", \"domain\": [0.525, 0.7375], \"title\": {\"text\": \"n_estimators\"}}, \"xaxis4\": {\"anchor\": \"y4\", \"domain\": [0.7875, 1.0], \"title\": {\"text\": \"svc_c\"}, \"type\": \"log\"}, \"yaxis\": {\"anchor\": \"x\", \"domain\": [0.0, 1.0], \"title\": {\"text\": \"Objective Value\"}}, \"yaxis2\": {\"anchor\": \"x2\", \"domain\": [0.0, 1.0], \"matches\": \"y\", \"showticklabels\": false}, \"yaxis3\": {\"anchor\": \"x3\", \"domain\": [0.0, 1.0], \"matches\": \"y\", \"showticklabels\": false}, \"yaxis4\": {\"anchor\": \"x4\", \"domain\": [0.0, 1.0], \"matches\": \"y\", \"showticklabels\": false}},\n",
              "                        {\"responsive\": true}\n",
              "                    ).then(function(){\n",
              "                            \n",
              "var gd = document.getElementById('38d448d2-10c4-46de-b2d3-21d3a00dd0de');\n",
              "var x = new MutationObserver(function (mutations, observer) {{\n",
              "        var display = window.getComputedStyle(gd).display;\n",
              "        if (!display || display === 'none') {{\n",
              "            console.log([gd, 'removed!']);\n",
              "            Plotly.purge(gd);\n",
              "            observer.disconnect();\n",
              "        }}\n",
              "}});\n",
              "\n",
              "// Listen for the removal of the full notebook cells\n",
              "var notebookContainer = gd.closest('#notebook-container');\n",
              "if (notebookContainer) {{\n",
              "    x.observe(notebookContainer, {childList: true});\n",
              "}}\n",
              "\n",
              "// Listen for the clearing of the current output cell\n",
              "var outputEl = gd.closest('.output');\n",
              "if (outputEl) {{\n",
              "    x.observe(outputEl, {childList: true});\n",
              "}}\n",
              "\n",
              "                        })\n",
              "                };\n",
              "                \n",
              "            </script>\n",
              "        </div>\n",
              "</body>\n",
              "</html>"
            ]
          },
          "metadata": {
            "tags": []
          }
        }
      ]
    },
    {
      "cell_type": "markdown",
      "metadata": {
        "id": "DVlbc1kkbRmK"
      },
      "source": [
        "Plotting the accuracy surface for the hyperparameters involved in the random forest model."
      ]
    },
    {
      "cell_type": "code",
      "metadata": {
        "colab": {
          "base_uri": "https://localhost:8080/",
          "height": 542
        },
        "id": "OF2sL2SXbUCE",
        "outputId": "462831fb-e96a-4f17-b404-a040fe0832df"
      },
      "source": [
        "optuna.visualization.plot_contour(study, params=['n_estimators', 'max_depth'])"
      ],
      "execution_count": null,
      "outputs": [
        {
          "output_type": "display_data",
          "data": {
            "text/html": [
              "<html>\n",
              "<head><meta charset=\"utf-8\" /></head>\n",
              "<body>\n",
              "    <div>\n",
              "            <script src=\"https://cdnjs.cloudflare.com/ajax/libs/mathjax/2.7.5/MathJax.js?config=TeX-AMS-MML_SVG\"></script><script type=\"text/javascript\">if (window.MathJax) {MathJax.Hub.Config({SVG: {font: \"STIX-Web\"}});}</script>\n",
              "                <script type=\"text/javascript\">window.PlotlyConfig = {MathJaxConfig: 'local'};</script>\n",
              "        <script src=\"https://cdn.plot.ly/plotly-latest.min.js\"></script>    \n",
              "            <div id=\"f398cba4-f7c1-4abc-9aaa-593a630e3f62\" class=\"plotly-graph-div\" style=\"height:525px; width:100%;\"></div>\n",
              "            <script type=\"text/javascript\">\n",
              "                \n",
              "                    window.PLOTLYENV=window.PLOTLYENV || {};\n",
              "                    \n",
              "                if (document.getElementById(\"f398cba4-f7c1-4abc-9aaa-593a630e3f62\")) {\n",
              "                    Plotly.newPlot(\n",
              "                        'f398cba4-f7c1-4abc-9aaa-593a630e3f62',\n",
              "                        [{\"colorbar\": {\"title\": {\"text\": \"Objective Value\"}}, \"colorscale\": [[0, \"rgb(220,220,220)\"], [0.30000000000000004, \"rgb(106,137,247)\"], [0.4, \"rgb(90,120,245)\"], [0.5, \"rgb(70,100,245)\"], [0.65, \"rgb(40,60,190)\"], [1, \"rgb(5,10,172)\"]], \"connectgaps\": true, \"contours\": {\"coloring\": \"heatmap\"}, \"hoverinfo\": \"none\", \"line\": {\"smoothing\": 1.3}, \"type\": \"contour\", \"x\": [1.0852356201037232, 1.2732120478313482, 1.6134513400722421, 1.9157848682885572, 2.2852048160482457, 3.1575969482573476, 3.3074979096499133, 3.490495508392455, 3.833302420806611, 4.463018107137593, 4.545326465521903, 4.662119967274052, 5.428370596348453, 5.9956548055995045, 6.164351537769689, 7.797997218570534, 8.42314416935325, 8.653387809782936, 9.881065935022777, 13.19920350463334, 15.846840219307404, 18.539602364231335, 25.315955182123172, 29.63195253624997, 31.076688225346004, 36.45956059885634], \"y\": [1.1, 2, 3, 4, 5, 6, 7, 8, 9, 10, 12, 13, 15, 16, 18, 20, 20.9], \"z\": [[null, null, null, null, null, null, null, null, null, null, null, null, null, null, null, null, null, null, null, null, null, null, null, null, null, null], [null, null, 0.6733333333333333, null, null, null, null, null, null, null, null, null, null, null, null, null, null, null, null, null, null, null, null, null, null, null], [null, null, null, null, null, null, null, null, null, null, null, null, null, null, null, null, null, null, 0.96, null, null, null, null, null, null, null], [null, null, null, null, null, null, null, null, null, null, null, null, null, null, null, null, null, 0.9466666666666667, null, null, null, null, null, null, null, null], [null, null, null, null, null, null, null, null, null, null, null, null, null, null, 0.9466666666666667, null, null, null, null, null, null, null, null, null, null, null], [null, null, null, null, null, null, null, null, null, null, null, null, null, null, null, null, null, null, null, null, null, null, 0.9533333333333333, null, null, null], [null, null, null, null, null, null, null, null, null, null, null, null, null, null, null, null, null, null, null, null, null, null, null, 0.96, null, null], [null, null, null, null, null, null, null, null, 0.96, null, null, null, 0.9666666666666667, null, null, null, null, null, null, 0.9533333333333333, null, null, null, null, 0.9666666666666667, null], [null, null, null, null, null, null, null, null, null, 0.9666666666666667, 0.9533333333333333, 0.9666666666666667, null, null, null, null, null, null, null, null, null, null, null, null, null, null], [null, null, null, 0.9333333333333332, 0.96, null, 0.96, null, null, null, null, null, null, null, null, null, null, null, null, null, null, null, null, null, null, null], [null, null, null, null, null, null, null, null, null, null, null, null, null, null, null, 0.9666666666666667, null, null, null, null, null, 0.9533333333333333, null, null, null, null], [null, null, null, null, null, null, null, 0.96, null, null, null, null, null, null, null, null, null, null, null, null, 0.96, null, null, null, null, null], [null, 0.9199999999999999, null, null, null, null, null, null, null, null, null, null, null, null, null, null, null, null, null, null, null, null, null, null, null, null], [null, null, null, null, null, 0.96, null, null, null, null, null, null, null, null, null, null, null, null, null, null, null, null, null, null, null, null], [null, null, null, null, null, null, null, null, null, null, null, null, null, null, null, null, 0.96, null, null, null, null, null, null, null, null, null], [null, null, null, null, null, null, null, null, null, null, null, null, null, 0.96, null, null, null, null, null, null, null, null, null, null, null, null], [null, null, null, null, null, null, null, null, null, null, null, null, null, null, null, null, null, null, null, null, null, null, null, null, null, null]]}, {\"marker\": {\"color\": \"black\", \"line\": {\"color\": \"Grey\", \"width\": 0.5}}, \"mode\": \"markers\", \"showlegend\": false, \"type\": \"scatter\", \"x\": [4.463018107137593, 9.881065935022777, 1.9157848682885572, 5.9956548055995045, 6.164351537769689, 1.2732120478313482, 7.797997218570534, 29.63195253624997, 15.846840219307404, 3.3074979096499133, 3.1575969482573476, 13.19920350463334, 3.490495508392455, 8.42314416935325, 18.539602364231335, 3.833302420806611, 1.6134513400722421, 25.315955182123172, 31.076688225346004, 2.2852048160482457, 8.653387809782936, 4.662119967274052, 5.428370596348453, 4.545326465521903], \"y\": [9, 3, 10, 20, 5, 15, 12, 7, 13, 10, 16, 8, 13, 18, 12, 8, 2, 6, 8, 10, 4, 9, 8, 9]}],\n",
              "                        {\"template\": {\"data\": {\"bar\": [{\"error_x\": {\"color\": \"#2a3f5f\"}, \"error_y\": {\"color\": \"#2a3f5f\"}, \"marker\": {\"line\": {\"color\": \"#E5ECF6\", \"width\": 0.5}}, \"type\": \"bar\"}], \"barpolar\": [{\"marker\": {\"line\": {\"color\": \"#E5ECF6\", \"width\": 0.5}}, \"type\": \"barpolar\"}], \"carpet\": [{\"aaxis\": {\"endlinecolor\": \"#2a3f5f\", \"gridcolor\": \"white\", \"linecolor\": \"white\", \"minorgridcolor\": \"white\", \"startlinecolor\": \"#2a3f5f\"}, \"baxis\": {\"endlinecolor\": \"#2a3f5f\", \"gridcolor\": \"white\", \"linecolor\": \"white\", \"minorgridcolor\": \"white\", \"startlinecolor\": \"#2a3f5f\"}, \"type\": \"carpet\"}], \"choropleth\": [{\"colorbar\": {\"outlinewidth\": 0, \"ticks\": \"\"}, \"type\": \"choropleth\"}], \"contour\": [{\"colorbar\": {\"outlinewidth\": 0, \"ticks\": \"\"}, \"colorscale\": [[0.0, \"#0d0887\"], [0.1111111111111111, \"#46039f\"], [0.2222222222222222, \"#7201a8\"], [0.3333333333333333, \"#9c179e\"], [0.4444444444444444, \"#bd3786\"], [0.5555555555555556, \"#d8576b\"], [0.6666666666666666, \"#ed7953\"], [0.7777777777777778, \"#fb9f3a\"], [0.8888888888888888, \"#fdca26\"], [1.0, \"#f0f921\"]], \"type\": \"contour\"}], \"contourcarpet\": [{\"colorbar\": {\"outlinewidth\": 0, \"ticks\": \"\"}, \"type\": \"contourcarpet\"}], \"heatmap\": [{\"colorbar\": {\"outlinewidth\": 0, \"ticks\": \"\"}, \"colorscale\": [[0.0, \"#0d0887\"], [0.1111111111111111, \"#46039f\"], [0.2222222222222222, \"#7201a8\"], [0.3333333333333333, \"#9c179e\"], [0.4444444444444444, \"#bd3786\"], [0.5555555555555556, \"#d8576b\"], [0.6666666666666666, \"#ed7953\"], [0.7777777777777778, \"#fb9f3a\"], [0.8888888888888888, \"#fdca26\"], [1.0, \"#f0f921\"]], \"type\": \"heatmap\"}], \"heatmapgl\": [{\"colorbar\": {\"outlinewidth\": 0, \"ticks\": \"\"}, \"colorscale\": [[0.0, \"#0d0887\"], [0.1111111111111111, \"#46039f\"], [0.2222222222222222, \"#7201a8\"], [0.3333333333333333, \"#9c179e\"], [0.4444444444444444, \"#bd3786\"], [0.5555555555555556, \"#d8576b\"], [0.6666666666666666, \"#ed7953\"], [0.7777777777777778, \"#fb9f3a\"], [0.8888888888888888, \"#fdca26\"], [1.0, \"#f0f921\"]], \"type\": \"heatmapgl\"}], \"histogram\": [{\"marker\": {\"colorbar\": {\"outlinewidth\": 0, \"ticks\": \"\"}}, \"type\": \"histogram\"}], \"histogram2d\": [{\"colorbar\": {\"outlinewidth\": 0, \"ticks\": \"\"}, \"colorscale\": [[0.0, \"#0d0887\"], [0.1111111111111111, \"#46039f\"], [0.2222222222222222, \"#7201a8\"], [0.3333333333333333, \"#9c179e\"], [0.4444444444444444, \"#bd3786\"], [0.5555555555555556, \"#d8576b\"], [0.6666666666666666, \"#ed7953\"], [0.7777777777777778, \"#fb9f3a\"], [0.8888888888888888, \"#fdca26\"], [1.0, \"#f0f921\"]], \"type\": \"histogram2d\"}], \"histogram2dcontour\": [{\"colorbar\": {\"outlinewidth\": 0, \"ticks\": \"\"}, \"colorscale\": [[0.0, \"#0d0887\"], [0.1111111111111111, \"#46039f\"], [0.2222222222222222, \"#7201a8\"], [0.3333333333333333, \"#9c179e\"], [0.4444444444444444, \"#bd3786\"], [0.5555555555555556, \"#d8576b\"], [0.6666666666666666, \"#ed7953\"], [0.7777777777777778, \"#fb9f3a\"], [0.8888888888888888, \"#fdca26\"], [1.0, \"#f0f921\"]], \"type\": \"histogram2dcontour\"}], \"mesh3d\": [{\"colorbar\": {\"outlinewidth\": 0, \"ticks\": \"\"}, \"type\": \"mesh3d\"}], \"parcoords\": [{\"line\": {\"colorbar\": {\"outlinewidth\": 0, \"ticks\": \"\"}}, \"type\": \"parcoords\"}], \"pie\": [{\"automargin\": true, \"type\": \"pie\"}], \"scatter\": [{\"marker\": {\"colorbar\": {\"outlinewidth\": 0, \"ticks\": \"\"}}, \"type\": \"scatter\"}], \"scatter3d\": [{\"line\": {\"colorbar\": {\"outlinewidth\": 0, \"ticks\": \"\"}}, \"marker\": {\"colorbar\": {\"outlinewidth\": 0, \"ticks\": \"\"}}, \"type\": \"scatter3d\"}], \"scattercarpet\": [{\"marker\": {\"colorbar\": {\"outlinewidth\": 0, \"ticks\": \"\"}}, \"type\": \"scattercarpet\"}], \"scattergeo\": [{\"marker\": {\"colorbar\": {\"outlinewidth\": 0, \"ticks\": \"\"}}, \"type\": \"scattergeo\"}], \"scattergl\": [{\"marker\": {\"colorbar\": {\"outlinewidth\": 0, \"ticks\": \"\"}}, \"type\": \"scattergl\"}], \"scattermapbox\": [{\"marker\": {\"colorbar\": {\"outlinewidth\": 0, \"ticks\": \"\"}}, \"type\": \"scattermapbox\"}], \"scatterpolar\": [{\"marker\": {\"colorbar\": {\"outlinewidth\": 0, \"ticks\": \"\"}}, \"type\": \"scatterpolar\"}], \"scatterpolargl\": [{\"marker\": {\"colorbar\": {\"outlinewidth\": 0, \"ticks\": \"\"}}, \"type\": \"scatterpolargl\"}], \"scatterternary\": [{\"marker\": {\"colorbar\": {\"outlinewidth\": 0, \"ticks\": \"\"}}, \"type\": \"scatterternary\"}], \"surface\": [{\"colorbar\": {\"outlinewidth\": 0, \"ticks\": \"\"}, \"colorscale\": [[0.0, \"#0d0887\"], [0.1111111111111111, \"#46039f\"], [0.2222222222222222, \"#7201a8\"], [0.3333333333333333, \"#9c179e\"], [0.4444444444444444, \"#bd3786\"], [0.5555555555555556, \"#d8576b\"], [0.6666666666666666, \"#ed7953\"], [0.7777777777777778, \"#fb9f3a\"], [0.8888888888888888, \"#fdca26\"], [1.0, \"#f0f921\"]], \"type\": \"surface\"}], \"table\": [{\"cells\": {\"fill\": {\"color\": \"#EBF0F8\"}, \"line\": {\"color\": \"white\"}}, \"header\": {\"fill\": {\"color\": \"#C8D4E3\"}, \"line\": {\"color\": \"white\"}}, \"type\": \"table\"}]}, \"layout\": {\"annotationdefaults\": {\"arrowcolor\": \"#2a3f5f\", \"arrowhead\": 0, \"arrowwidth\": 1}, \"coloraxis\": {\"colorbar\": {\"outlinewidth\": 0, \"ticks\": \"\"}}, \"colorscale\": {\"diverging\": [[0, \"#8e0152\"], [0.1, \"#c51b7d\"], [0.2, \"#de77ae\"], [0.3, \"#f1b6da\"], [0.4, \"#fde0ef\"], [0.5, \"#f7f7f7\"], [0.6, \"#e6f5d0\"], [0.7, \"#b8e186\"], [0.8, \"#7fbc41\"], [0.9, \"#4d9221\"], [1, \"#276419\"]], \"sequential\": [[0.0, \"#0d0887\"], [0.1111111111111111, \"#46039f\"], [0.2222222222222222, \"#7201a8\"], [0.3333333333333333, \"#9c179e\"], [0.4444444444444444, \"#bd3786\"], [0.5555555555555556, \"#d8576b\"], [0.6666666666666666, \"#ed7953\"], [0.7777777777777778, \"#fb9f3a\"], [0.8888888888888888, \"#fdca26\"], [1.0, \"#f0f921\"]], \"sequentialminus\": [[0.0, \"#0d0887\"], [0.1111111111111111, \"#46039f\"], [0.2222222222222222, \"#7201a8\"], [0.3333333333333333, \"#9c179e\"], [0.4444444444444444, \"#bd3786\"], [0.5555555555555556, \"#d8576b\"], [0.6666666666666666, \"#ed7953\"], [0.7777777777777778, \"#fb9f3a\"], [0.8888888888888888, \"#fdca26\"], [1.0, \"#f0f921\"]]}, \"colorway\": [\"#636efa\", \"#EF553B\", \"#00cc96\", \"#ab63fa\", \"#FFA15A\", \"#19d3f3\", \"#FF6692\", \"#B6E880\", \"#FF97FF\", \"#FECB52\"], \"font\": {\"color\": \"#2a3f5f\"}, \"geo\": {\"bgcolor\": \"white\", \"lakecolor\": \"white\", \"landcolor\": \"#E5ECF6\", \"showlakes\": true, \"showland\": true, \"subunitcolor\": \"white\"}, \"hoverlabel\": {\"align\": \"left\"}, \"hovermode\": \"closest\", \"mapbox\": {\"style\": \"light\"}, \"paper_bgcolor\": \"white\", \"plot_bgcolor\": \"#E5ECF6\", \"polar\": {\"angularaxis\": {\"gridcolor\": \"white\", \"linecolor\": \"white\", \"ticks\": \"\"}, \"bgcolor\": \"#E5ECF6\", \"radialaxis\": {\"gridcolor\": \"white\", \"linecolor\": \"white\", \"ticks\": \"\"}}, \"scene\": {\"xaxis\": {\"backgroundcolor\": \"#E5ECF6\", \"gridcolor\": \"white\", \"gridwidth\": 2, \"linecolor\": \"white\", \"showbackground\": true, \"ticks\": \"\", \"zerolinecolor\": \"white\"}, \"yaxis\": {\"backgroundcolor\": \"#E5ECF6\", \"gridcolor\": \"white\", \"gridwidth\": 2, \"linecolor\": \"white\", \"showbackground\": true, \"ticks\": \"\", \"zerolinecolor\": \"white\"}, \"zaxis\": {\"backgroundcolor\": \"#E5ECF6\", \"gridcolor\": \"white\", \"gridwidth\": 2, \"linecolor\": \"white\", \"showbackground\": true, \"ticks\": \"\", \"zerolinecolor\": \"white\"}}, \"shapedefaults\": {\"line\": {\"color\": \"#2a3f5f\"}}, \"ternary\": {\"aaxis\": {\"gridcolor\": \"white\", \"linecolor\": \"white\", \"ticks\": \"\"}, \"baxis\": {\"gridcolor\": \"white\", \"linecolor\": \"white\", \"ticks\": \"\"}, \"bgcolor\": \"#E5ECF6\", \"caxis\": {\"gridcolor\": \"white\", \"linecolor\": \"white\", \"ticks\": \"\"}}, \"title\": {\"x\": 0.05}, \"xaxis\": {\"automargin\": true, \"gridcolor\": \"white\", \"linecolor\": \"white\", \"ticks\": \"\", \"title\": {\"standoff\": 15}, \"zerolinecolor\": \"white\", \"zerolinewidth\": 2}, \"yaxis\": {\"automargin\": true, \"gridcolor\": \"white\", \"linecolor\": \"white\", \"ticks\": \"\", \"title\": {\"standoff\": 15}, \"zerolinecolor\": \"white\", \"zerolinewidth\": 2}}}, \"title\": {\"text\": \"Contour Plot\"}, \"xaxis\": {\"range\": [0.03552403993715675, 1.5618114303463315], \"title\": {\"text\": \"max_depth\"}, \"type\": \"log\"}, \"yaxis\": {\"range\": [1.1, 20.9], \"title\": {\"text\": \"n_estimators\"}}},\n",
              "                        {\"responsive\": true}\n",
              "                    ).then(function(){\n",
              "                            \n",
              "var gd = document.getElementById('f398cba4-f7c1-4abc-9aaa-593a630e3f62');\n",
              "var x = new MutationObserver(function (mutations, observer) {{\n",
              "        var display = window.getComputedStyle(gd).display;\n",
              "        if (!display || display === 'none') {{\n",
              "            console.log([gd, 'removed!']);\n",
              "            Plotly.purge(gd);\n",
              "            observer.disconnect();\n",
              "        }}\n",
              "}});\n",
              "\n",
              "// Listen for the removal of the full notebook cells\n",
              "var notebookContainer = gd.closest('#notebook-container');\n",
              "if (notebookContainer) {{\n",
              "    x.observe(notebookContainer, {childList: true});\n",
              "}}\n",
              "\n",
              "// Listen for the clearing of the current output cell\n",
              "var outputEl = gd.closest('.output');\n",
              "if (outputEl) {{\n",
              "    x.observe(outputEl, {childList: true});\n",
              "}}\n",
              "\n",
              "                        })\n",
              "                };\n",
              "                \n",
              "            </script>\n",
              "        </div>\n",
              "</body>\n",
              "</html>"
            ]
          },
          "metadata": {
            "tags": []
          }
        }
      ]
    },
    {
      "cell_type": "markdown",
      "metadata": {
        "id": "yaGDCD1d-xow"
      },
      "source": [
        "# Exercises"
      ]
    },
    {
      "cell_type": "markdown",
      "metadata": {
        "id": "24qV5tdxN43O"
      },
      "source": [
        "## Task 1\r\n",
        "a) Prove that set of positive definite matrices $S^n_{++}$ is convex"
      ]
    },
    {
      "cell_type": "markdown",
      "metadata": {
        "id": "KRpQhcDUN_7p"
      },
      "source": [
        "b) Prove that $f(x) = |x|$ is convex function"
      ]
    },
    {
      "cell_type": "markdown",
      "metadata": {
        "id": "m8JL2ZBtOBiV"
      },
      "source": [
        "с) Find then $f(x) = x^T A x$ is strongly convex and find strong convexity constant "
      ]
    },
    {
      "cell_type": "markdown",
      "metadata": {
        "id": "tx5kg5wfN_2p"
      },
      "source": [
        "d) $l_2$ regularization is a common technique in machine learning. And it has interesting optimization explanation: adding $l_2$ regularization to a convex function $f(x)$ makes $g(x) = f(x) + \\mu \\|x\\|_2$ - strongly convex function. Your task is to prove this statement.\r\n",
        "\r\n",
        "Prove, that adding $\\lambda \\|x\\|_2^2$ to any convex function $f(x)$ ensures strong convexity of a resulting function $g(x) = f(x) + \\lambda \\|x\\|_2^2$. Find the constant of the strong convexity $\\mu$."
      ]
    },
    {
      "cell_type": "markdown",
      "metadata": {
        "id": "e0fh1jB4f6zP"
      },
      "source": [
        "## Task 2"
      ]
    },
    {
      "cell_type": "markdown",
      "metadata": {
        "id": "_9vMyrN-gTbp"
      },
      "source": [
        "Implement Rastrigin function $f: \\mathbb{R}^d \\to \\mathbb{R}$ for d = 10. [link](https://www.sfu.ca/~ssurjano/rastr.html)\r\n",
        "\r\n",
        "$$\r\n",
        "f(\\mathbf{x})=10 d+\\sum_{i=1}^{d}\\left[x_{i}^{2}-10 \\cos \\left(2 \\pi x_{i}\\right)\\right]\r\n",
        "$$\r\n",
        "\r\n",
        "\r\n",
        "\r\n",
        "\r\n",
        "\r\n",
        "\r\n"
      ]
    },
    {
      "cell_type": "code",
      "metadata": {
        "id": "6u93VkD4yA2_"
      },
      "source": [
        "def rast():\r\n",
        "    pass"
      ],
      "execution_count": null,
      "outputs": []
    },
    {
      "cell_type": "code",
      "metadata": {
        "id": "r5FLgOypgguB"
      },
      "source": [
        "def optimize():\r\n",
        "    pass"
      ],
      "execution_count": null,
      "outputs": []
    },
    {
      "cell_type": "markdown",
      "metadata": {
        "id": "QOUccUw_j40s"
      },
      "source": [
        "* Consider global optimization from [here](https://docs.scipy.org/doc/scipy/reference/optimize.html#global-optimization).\r\n",
        "* Plot 4 graphs for different $d$ from {10, 100, 1000, 10000}. On each graph you are to plot $f$ from $N_{fev}$ for 5 methods: `basinhopping`, `brute`, `differential_evolution`, `shgo`, `dual_annealing` from scipy, where $N_{fev}$ - the number of function evaluations. This information is usually avalable from `specific_optimizer.nfev`. If you will need bounds for the optimizer, use $x_i \\in [-5, 5]$."
      ]
    },
    {
      "cell_type": "code",
      "metadata": {
        "id": "L4jYyDX5lNXg"
      },
      "source": [
        "### YOUR CODE\r\n"
      ],
      "execution_count": null,
      "outputs": []
    },
    {
      "cell_type": "markdown",
      "metadata": {
        "id": "GtHlftDhtO0T"
      },
      "source": [
        "## Task 3"
      ]
    },
    {
      "cell_type": "markdown",
      "metadata": {
        "id": "V3oQMTTIXiAp"
      },
      "source": [
        "Machine learning models often have hyperparameters. To choose optimal one between them one can use GridSearch or RandomSearch. But these algorithms computationally uneffective and don't use any sort of information about type of optimized function. To overcome this problem one can use\r\n",
        "[bayesian optimization](https://distill.pub/2020/bayesian-optimization/). Using this method we optimize our model by sequentially chosing points based on prior information about function. ![Image](https://www.resibots.eu/limbo/_images/bo_concept.png)"
      ]
    },
    {
      "cell_type": "markdown",
      "metadata": {
        "id": "VMk8V6kv3Jc-"
      },
      "source": [
        "In this task you will use [optuna](https://optuna.org/) package for hyperparameter optimization RandomForestClassifier. Your task is to find best Random Forest model varying at least 3 hyperparameters on iris dataset. Examples can be find [here](https://optuna.org/#code_examples) or [here](www.kaggle.com/dixhom/bayesian-optimization-with-optuna-stacking/)"
      ]
    },
    {
      "cell_type": "code",
      "metadata": {
        "id": "Avx02-VI4hyM"
      },
      "source": [
        "!pip install optuna"
      ],
      "execution_count": null,
      "outputs": []
    },
    {
      "cell_type": "code",
      "metadata": {
        "id": "Qlw7r7lADmGW"
      },
      "source": [
        "import sklearn.datasets\r\n",
        "import sklearn.ensemble\r\n",
        "import sklearn.model_selection\r\n",
        "import sklearn.svm\r\n",
        "\r\n",
        "import optuna"
      ],
      "execution_count": null,
      "outputs": []
    },
    {
      "cell_type": "code",
      "metadata": {
        "id": "f5rHUfa-DnFC"
      },
      "source": [
        "iris = sklearn.datasets.load_iris()\r\n",
        "x, y = iris.data, iris.target"
      ],
      "execution_count": null,
      "outputs": []
    },
    {
      "cell_type": "code",
      "metadata": {
        "id": "yG2ox5Y24dTt"
      },
      "source": [
        "def objective():\r\n",
        "    pass"
      ],
      "execution_count": null,
      "outputs": []
    },
    {
      "cell_type": "code",
      "metadata": {
        "id": "Kx2MsLLi4gVd"
      },
      "source": [
        "### Optimization"
      ],
      "execution_count": null,
      "outputs": []
    },
    {
      "cell_type": "markdown",
      "metadata": {
        "id": "bSPaPDQkaTk0"
      },
      "source": [
        "# Materials"
      ]
    },
    {
      "cell_type": "markdown",
      "metadata": {
        "id": "ykAl6yqoaWJb"
      },
      "source": [
        "* [ZOOpt](https://github.com/eyounx/ZOOpt) A python package of Zeroth-Order Optimization\r\n",
        "* [Nevergrad](https://github.com/facebookresearch/nevergrad) A Python toolbox for performing gradient-free optimization\r\n",
        "* [Optuna](https://colab.research.google.com/github/optuna/optuna/blob/master/examples/quickstart.ipynb) tutorial."
      ]
    }
  ]
}