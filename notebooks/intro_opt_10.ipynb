{
  "nbformat": 4,
  "nbformat_minor": 0,
  "metadata": {
    "colab": {
      "name": "intro_opt_10.ipynb",
      "provenance": [],
      "collapsed_sections": [],
      "toc_visible": true
    },
    "kernelspec": {
      "name": "python3",
      "display_name": "Python 3"
    },
    "widgets": {
      "application/vnd.jupyter.widget-state+json": {
        "016fc764facd4653a3c276d34bf6c2a0": {
          "model_module": "@jupyter-widgets/controls",
          "model_name": "HBoxModel",
          "state": {
            "_view_name": "HBoxView",
            "_dom_classes": [],
            "_model_name": "HBoxModel",
            "_view_module": "@jupyter-widgets/controls",
            "_model_module_version": "1.5.0",
            "_view_count": null,
            "_view_module_version": "1.5.0",
            "box_style": "",
            "layout": "IPY_MODEL_673edb971ecf45e19e9cd977aa6a6767",
            "_model_module": "@jupyter-widgets/controls",
            "children": [
              "IPY_MODEL_d5dc73a93a4d4123b87648a7a2e68457",
              "IPY_MODEL_066666271a7b4e329169dae530dec748"
            ]
          }
        },
        "673edb971ecf45e19e9cd977aa6a6767": {
          "model_module": "@jupyter-widgets/base",
          "model_name": "LayoutModel",
          "state": {
            "_view_name": "LayoutView",
            "grid_template_rows": null,
            "right": null,
            "justify_content": null,
            "_view_module": "@jupyter-widgets/base",
            "overflow": null,
            "_model_module_version": "1.2.0",
            "_view_count": null,
            "flex_flow": null,
            "width": null,
            "min_width": null,
            "border": null,
            "align_items": null,
            "bottom": null,
            "_model_module": "@jupyter-widgets/base",
            "top": null,
            "grid_column": null,
            "overflow_y": null,
            "overflow_x": null,
            "grid_auto_flow": null,
            "grid_area": null,
            "grid_template_columns": null,
            "flex": null,
            "_model_name": "LayoutModel",
            "justify_items": null,
            "grid_row": null,
            "max_height": null,
            "align_content": null,
            "visibility": null,
            "align_self": null,
            "height": null,
            "min_height": null,
            "padding": null,
            "grid_auto_rows": null,
            "grid_gap": null,
            "max_width": null,
            "order": null,
            "_view_module_version": "1.2.0",
            "grid_template_areas": null,
            "object_position": null,
            "object_fit": null,
            "grid_auto_columns": null,
            "margin": null,
            "display": null,
            "left": null
          }
        },
        "d5dc73a93a4d4123b87648a7a2e68457": {
          "model_module": "@jupyter-widgets/controls",
          "model_name": "FloatProgressModel",
          "state": {
            "_view_name": "ProgressView",
            "style": "IPY_MODEL_4c755c3baa1e4da9892c6dbf042ad973",
            "_dom_classes": [],
            "description": "",
            "_model_name": "FloatProgressModel",
            "bar_style": "success",
            "max": 1,
            "_view_module": "@jupyter-widgets/controls",
            "_model_module_version": "1.5.0",
            "value": 1,
            "_view_count": null,
            "_view_module_version": "1.5.0",
            "orientation": "horizontal",
            "min": 0,
            "description_tooltip": null,
            "_model_module": "@jupyter-widgets/controls",
            "layout": "IPY_MODEL_7ef136efab314f5ea62b655136cdd5f5"
          }
        },
        "066666271a7b4e329169dae530dec748": {
          "model_module": "@jupyter-widgets/controls",
          "model_name": "HTMLModel",
          "state": {
            "_view_name": "HTMLView",
            "style": "IPY_MODEL_11a6b16aab3041ccbb3f30401e1e4dd4",
            "_dom_classes": [],
            "description": "",
            "_model_name": "HTMLModel",
            "placeholder": "​",
            "_view_module": "@jupyter-widgets/controls",
            "_model_module_version": "1.5.0",
            "value": " 3/? [00:45&lt;00:00, 15.26s/it]",
            "_view_count": null,
            "_view_module_version": "1.5.0",
            "description_tooltip": null,
            "_model_module": "@jupyter-widgets/controls",
            "layout": "IPY_MODEL_98fe90b114fb4a34a84e861628dcdcd9"
          }
        },
        "4c755c3baa1e4da9892c6dbf042ad973": {
          "model_module": "@jupyter-widgets/controls",
          "model_name": "ProgressStyleModel",
          "state": {
            "_view_name": "StyleView",
            "_model_name": "ProgressStyleModel",
            "description_width": "initial",
            "_view_module": "@jupyter-widgets/base",
            "_model_module_version": "1.5.0",
            "_view_count": null,
            "_view_module_version": "1.2.0",
            "bar_color": null,
            "_model_module": "@jupyter-widgets/controls"
          }
        },
        "7ef136efab314f5ea62b655136cdd5f5": {
          "model_module": "@jupyter-widgets/base",
          "model_name": "LayoutModel",
          "state": {
            "_view_name": "LayoutView",
            "grid_template_rows": null,
            "right": null,
            "justify_content": null,
            "_view_module": "@jupyter-widgets/base",
            "overflow": null,
            "_model_module_version": "1.2.0",
            "_view_count": null,
            "flex_flow": null,
            "width": null,
            "min_width": null,
            "border": null,
            "align_items": null,
            "bottom": null,
            "_model_module": "@jupyter-widgets/base",
            "top": null,
            "grid_column": null,
            "overflow_y": null,
            "overflow_x": null,
            "grid_auto_flow": null,
            "grid_area": null,
            "grid_template_columns": null,
            "flex": null,
            "_model_name": "LayoutModel",
            "justify_items": null,
            "grid_row": null,
            "max_height": null,
            "align_content": null,
            "visibility": null,
            "align_self": null,
            "height": null,
            "min_height": null,
            "padding": null,
            "grid_auto_rows": null,
            "grid_gap": null,
            "max_width": null,
            "order": null,
            "_view_module_version": "1.2.0",
            "grid_template_areas": null,
            "object_position": null,
            "object_fit": null,
            "grid_auto_columns": null,
            "margin": null,
            "display": null,
            "left": null
          }
        },
        "11a6b16aab3041ccbb3f30401e1e4dd4": {
          "model_module": "@jupyter-widgets/controls",
          "model_name": "DescriptionStyleModel",
          "state": {
            "_view_name": "StyleView",
            "_model_name": "DescriptionStyleModel",
            "description_width": "",
            "_view_module": "@jupyter-widgets/base",
            "_model_module_version": "1.5.0",
            "_view_count": null,
            "_view_module_version": "1.2.0",
            "_model_module": "@jupyter-widgets/controls"
          }
        },
        "98fe90b114fb4a34a84e861628dcdcd9": {
          "model_module": "@jupyter-widgets/base",
          "model_name": "LayoutModel",
          "state": {
            "_view_name": "LayoutView",
            "grid_template_rows": null,
            "right": null,
            "justify_content": null,
            "_view_module": "@jupyter-widgets/base",
            "overflow": null,
            "_model_module_version": "1.2.0",
            "_view_count": null,
            "flex_flow": null,
            "width": null,
            "min_width": null,
            "border": null,
            "align_items": null,
            "bottom": null,
            "_model_module": "@jupyter-widgets/base",
            "top": null,
            "grid_column": null,
            "overflow_y": null,
            "overflow_x": null,
            "grid_auto_flow": null,
            "grid_area": null,
            "grid_template_columns": null,
            "flex": null,
            "_model_name": "LayoutModel",
            "justify_items": null,
            "grid_row": null,
            "max_height": null,
            "align_content": null,
            "visibility": null,
            "align_self": null,
            "height": null,
            "min_height": null,
            "padding": null,
            "grid_auto_rows": null,
            "grid_gap": null,
            "max_width": null,
            "order": null,
            "_view_module_version": "1.2.0",
            "grid_template_areas": null,
            "object_position": null,
            "object_fit": null,
            "grid_auto_columns": null,
            "margin": null,
            "display": null,
            "left": null
          }
        },
        "1e7931ae1d3f4bedbf54642ee8ca3f5f": {
          "model_module": "@jupyter-widgets/controls",
          "model_name": "VBoxModel",
          "state": {
            "_view_name": "VBoxView",
            "_dom_classes": [],
            "_model_name": "VBoxModel",
            "_view_module": "@jupyter-widgets/controls",
            "_model_module_version": "1.5.0",
            "_view_count": null,
            "_view_module_version": "1.5.0",
            "box_style": "",
            "layout": "IPY_MODEL_77fe7c536fa64d979da65d18ecd96b2c",
            "_model_module": "@jupyter-widgets/controls",
            "children": [
              "IPY_MODEL_4c05391a4b8147c5a0fabe6567ba8fae",
              "IPY_MODEL_21cc43f2aa1d4e73978001d7d0a3cabd"
            ]
          }
        },
        "77fe7c536fa64d979da65d18ecd96b2c": {
          "model_module": "@jupyter-widgets/base",
          "model_name": "LayoutModel",
          "state": {
            "_view_name": "LayoutView",
            "grid_template_rows": null,
            "right": null,
            "justify_content": null,
            "_view_module": "@jupyter-widgets/base",
            "overflow": null,
            "_model_module_version": "1.2.0",
            "_view_count": null,
            "flex_flow": null,
            "width": null,
            "min_width": null,
            "border": null,
            "align_items": null,
            "bottom": null,
            "_model_module": "@jupyter-widgets/base",
            "top": null,
            "grid_column": null,
            "overflow_y": null,
            "overflow_x": null,
            "grid_auto_flow": null,
            "grid_area": null,
            "grid_template_columns": null,
            "flex": null,
            "_model_name": "LayoutModel",
            "justify_items": null,
            "grid_row": null,
            "max_height": null,
            "align_content": null,
            "visibility": null,
            "align_self": null,
            "height": null,
            "min_height": null,
            "padding": null,
            "grid_auto_rows": null,
            "grid_gap": null,
            "max_width": null,
            "order": null,
            "_view_module_version": "1.2.0",
            "grid_template_areas": null,
            "object_position": null,
            "object_fit": null,
            "grid_auto_columns": null,
            "margin": null,
            "display": null,
            "left": null
          }
        },
        "4c05391a4b8147c5a0fabe6567ba8fae": {
          "model_module": "@jupyter-widgets/controls",
          "model_name": "LabelModel",
          "state": {
            "_view_name": "LabelView",
            "style": "IPY_MODEL_41ac7c92d6a645fea79aa2588ce6b40b",
            "_dom_classes": [],
            "description": "",
            "_model_name": "LabelModel",
            "placeholder": "​",
            "_view_module": "@jupyter-widgets/controls",
            "_model_module_version": "1.5.0",
            "value": " 0.03MB of 0.03MB uploaded (0.00MB deduped)\r",
            "_view_count": null,
            "_view_module_version": "1.5.0",
            "description_tooltip": null,
            "_model_module": "@jupyter-widgets/controls",
            "layout": "IPY_MODEL_0d8671b4820d448d9d0d8946c8cd81c9"
          }
        },
        "21cc43f2aa1d4e73978001d7d0a3cabd": {
          "model_module": "@jupyter-widgets/controls",
          "model_name": "FloatProgressModel",
          "state": {
            "_view_name": "ProgressView",
            "style": "IPY_MODEL_830d81fa148f4213acf3d425a7f8ae72",
            "_dom_classes": [],
            "description": "",
            "_model_name": "FloatProgressModel",
            "bar_style": "",
            "max": 1,
            "_view_module": "@jupyter-widgets/controls",
            "_model_module_version": "1.5.0",
            "value": 1,
            "_view_count": null,
            "_view_module_version": "1.5.0",
            "orientation": "horizontal",
            "min": 0,
            "description_tooltip": null,
            "_model_module": "@jupyter-widgets/controls",
            "layout": "IPY_MODEL_4d3b60b461aa4427a815fa2c248e8fc2"
          }
        },
        "41ac7c92d6a645fea79aa2588ce6b40b": {
          "model_module": "@jupyter-widgets/controls",
          "model_name": "DescriptionStyleModel",
          "state": {
            "_view_name": "StyleView",
            "_model_name": "DescriptionStyleModel",
            "description_width": "",
            "_view_module": "@jupyter-widgets/base",
            "_model_module_version": "1.5.0",
            "_view_count": null,
            "_view_module_version": "1.2.0",
            "_model_module": "@jupyter-widgets/controls"
          }
        },
        "0d8671b4820d448d9d0d8946c8cd81c9": {
          "model_module": "@jupyter-widgets/base",
          "model_name": "LayoutModel",
          "state": {
            "_view_name": "LayoutView",
            "grid_template_rows": null,
            "right": null,
            "justify_content": null,
            "_view_module": "@jupyter-widgets/base",
            "overflow": null,
            "_model_module_version": "1.2.0",
            "_view_count": null,
            "flex_flow": null,
            "width": null,
            "min_width": null,
            "border": null,
            "align_items": null,
            "bottom": null,
            "_model_module": "@jupyter-widgets/base",
            "top": null,
            "grid_column": null,
            "overflow_y": null,
            "overflow_x": null,
            "grid_auto_flow": null,
            "grid_area": null,
            "grid_template_columns": null,
            "flex": null,
            "_model_name": "LayoutModel",
            "justify_items": null,
            "grid_row": null,
            "max_height": null,
            "align_content": null,
            "visibility": null,
            "align_self": null,
            "height": null,
            "min_height": null,
            "padding": null,
            "grid_auto_rows": null,
            "grid_gap": null,
            "max_width": null,
            "order": null,
            "_view_module_version": "1.2.0",
            "grid_template_areas": null,
            "object_position": null,
            "object_fit": null,
            "grid_auto_columns": null,
            "margin": null,
            "display": null,
            "left": null
          }
        },
        "830d81fa148f4213acf3d425a7f8ae72": {
          "model_module": "@jupyter-widgets/controls",
          "model_name": "ProgressStyleModel",
          "state": {
            "_view_name": "StyleView",
            "_model_name": "ProgressStyleModel",
            "description_width": "",
            "_view_module": "@jupyter-widgets/base",
            "_model_module_version": "1.5.0",
            "_view_count": null,
            "_view_module_version": "1.2.0",
            "bar_color": null,
            "_model_module": "@jupyter-widgets/controls"
          }
        },
        "4d3b60b461aa4427a815fa2c248e8fc2": {
          "model_module": "@jupyter-widgets/base",
          "model_name": "LayoutModel",
          "state": {
            "_view_name": "LayoutView",
            "grid_template_rows": null,
            "right": null,
            "justify_content": null,
            "_view_module": "@jupyter-widgets/base",
            "overflow": null,
            "_model_module_version": "1.2.0",
            "_view_count": null,
            "flex_flow": null,
            "width": null,
            "min_width": null,
            "border": null,
            "align_items": null,
            "bottom": null,
            "_model_module": "@jupyter-widgets/base",
            "top": null,
            "grid_column": null,
            "overflow_y": null,
            "overflow_x": null,
            "grid_auto_flow": null,
            "grid_area": null,
            "grid_template_columns": null,
            "flex": null,
            "_model_name": "LayoutModel",
            "justify_items": null,
            "grid_row": null,
            "max_height": null,
            "align_content": null,
            "visibility": null,
            "align_self": null,
            "height": null,
            "min_height": null,
            "padding": null,
            "grid_auto_rows": null,
            "grid_gap": null,
            "max_width": null,
            "order": null,
            "_view_module_version": "1.2.0",
            "grid_template_areas": null,
            "object_position": null,
            "object_fit": null,
            "grid_auto_columns": null,
            "margin": null,
            "display": null,
            "left": null
          }
        },
        "460fe4053f5d457c97f802d6fa6f5534": {
          "model_module": "@jupyter-widgets/controls",
          "model_name": "VBoxModel",
          "state": {
            "_view_name": "VBoxView",
            "_dom_classes": [],
            "_model_name": "VBoxModel",
            "_view_module": "@jupyter-widgets/controls",
            "_model_module_version": "1.5.0",
            "_view_count": null,
            "_view_module_version": "1.5.0",
            "box_style": "",
            "layout": "IPY_MODEL_e8ccb0eab8874c0ab5b7cc38d83c0892",
            "_model_module": "@jupyter-widgets/controls",
            "children": [
              "IPY_MODEL_3e05cac7eadb4628a7cc575b7dedfe9b",
              "IPY_MODEL_b183c45774694d7b947037394d76cc52"
            ]
          }
        },
        "e8ccb0eab8874c0ab5b7cc38d83c0892": {
          "model_module": "@jupyter-widgets/base",
          "model_name": "LayoutModel",
          "state": {
            "_view_name": "LayoutView",
            "grid_template_rows": null,
            "right": null,
            "justify_content": null,
            "_view_module": "@jupyter-widgets/base",
            "overflow": null,
            "_model_module_version": "1.2.0",
            "_view_count": null,
            "flex_flow": null,
            "width": null,
            "min_width": null,
            "border": null,
            "align_items": null,
            "bottom": null,
            "_model_module": "@jupyter-widgets/base",
            "top": null,
            "grid_column": null,
            "overflow_y": null,
            "overflow_x": null,
            "grid_auto_flow": null,
            "grid_area": null,
            "grid_template_columns": null,
            "flex": null,
            "_model_name": "LayoutModel",
            "justify_items": null,
            "grid_row": null,
            "max_height": null,
            "align_content": null,
            "visibility": null,
            "align_self": null,
            "height": null,
            "min_height": null,
            "padding": null,
            "grid_auto_rows": null,
            "grid_gap": null,
            "max_width": null,
            "order": null,
            "_view_module_version": "1.2.0",
            "grid_template_areas": null,
            "object_position": null,
            "object_fit": null,
            "grid_auto_columns": null,
            "margin": null,
            "display": null,
            "left": null
          }
        },
        "3e05cac7eadb4628a7cc575b7dedfe9b": {
          "model_module": "@jupyter-widgets/controls",
          "model_name": "LabelModel",
          "state": {
            "_view_name": "LabelView",
            "style": "IPY_MODEL_c824486b248c487ab5f170e261483819",
            "_dom_classes": [],
            "description": "",
            "_model_name": "LabelModel",
            "placeholder": "​",
            "_view_module": "@jupyter-widgets/controls",
            "_model_module_version": "1.5.0",
            "value": " 0.03MB of 0.03MB uploaded (0.00MB deduped)\r",
            "_view_count": null,
            "_view_module_version": "1.5.0",
            "description_tooltip": null,
            "_model_module": "@jupyter-widgets/controls",
            "layout": "IPY_MODEL_bbabe9d0876c45a9b94e67224a38e419"
          }
        },
        "b183c45774694d7b947037394d76cc52": {
          "model_module": "@jupyter-widgets/controls",
          "model_name": "FloatProgressModel",
          "state": {
            "_view_name": "ProgressView",
            "style": "IPY_MODEL_1eafc85eb45d42288a7c326d957fd5d3",
            "_dom_classes": [],
            "description": "",
            "_model_name": "FloatProgressModel",
            "bar_style": "",
            "max": 1,
            "_view_module": "@jupyter-widgets/controls",
            "_model_module_version": "1.5.0",
            "value": 1,
            "_view_count": null,
            "_view_module_version": "1.5.0",
            "orientation": "horizontal",
            "min": 0,
            "description_tooltip": null,
            "_model_module": "@jupyter-widgets/controls",
            "layout": "IPY_MODEL_a35dc0925a0d413c99738359d77701b9"
          }
        },
        "c824486b248c487ab5f170e261483819": {
          "model_module": "@jupyter-widgets/controls",
          "model_name": "DescriptionStyleModel",
          "state": {
            "_view_name": "StyleView",
            "_model_name": "DescriptionStyleModel",
            "description_width": "",
            "_view_module": "@jupyter-widgets/base",
            "_model_module_version": "1.5.0",
            "_view_count": null,
            "_view_module_version": "1.2.0",
            "_model_module": "@jupyter-widgets/controls"
          }
        },
        "bbabe9d0876c45a9b94e67224a38e419": {
          "model_module": "@jupyter-widgets/base",
          "model_name": "LayoutModel",
          "state": {
            "_view_name": "LayoutView",
            "grid_template_rows": null,
            "right": null,
            "justify_content": null,
            "_view_module": "@jupyter-widgets/base",
            "overflow": null,
            "_model_module_version": "1.2.0",
            "_view_count": null,
            "flex_flow": null,
            "width": null,
            "min_width": null,
            "border": null,
            "align_items": null,
            "bottom": null,
            "_model_module": "@jupyter-widgets/base",
            "top": null,
            "grid_column": null,
            "overflow_y": null,
            "overflow_x": null,
            "grid_auto_flow": null,
            "grid_area": null,
            "grid_template_columns": null,
            "flex": null,
            "_model_name": "LayoutModel",
            "justify_items": null,
            "grid_row": null,
            "max_height": null,
            "align_content": null,
            "visibility": null,
            "align_self": null,
            "height": null,
            "min_height": null,
            "padding": null,
            "grid_auto_rows": null,
            "grid_gap": null,
            "max_width": null,
            "order": null,
            "_view_module_version": "1.2.0",
            "grid_template_areas": null,
            "object_position": null,
            "object_fit": null,
            "grid_auto_columns": null,
            "margin": null,
            "display": null,
            "left": null
          }
        },
        "1eafc85eb45d42288a7c326d957fd5d3": {
          "model_module": "@jupyter-widgets/controls",
          "model_name": "ProgressStyleModel",
          "state": {
            "_view_name": "StyleView",
            "_model_name": "ProgressStyleModel",
            "description_width": "",
            "_view_module": "@jupyter-widgets/base",
            "_model_module_version": "1.5.0",
            "_view_count": null,
            "_view_module_version": "1.2.0",
            "bar_color": null,
            "_model_module": "@jupyter-widgets/controls"
          }
        },
        "a35dc0925a0d413c99738359d77701b9": {
          "model_module": "@jupyter-widgets/base",
          "model_name": "LayoutModel",
          "state": {
            "_view_name": "LayoutView",
            "grid_template_rows": null,
            "right": null,
            "justify_content": null,
            "_view_module": "@jupyter-widgets/base",
            "overflow": null,
            "_model_module_version": "1.2.0",
            "_view_count": null,
            "flex_flow": null,
            "width": null,
            "min_width": null,
            "border": null,
            "align_items": null,
            "bottom": null,
            "_model_module": "@jupyter-widgets/base",
            "top": null,
            "grid_column": null,
            "overflow_y": null,
            "overflow_x": null,
            "grid_auto_flow": null,
            "grid_area": null,
            "grid_template_columns": null,
            "flex": null,
            "_model_name": "LayoutModel",
            "justify_items": null,
            "grid_row": null,
            "max_height": null,
            "align_content": null,
            "visibility": null,
            "align_self": null,
            "height": null,
            "min_height": null,
            "padding": null,
            "grid_auto_rows": null,
            "grid_gap": null,
            "max_width": null,
            "order": null,
            "_view_module_version": "1.2.0",
            "grid_template_areas": null,
            "object_position": null,
            "object_fit": null,
            "grid_auto_columns": null,
            "margin": null,
            "display": null,
            "left": null
          }
        }
      }
    }
  },
  "cells": [
    {
      "cell_type": "markdown",
      "metadata": {
        "id": "iPk6-CyGPsMd"
      },
      "source": [
        "# Alternating minimization\r\n",
        "[source](https://ee227c.github.io/code/lecture19.html)\r\n",
        "\r\n"
      ]
    },
    {
      "cell_type": "code",
      "metadata": {
        "id": "EOFIXighpzXh"
      },
      "source": [
        "import numpy as np\r\n",
        "\r\n",
        "\r\n",
        "def gradient_descent(init, steps, grad, proj=lambda x: x, num_to_keep=None):\r\n",
        "    \"\"\"Projected gradient descent.\r\n",
        "    \r\n",
        "    Parameters\r\n",
        "    ----------\r\n",
        "        initial : array\r\n",
        "            starting point\r\n",
        "        steps : list of floats\r\n",
        "            step size schedule for the algorithm\r\n",
        "        grad : function\r\n",
        "            mapping arrays to arrays of same shape\r\n",
        "        proj : function, optional\r\n",
        "            mapping arrays to arrays of same shape\r\n",
        "        num_to_keep : integer, optional\r\n",
        "            number of points to keep\r\n",
        "        \r\n",
        "    Returns\r\n",
        "    -------\r\n",
        "        List of points computed by projected gradient descent. Length of the\r\n",
        "        list is determined by `num_to_keep`.\r\n",
        "    \"\"\"\r\n",
        "    xs = [init]\r\n",
        "    for step in steps:\r\n",
        "        xs.append(proj(xs[-1] - step * grad(xs[-1])))\r\n",
        "        if num_to_keep:\r\n",
        "          xs = xs[-num_to_keep:]\r\n",
        "    return xs\r\n",
        "\r\n",
        "\r\n",
        "def conditional_gradient(initial, steps, oracle, num_to_keep=None):\r\n",
        "    \"\"\"Conditional gradient.\r\n",
        "    \r\n",
        "        Conditional grdient (Frank-Wolfe) for first-order optimization.\r\n",
        "    \r\n",
        "    Parameters:\r\n",
        "    -----------\r\n",
        "        initial: array,\r\n",
        "            initial starting point\r\n",
        "        steps: list of numbers,\r\n",
        "            step size schedule\r\n",
        "        oracle: function,\r\n",
        "            mapping points to points, implements linear optimization \r\n",
        "            oracle for the objective.\r\n",
        "    \r\n",
        "    Returns:\r\n",
        "    --------\r\n",
        "        List of points computed by the algorithm.\r\n",
        "    \"\"\"\r\n",
        "    xs = [initial]\r\n",
        "    for step in steps:\r\n",
        "        xs.append(xs[-1] + step*(oracle(xs[-1])-xs[-1]))\r\n",
        "        if num_to_keep:\r\n",
        "          xs = xs[-num_to_keep:]\r\n",
        "    return xs\r\n",
        "\r\n",
        "\r\n",
        "def gss(f, a, b, tol=1e-5):\r\n",
        "    \"\"\"Golden section search.\r\n",
        "        Source: https://en.wikipedia.org/wiki/Golden-section_search\r\n",
        "    Find the minimum of f on [a,b]\r\n",
        "    Parameters:\r\n",
        "    -----------\r\n",
        "        f: a strictly unimodal function on [a,b]\r\n",
        "        a: lower interval boundary\r\n",
        "        b: uper interval boundary\r\n",
        "    Returns:\r\n",
        "    --------\r\n",
        "        Point in the interval [a, b]\r\n",
        "    \"\"\"\r\n",
        "    gr = 1.6180339887498949\r\n",
        "    c = b - (b - a) / gr\r\n",
        "    d = a + (b - a) / gr \r\n",
        "    while abs(c - d) > tol:\r\n",
        "        if f(c) < f(d):\r\n",
        "            b = d\r\n",
        "        else:\r\n",
        "            a = c\r\n",
        "        # we recompute both c and d here to avoid loss of precision \r\n",
        "        # which may lead to incorrect results or infinite loop\r\n",
        "        c = b - (b - a) / gr\r\n",
        "        d = a + (b - a) / gr\r\n",
        "    return (b + a) / 2\r\n",
        "\r\n",
        "\r\n",
        "def random_search(oracle, init, num_steps, line_search=gss):\r\n",
        "    \"\"\"Implements random search.\r\n",
        "    Parameters:\r\n",
        "    -----------\r\n",
        "        oracle: Function.\r\n",
        "        init: Point in domain of oracle.\r\n",
        "        num_steps: Number of iterations.\r\n",
        "        line_search: Line search method (defaults to golden section.)\r\n",
        "    \r\n",
        "    Returns:\r\n",
        "    --------\r\n",
        "        List of iterates.\r\n",
        "    \"\"\"\r\n",
        "    \r\n",
        "    iterates = [init]\r\n",
        "    for _ in range(num_steps):\r\n",
        "        d = np.random.normal(0, 100, init.shape)\r\n",
        "        d /= np.linalg.norm(d)\r\n",
        "        x = iterates[-1]\r\n",
        "        eta = line_search(lambda step: oracle(x + step * d), -1, 1)\r\n",
        "        iterates.append(x + eta * d)\r\n",
        "    return iterates "
      ],
      "execution_count": 2,
      "outputs": []
    },
    {
      "cell_type": "code",
      "metadata": {
        "id": "BTfiUkELp4ZT"
      },
      "source": [
        "import numpy as np\r\n",
        "\r\n",
        "\r\n",
        "def simplex_projection(vector):\r\n",
        "    \"\"\"Projection onto the unit simplex.\r\n",
        "    \r\n",
        "        Source: https://gist.github.com/daien/1272551\r\n",
        "    Parameters:\r\n",
        "    -----------\r\n",
        "        vector: array  \r\n",
        "            Vector to be projected onto simplex.\r\n",
        "    Returns:\r\n",
        "    --------\r\n",
        "        Vector in the unit simplex\r\n",
        "    \"\"\"\r\n",
        "    if np.sum(vector) <=1 and np.alltrue(vector >= 0):\r\n",
        "        return vector \r\n",
        "    # get the array of cumulative sums of a sorted (decreasing) copy of v\r\n",
        "    u = np.sort(vector)[::-1]\r\n",
        "    cssv = np.cumsum(u)\r\n",
        "    # get the number of > 0 components of the optimal solution\r\n",
        "    rho = np.nonzero(u * np.arange(1, len(u)+1) > (cssv - 1))[0][-1]\r\n",
        "    # compute the Lagrange multiplier associated to the simplex constraint\r\n",
        "    theta = (cssv[rho] - 1) / (rho + 1.0)\r\n",
        "    # compute the projection by thresholding v using theta\r\n",
        "    return np.maximum(vector-theta, 0)\r\n",
        "\r\n",
        "\r\n",
        "def nuclear_projection(matrix):\r\n",
        "    \"\"\"Projection onto nuclear norm unit ball.\r\n",
        "    Parameters:\r\n",
        "        matrix: two-dimensional array\r\n",
        "            Matrix to be projected onto nuclear norm unit ball.\r\n",
        "    Returns:\r\n",
        "        Matrix in the unit ball of the nuclear norm.\r\n",
        "    \"\"\"\r\n",
        "    U, s, V = np.linalg.svd(matrix, full_matrices=False)\r\n",
        "    s = simplex_projection(s)\r\n",
        "    return U.dot(np.diag(s).dot(V))"
      ],
      "execution_count": 18,
      "outputs": []
    },
    {
      "cell_type": "code",
      "metadata": {
        "id": "78RpM4K_p7p5"
      },
      "source": [
        "\r\n",
        "import matplotlib\r\n",
        "import matplotlib.pyplot as plt\r\n",
        "from IPython.core.display import display, HTML\r\n",
        "\r\n",
        "\r\n",
        "kwargs = {'linewidth' : 3.5}\r\n",
        "font = {'weight' : 'normal', 'size'   : 24}\r\n",
        "\r\n",
        "\r\n",
        "def error_plot(ys, yscale='log'):\r\n",
        "    plt.figure(figsize=(8, 8))\r\n",
        "    plt.xlabel('Step')\r\n",
        "    plt.ylabel('Error')\r\n",
        "    plt.yscale(yscale)\r\n",
        "    plt.plot(range(len(ys)), ys, **kwargs)\r\n",
        "    \r\n",
        "\r\n",
        "def convergence_plot(fs, gs):\r\n",
        "    plt.figure(figsize=(14,6))\r\n",
        "    plt.subplot(121)\r\n",
        "    plt.title('Convergence in objective')    \r\n",
        "    plt.xlabel('Step')\r\n",
        "    plt.ylabel('Error')\r\n",
        "    plt.yscale('log')\r\n",
        "    plt.plot(range(len(fs)), fs, **kwargs)\r\n",
        "    plt.subplot(122)\r\n",
        "    plt.title('Convergence in domain')    \r\n",
        "    plt.xlabel('Step')\r\n",
        "    plt.yscale('log')\r\n",
        "    plt.plot(range(len(gs)), gs, **kwargs)\r\n",
        "    plt.tight_layout()\r\n",
        "\r\n",
        "\r\n",
        "def setup_layout():\r\n",
        "    matplotlib.rc('font', **font)"
      ],
      "execution_count": 8,
      "outputs": []
    },
    {
      "cell_type": "code",
      "metadata": {
        "id": "ZG9m-cLAo6EI"
      },
      "source": [
        "%matplotlib inline\r\n",
        "\r\n",
        "#import numpy as np\r\n",
        "import autograd.numpy as np\r\n",
        "from autograd import grad\r\n",
        "import matplotlib\r\n",
        "import matplotlib.pyplot as plt\r\n",
        "from matplotlib import colors\r\n",
        "\r\n",
        "np.random.seed(228)\r\n",
        "\r\n",
        "setup_layout()"
      ],
      "execution_count": 9,
      "outputs": []
    },
    {
      "cell_type": "markdown",
      "metadata": {
        "id": "zmmhTMXtpUYZ"
      },
      "source": [
        "<a name=\"am\"></a>\n",
        "\n",
        "## Low-rank matrix factorization"
      ]
    },
    {
      "cell_type": "markdown",
      "metadata": {
        "id": "W1RsEsXvpUYa"
      },
      "source": [
        "In low-rank matrix factorization we're generally trying to solve an objective of the form\n",
        "\n",
        "$$\n",
        "\\min_{\\mathrm{rank}(M)\\le k} f(M),\n",
        "$$\n",
        "\n",
        "where $f\\colon\\mathbb{R}^{m\\times n}\\to\\mathbb{R}$ is a convex function. Note that the set of rank $k$ matrices forms a non-convex set.\n",
        "\n",
        "In lecture 5, we saw that this problem can be attacked using the *nuclear norm relaxation* of the rank constraint. Projecting onto the unit ball of the nuclear norm was a costly operation that does not scale large matrices. We saw how to mitigate this problem using the Frank-Wolfe algorithm, in which the nuclear norm projection is replaced by a linear optimization step that is solved by the power method.\n",
        "\n",
        "Here we'll see a natural approach to solve the non-convex formulation directly without any relaxation via *alternating minimization*.\n",
        "\n",
        "### Alternating minimization\n",
        "\n",
        "The idea behind alternating minimization is that a rank $k$ matrix $M$ can be written in factored form as $M=XY^\\top,$ where $X\\in\\mathbb{R}^{m\\times k}$ and $Y\\in\\mathbb{R}^{n\\times k}$.\n",
        "\n",
        "Given initial guesses $X_0,Y_0,$ we can then alternate between optimizing $X$ and optimizing $Y$ separately as follows:\n",
        "\n",
        "For $t=1,\\dots, T:$\n",
        "* $X_t=\\arg\\min_{X} f(XY_{t-1}^\\top)$\n",
        "* $Y_t=\\arg\\min_{Y} f(X_t Y^\\top)$\n",
        "\n",
        "Since matrix multiplication is bilinear, the function $f(XY^\\top)$ is convex in its argument $X$ and also convex in its argument $Y$."
      ]
    },
    {
      "cell_type": "code",
      "metadata": {
        "collapsed": true,
        "id": "7PTEejMHpUYa"
      },
      "source": [
        "def alternating_minimization(left, right, update_left, update_right,\n",
        "                            num_updates):\n",
        "    \"\"\"Alternating minimization.\"\"\"\n",
        "    iterates = [(left, right)]\n",
        "    for _ in range(num_updates):\n",
        "        left = update_left(right)\n",
        "        right = update_right(left)\n",
        "        iterates.append((left, right))\n",
        "    return iterates"
      ],
      "execution_count": 10,
      "outputs": []
    },
    {
      "cell_type": "markdown",
      "metadata": {
        "id": "UouEoM9spUYa"
      },
      "source": [
        "Check out [this monograph](https://arxiv.org/abs/1712.07897) by Jain and Kar for a survey of convergence results for alternating minimization."
      ]
    },
    {
      "cell_type": "markdown",
      "metadata": {
        "id": "uvjMuhunpUYb"
      },
      "source": [
        "### Matrix completion\n",
        "\n",
        "A common instance of this general problem is known as *matrix completion*. Here we have a partially observed matrix $m\\times n$ matrix and we try to fill in its missing entries. This is generally impossible unless we make additional assumptions on the target matrix. A natural assumption is that the target matrix is close to low rank. In other words, the matrix is specified by far fewer than $mn$ parameters.\n",
        "\n",
        "To set up some notation:\n",
        "* We observe coordinates of an unknown matrix $A\\in\\mathbb{R}^{m\\times n}$ specified by a set $\\Omega.$\n",
        "* We denote by $P_\\Omega$ the coordinate projection of a matrix onto the set of entries in $\\Omega.$\n",
        "* We will denote by $\\|\\cdot\\|_F$ the Frobenius norm.\n",
        "\n",
        "The matrix completion objective can then be written as:\n",
        "\n",
        "$$\n",
        "\\min_{X\\in\\mathbb{R}^{m\\times k}, Y\\in\\mathbb{R}^{n\\times k}}\n",
        "\\frac12\\|P_{\\Omega}(A-XY^\\top)\\|_F^2\n",
        "$$"
      ]
    },
    {
      "cell_type": "markdown",
      "metadata": {
        "id": "ObCjzPirpUYb"
      },
      "source": [
        "### Assumptions\n",
        "\n",
        "To make the problem tractable, researchers rely on primarily two assumptions:\n",
        "\n",
        "* Uniformly random samples: The entries of $\\Omega$ are chosen independently at random.\n",
        "* Incoherence: The entries of $A$ are \"spread out\" so that a random samples picks up a propertional share of $A$ with good probability. Formally, this can be achieved by assuming that the singular vectors of $A$ have small $\\ell_\\infty$-norm."
      ]
    },
    {
      "cell_type": "markdown",
      "metadata": {
        "id": "sDg9ak5JpUYb"
      },
      "source": [
        "### Alternating updates for matrix completion\n",
        "\n",
        "Here we'll compute the updates needed for alternating minimization via a naive direct solve in each row using the pseudoinverse. \n",
        "\n",
        "In other words, this approach takes advantage of the explicit form of $f$ as the Frobenius norm. While simple and slow when naively implemented, this approach, known as [Alternating Least Squares](https://stanford.edu/~rezab/classes/cme323/S15/notes/lec14.pdf) is popular because it is possible to create fairly efficient distributed versions of the algorithm.\n",
        "\n",
        "Since both sides of the alternation are equivalent up to transposition, let's consider our problem for fixed $X$, solving for the least squares solution $Y$ in\n",
        "$$\n",
        "\\min_{Y\\in \\mathbb{R}^{n\\times k}}\\frac{1}{2}\\left\\|P_{\\Omega}(A-XY^\\top)\\right\\|_F^2\\,.\n",
        "$$\n",
        "\n",
        "Since the $i$-th row $\\textbf{y}_i$ of $Y$ is the only component of $Y$ that appears in the $i$-th column of $P_{\\Omega}(A-XY^\\top)$, and the Frobenius norm is additive in matrix entries, we can optimize each row separately and combine them later to recover the solution to the joint problem over matrices $Y$; so fix $i\\in[n]$ and consider\n",
        "$$\n",
        "\\min_{\\textbf{y}\\in\\mathbb{R}^k}\\left\\|\\textbf{s}_i\\times (\\textbf{a}_i-X\\textbf{y})\\right\\|_2^2\\,,\n",
        "$$\n",
        "where $\\textbf{a}_i$ is the $i$-th column vector of $A$ and $\\textbf{s}_i$ is a binary vector corresponding to projection onto known entries $(\\cdot ,i)\\in \\Omega$ (where above we use pointwise multiplication, but rewriting this as multiplication with a diagonal binary matrix we recover a cannonical least squares problem).\n",
        "\n",
        "This means we need to solve $n$ $k$-dimensional-input $m$-dimensional-output least-squares problems. Since $\\textbf{s}_i$ is binary, we can reduce the size of the output dimension of the least-squares problem by ignoring the entries that are zeroed out (reducing output dimension to $\\left\\|\\textbf{s}_i\\right\\|_1$).\n",
        "\n",
        "This approach is pretty slow when performed serially!. We could instead use any of the convex solvers we already saw. The advantage of a direct solve is that we have no additional hyperparameters to worry about. However, we can see that the independence of the $n$ subproblems would be amenable to a distributed implementation."
      ]
    },
    {
      "cell_type": "code",
      "metadata": {
        "collapsed": true,
        "id": "DvpBcf3jpUYc"
      },
      "source": [
        "def update_right(A, S, X):\n",
        "    \"\"\"Update right factor for matrix completion objective.\"\"\"\n",
        "    m, n = A.shape\n",
        "    _, k = X.shape\n",
        "    Y = np.zeros((n, k))\n",
        "    # For each row, solve a k-dimensional regression problem\n",
        "    # only over the nonzero projection entries. Note that the\n",
        "    # projection changes the least-squares matrix siX so we\n",
        "    # cannot vectorize the outer loop.\n",
        "    for i in range(n):\n",
        "        si = S[:, i]\n",
        "        sia = A[si, i]\n",
        "        siX = X[si]\n",
        "        Y[i,:] = np.linalg.lstsq(siX, sia)[0]\n",
        "    return Y\n",
        "\n",
        "def update_left(A, S, Y):\n",
        "    return update_right(A.T, S.T, Y)"
      ],
      "execution_count": 11,
      "outputs": []
    },
    {
      "cell_type": "markdown",
      "metadata": {
        "id": "_qvvYo3kpUYd"
      },
      "source": [
        "We can now instantiate the general algorithm for our problem."
      ]
    },
    {
      "cell_type": "code",
      "metadata": {
        "collapsed": true,
        "id": "E2mDX0cYpUYd"
      },
      "source": [
        "def altmin(A, S, rank, num_updates):\n",
        "    \"\"\"Toy implementation of alternating minimization.\"\"\"\n",
        "    m, n = A.shape\n",
        "    X = np.random.normal(0, 1, (m, rank))\n",
        "    Y = np.random.normal(0, 1, (n, rank))\n",
        "    return alternating_minimization(X, Y, \n",
        "                                    lambda Y: update_left(A, S, Y), \n",
        "                                    lambda X: update_right(A, S, X),\n",
        "                                    num_updates)"
      ],
      "execution_count": 12,
      "outputs": []
    },
    {
      "cell_type": "markdown",
      "metadata": {
        "id": "uUcu93Y2pUYd"
      },
      "source": [
        "Below is code to plot a matrix decomposition in a neat manner. Ignore this for now, unless you're really into matplotlib."
      ]
    },
    {
      "cell_type": "code",
      "metadata": {
        "collapsed": true,
        "id": "70q994IZpUYe"
      },
      "source": [
        "def plot_decomposition(A, U=None, V=None):\n",
        "    \"\"\"Plot matrix decomposition.\"\"\"\n",
        "    m, n = A.shape\n",
        "    fig_height = 9\n",
        "    fig_width = float(n)*fig_height/m\n",
        "    \n",
        "    cmap=plt.get_cmap('bwr')\n",
        "    bounds=np.concatenate([np.linspace(-100,-4,1), np.linspace(-4,-0.005,114),\n",
        "        np.linspace(-0.005,0.005,25), np.linspace(0.005,4,114),np.linspace(4,100,1)])\n",
        "    norm = colors.BoundaryNorm(bounds, cmap.N)\n",
        "\n",
        "    fig = plt.figure(figsize=(fig_width, fig_height))\n",
        "    \n",
        "    rects = [[0.05,0.15,0.8,0.8],[0.825,0.15,0.1,0.8],[0.05,0.05,0.8,0.1]]\n",
        "    \n",
        "    ims = []\n",
        "    for (rect, mat) in zip(rects, [A, U, V]):\n",
        "        if type(mat)==type(None):\n",
        "            break\n",
        "        ax = fig.add_axes(rect)\n",
        "        ims.append(\n",
        "            ax.imshow(mat, cmap=cmap,norm=norm,interpolation='none'))\n",
        "        ax.set_xticklabels([])\n",
        "        ax.set_yticklabels([])\n",
        "        ax.xaxis.set_tick_params(size=0)    \n",
        "        ax.yaxis.set_tick_params(size=0)\n",
        "\n",
        "    cbaxes = fig.add_axes([0.1, 0.01, 0.7, 0.05])\n",
        "    plt.colorbar(ims[0], orientation='horizontal', cax=cbaxes)\n",
        "    plt.show()"
      ],
      "execution_count": 13,
      "outputs": []
    },
    {
      "cell_type": "markdown",
      "metadata": {
        "id": "12_QwP9bpUYe"
      },
      "source": [
        "Let's see how alternating minimization works in a toy example."
      ]
    },
    {
      "cell_type": "code",
      "metadata": {
        "collapsed": true,
        "id": "FtsZDn5kpUYe"
      },
      "source": [
        "def subsample(A, density):\n",
        "    \"\"\"Randomly zero out entries of the input matrix.\"\"\"\n",
        "    C = np.matrix.copy(A)\n",
        "    B = np.random.uniform(0, 1, C.shape)\n",
        "    C[B > density] = 0\n",
        "    return C, B <= density    \n",
        "    \n",
        "def example1():\n",
        "    \"\"\"Run alternating minimization on subsample of rank 2 matrix.\"\"\"\n",
        "\n",
        "    A = np.zeros((40, 70))\n",
        "    # Create rank 2 matrix with checkerboard pattern\n",
        "    for i in range(0,40):\n",
        "        for j in range(0,70):\n",
        "            if divmod(i, 2)[1]==0:\n",
        "                A[i,j] += -3.0\n",
        "            if divmod(i, 2)[1]==1:\n",
        "                A[i,j] += 3.0\n",
        "            if divmod(j, 2)[1]==0:\n",
        "                A[i,j] += 1.0\n",
        "            if divmod(j, 2)[1]==1:\n",
        "                A[i,j] += -1.0\n",
        "    plot_decomposition(A)\n",
        "    B, S = subsample(A, 0.25)\n",
        "    plot_decomposition(B)\n",
        "    results = altmin(A, S, 2, 10)\n",
        "    for (U, V) in results:\n",
        "        plot_decomposition(np.dot(U, V.T), U, V.T)        \n",
        "    \n",
        "    return"
      ],
      "execution_count": 14,
      "outputs": []
    },
    {
      "cell_type": "code",
      "metadata": {
        "scrolled": false,
        "id": "HscJ7gL5pUYf",
        "colab": {
          "base_uri": "https://localhost:8080/",
          "height": 1000
        },
        "outputId": "cf8a94d1-f984-4184-f55e-668c32db4d9e"
      },
      "source": [
        "example1()"
      ],
      "execution_count": 15,
      "outputs": [
        {
          "output_type": "display_data",
          "data": {
            "image/png": "[encoded data removed]",
            "text/plain": [
              "<Figure size 1134x648 with 2 Axes>"
            ]
          },
          "metadata": {
            "tags": [],
            "needs_background": "light"
          }
        },
        {
          "output_type": "display_data",
          "data": {
            "image/png": "[encoded data removed]",
            "text/plain": [
              "<Figure size 1134x648 with 2 Axes>"
            ]
          },
          "metadata": {
            "tags": [],
            "needs_background": "light"
          }
        },
        {
          "output_type": "stream",
          "text": [
            "/usr/local/lib/python3.6/dist-packages/autograd/tracer.py:48: FutureWarning: `rcond` parameter will change to the default of machine precision times ``max(M, N)`` where M and N are the input matrix dimensions.\n",
            "To use the future default and silence this warning we advise to pass `rcond=None`, to keep using the old, explicitly pass `rcond=-1`.\n",
            "  return f_raw(*args, **kwargs)\n"
          ],
          "name": "stderr"
        },
        {
          "output_type": "display_data",
          "data": {
            "image/png": "[encoded data removed]",
            "text/plain": [
              "<Figure size 1134x648 with 4 Axes>"
            ]
          },
          "metadata": {
            "tags": [],
            "needs_background": "light"
          }
        },
        {
          "output_type": "display_data",
          "data": {
            "image/png": "[encoded data removed]",
            "text/plain": [
              "<Figure size 1134x648 with 4 Axes>"
            ]
          },
          "metadata": {
            "tags": [],
            "needs_background": "light"
          }
        },
        {
          "output_type": "display_data",
          "data": {
            "image/png": "[encoded data removed]",
            "text/plain": [
              "<Figure size 1134x648 with 4 Axes>"
            ]
          },
          "metadata": {
            "tags": [],
            "needs_background": "light"
          }
        },
        {
          "output_type": "display_data",
          "data": {
            "image/png": "[encoded data removed]",
            "text/plain": [
              "<Figure size 1134x648 with 4 Axes>"
            ]
          },
          "metadata": {
            "tags": [],
            "needs_background": "light"
          }
        },
        {
          "output_type": "display_data",
          "data": {
            "image/png": "[encoded data removed]",
            "text/plain": [
              "<Figure size 1134x648 with 4 Axes>"
            ]
          },
          "metadata": {
            "tags": [],
            "needs_background": "light"
          }
        },
        {
          "output_type": "display_data",
          "data": {
            "image/png": "[encoded data removed]",
            "text/plain": [
              "<Figure size 1134x648 with 4 Axes>"
            ]
          },
          "metadata": {
            "tags": [],
            "needs_background": "light"
          }
        },
        {
          "output_type": "display_data",
          "data": {
            "image/png": "[encoded data removed]",
            "text/plain": [
              "<Figure size 1134x648 with 4 Axes>"
            ]
          },
          "metadata": {
            "tags": [],
            "needs_background": "light"
          }
        },
        {
          "output_type": "display_data",
          "data": {
            "image/png": "[encoded data removed]",
            "text/plain": [
              "<Figure size 1134x648 with 4 Axes>"
            ]
          },
          "metadata": {
            "tags": [],
            "needs_background": "light"
          }
        },
        {
          "output_type": "display_data",
          "data": {
            "image/png": "[encoded data removed]",
            "text/plain": [
              "<Figure size 1134x648 with 4 Axes>"
            ]
          },
          "metadata": {
            "tags": [],
            "needs_background": "light"
          }
        },
        {
          "output_type": "display_data",
          "data": {
            "image/png": "[encoded data removed]",
            "text/plain": [
              "<Figure size 1134x648 with 4 Axes>"
            ]
          },
          "metadata": {
            "tags": [],
            "needs_background": "light"
          }
        },
        {
          "output_type": "display_data",
          "data": {
            "image/png": "[encoded data removed]",
            "text/plain": [
              "<Figure size 1134x648 with 4 Axes>"
            ]
          },
          "metadata": {
            "tags": [],
            "needs_background": "light"
          }
        }
      ]
    },
    {
      "cell_type": "markdown",
      "metadata": {
        "id": "_CQNFE1cpUYf"
      },
      "source": [
        "We see that after a few iterations, alternating minimization has found a good approximation. Restart this algorithm a few times to see that the convergence is affected strongly by the random initialization."
      ]
    },
    {
      "cell_type": "markdown",
      "metadata": {
        "id": "6gVNJwHapUYg"
      },
      "source": [
        "### Exercises\n",
        "\n",
        "* Code up a more serious implementation that does not ever compute a full $m\\times n$ matrix, but rather works with a given set of observed entries. Use stochastic gradient descent as a sub-routine for the updates.\n",
        "* Do a running time analysis of the algorithm."
      ]
    },
    {
      "cell_type": "markdown",
      "metadata": {
        "id": "eH7LfdkHpUYg"
      },
      "source": [
        "### Comparison with gradient descent and nuclear norm projection\n",
        "\n",
        "Below is our example from Lecture 5."
      ]
    },
    {
      "cell_type": "code",
      "metadata": {
        "collapsed": true,
        "id": "w69EGw47pUYg",
        "colab": {
          "base_uri": "https://localhost:8080/",
          "height": 238
        },
        "outputId": "1bf34fd7-9208-4ff7-ccc1-d8cb9aaefe89"
      },
      "source": [
        "n, k = 1000, 10\n",
        "# random rank-10 matrix normalized to have nuclear norm 1\n",
        "U = np.random.normal(0, 1, (n, k))\n",
        "U = np.linalg.qr(U)[0]\n",
        "L = np.diag(np.random.uniform(0, 1, k))\n",
        "L /= np.sum(L)\n",
        "A = U.dot(L.dot(U.T))\n",
        "# pick which entries we observe uniformly at random\n",
        "S = np.random.randint(0, 2, (n, n))\n",
        "# multiply A by S coordinate-wise\n",
        "# B = P_\\Omega(A)\n",
        "B = np.multiply(A, S)\n",
        "\n",
        "def mc_objective(B, S, X):\n",
        "    \"\"\"Matrix completion objective.\"\"\"\n",
        "    # 0.5*\\|P_\\Omega(A-X)\\|_F^2\n",
        "    return 0.5 * np.linalg.norm(B-np.multiply(X, S), 'fro')**2\n",
        "\n",
        "def mc_gradient(B, S, X):\n",
        "    \"\"\"Gradient of matrix completion objective.\"\"\"\n",
        "    return np.multiply(X, S) - B\n"
      ],
      "execution_count": 1,
      "outputs": [
        {
          "output_type": "error",
          "ename": "NameError",
          "evalue": "ignored",
          "traceback": [
            "\u001b[0;31m---------------------------------------------------------------------------\u001b[0m",
            "\u001b[0;31mNameError\u001b[0m                                 Traceback (most recent call last)",
            "\u001b[0;32m<ipython-input-1-009f4fd18d9a>\u001b[0m in \u001b[0;36m<module>\u001b[0;34m()\u001b[0m\n\u001b[1;32m      1\u001b[0m \u001b[0mn\u001b[0m\u001b[0;34m,\u001b[0m \u001b[0mk\u001b[0m \u001b[0;34m=\u001b[0m \u001b[0;36m1000\u001b[0m\u001b[0;34m,\u001b[0m \u001b[0;36m10\u001b[0m\u001b[0;34m\u001b[0m\u001b[0;34m\u001b[0m\u001b[0m\n\u001b[1;32m      2\u001b[0m \u001b[0;31m# random rank-10 matrix normalized to have nuclear norm 1\u001b[0m\u001b[0;34m\u001b[0m\u001b[0;34m\u001b[0m\u001b[0;34m\u001b[0m\u001b[0m\n\u001b[0;32m----> 3\u001b[0;31m \u001b[0mU\u001b[0m \u001b[0;34m=\u001b[0m \u001b[0mnp\u001b[0m\u001b[0;34m.\u001b[0m\u001b[0mrandom\u001b[0m\u001b[0;34m.\u001b[0m\u001b[0mnormal\u001b[0m\u001b[0;34m(\u001b[0m\u001b[0;36m0\u001b[0m\u001b[0;34m,\u001b[0m \u001b[0;36m1\u001b[0m\u001b[0;34m,\u001b[0m \u001b[0;34m(\u001b[0m\u001b[0mn\u001b[0m\u001b[0;34m,\u001b[0m \u001b[0mk\u001b[0m\u001b[0;34m)\u001b[0m\u001b[0;34m)\u001b[0m\u001b[0;34m\u001b[0m\u001b[0;34m\u001b[0m\u001b[0m\n\u001b[0m\u001b[1;32m      4\u001b[0m \u001b[0mU\u001b[0m \u001b[0;34m=\u001b[0m \u001b[0mnp\u001b[0m\u001b[0;34m.\u001b[0m\u001b[0mlinalg\u001b[0m\u001b[0;34m.\u001b[0m\u001b[0mqr\u001b[0m\u001b[0;34m(\u001b[0m\u001b[0mU\u001b[0m\u001b[0;34m)\u001b[0m\u001b[0;34m[\u001b[0m\u001b[0;36m0\u001b[0m\u001b[0;34m]\u001b[0m\u001b[0;34m\u001b[0m\u001b[0;34m\u001b[0m\u001b[0m\n\u001b[1;32m      5\u001b[0m \u001b[0mL\u001b[0m \u001b[0;34m=\u001b[0m \u001b[0mnp\u001b[0m\u001b[0;34m.\u001b[0m\u001b[0mdiag\u001b[0m\u001b[0;34m(\u001b[0m\u001b[0mnp\u001b[0m\u001b[0;34m.\u001b[0m\u001b[0mrandom\u001b[0m\u001b[0;34m.\u001b[0m\u001b[0muniform\u001b[0m\u001b[0;34m(\u001b[0m\u001b[0;36m0\u001b[0m\u001b[0;34m,\u001b[0m \u001b[0;36m1\u001b[0m\u001b[0;34m,\u001b[0m \u001b[0mk\u001b[0m\u001b[0;34m)\u001b[0m\u001b[0;34m)\u001b[0m\u001b[0;34m\u001b[0m\u001b[0;34m\u001b[0m\u001b[0m\n",
            "\u001b[0;31mNameError\u001b[0m: name 'np' is not defined"
          ]
        }
      ]
    },
    {
      "cell_type": "code",
      "metadata": {
        "id": "DSKMM9J2pUYg",
        "colab": {
          "base_uri": "https://localhost:8080/",
          "height": 411
        },
        "outputId": "61275e24-90dd-4585-a685-f0577b54a57f"
      },
      "source": [
        "def example2():\n",
        "    # start from random matrix of nuclear norm 1\n",
        "    X0 = np.random.normal(0,1, (n,n))\n",
        "    X0 = nuclear_projection(X0.dot(X0.T))\n",
        "    objective = lambda X: mc_objective(B, S, X)\n",
        "    gradient = lambda X: mc_gradient(B, S, X)\n",
        "    Xs = gradient_descent(X0, [0.2]*40, gradient, nuclear_projection)\n",
        "\n",
        "    convergence_plot([objective(X) for X in Xs],\n",
        "                    [np.linalg.norm(A-X, 'fro')**2 for X in Xs])\n",
        "    \n",
        "example2()"
      ],
      "execution_count": 19,
      "outputs": [
        {
          "output_type": "display_data",
          "data": {
            "image/png": "[encoded data removed]",
            "text/plain": [
              "<Figure size 1008x432 with 2 Axes>"
            ]
          },
          "metadata": {
            "tags": [],
            "needs_background": "light"
          }
        }
      ]
    },
    {
      "cell_type": "markdown",
      "metadata": {
        "id": "gDs18BEmpUYh"
      },
      "source": [
        "The algorithm was pretty slow even on this tiny example.\n",
        "\n",
        "Below we compare it with a variant of alternating minimization that makes a single gradient step in each update. There are numerous natural variants depending on which optimizer we choose. A popular method involves stochastic updates that use only a single entry."
      ]
    },
    {
      "cell_type": "code",
      "metadata": {
        "collapsed": true,
        "id": "5qa3YzlYpUYh"
      },
      "source": [
        "def mc_objective_factored(B, S, X, Y):\n",
        "    \"\"\"Matrix completion objective.\"\"\"\n",
        "    m, n = B.shape\n",
        "    return 0.5 * np.linalg.norm(B-np.multiply(np.dot(X, Y.T), S))**2\n",
        "\n",
        "def altmin_gd(rank, num_updates):\n",
        "    \"\"\"Toy implementation of alternating minimization.\"\"\"\n",
        "    m, n = A.shape\n",
        "    X = np.linalg.qr(np.random.normal(0, 1, (n, k)))[0]\n",
        "    Y = np.linalg.qr(np.random.normal(0, 1, (n, k)))[0]\n",
        "    iterates = [(X, Y)]\n",
        "    for i in range(num_updates):\n",
        "        X = X - grad(lambda X: mc_objective_factored(B, S, X, Y))(X)\n",
        "        Y = Y - grad(lambda Y: mc_objective_factored(B, S, X, Y))(Y)\n",
        "        iterates.append((X, Y))\n",
        "    return iterates"
      ],
      "execution_count": 20,
      "outputs": []
    },
    {
      "cell_type": "code",
      "metadata": {
        "id": "qsf7vHwipUYh"
      },
      "source": [
        "results = altmin_gd(10, 1000)\n",
        "obj_values = [mc_objective_factored(B, S, X, Y) for (X, Y) in results]\n",
        "dom_values = [np.linalg.norm(A-X.dot(Y.T), 'fro')**2 for (X, Y) in results]\n",
        "convergence_plot(obj_values, dom_values)"
      ],
      "execution_count": null,
      "outputs": []
    },
    {
      "cell_type": "markdown",
      "metadata": {
        "id": "ykKcpDIepUYh"
      },
      "source": [
        "The convergence behavior is pretty peculiar. It rapidly converges to the quality of the all zeros solution and then slows down substantially."
      ]
    },
    {
      "cell_type": "code",
      "metadata": {
        "id": "FaQTjLidpUYi",
        "outputId": "5f0463ef-5495-4816-c7ac-aea02ca99e88"
      },
      "source": [
        "mc_objective(B, S, 0)"
      ],
      "execution_count": null,
      "outputs": [
        {
          "output_type": "execute_result",
          "data": {
            "text/plain": [
              "0.028210546968991758"
            ]
          },
          "metadata": {
            "tags": []
          },
          "execution_count": 12
        }
      ]
    },
    {
      "cell_type": "markdown",
      "metadata": {
        "id": "E2darNI6rnaf"
      },
      "source": [
        "## Tensor completion factorization"
      ]
    },
    {
      "cell_type": "markdown",
      "metadata": {
        "id": "4hJRr2Zatd4P"
      },
      "source": [
        "### Problem\r\n",
        "Let us consider a problem of fitting tensor $T$ with the following rank $r$ CP decomposition:\r\n",
        "\r\n",
        "$$\r\n",
        "\\|T - (A, B, C) \\cdot I\\|^2_F \\to \\min_{A \\in \\mathbb{R}^{I \\times r}, B \\in \\mathbb{R}^{J \\times r}, C \\in \\mathbb{R}^{K \\times r}}\r\n",
        "$$\r\n",
        "\r\n",
        "In this manner we would like to calculate any entry of the tensor $T$ as a following sum of $r$ summands:\r\n",
        "\r\n",
        "$$\r\n",
        "T_{ijk} = \\sum\\limits_{p = 1}^r A_{ip} B_{jp} C_{kp}\r\n",
        "$$\r\n",
        "\r\n",
        "Schematic illustration of CP-decomposition:\r\n",
        "\r\n",
        "![](https://raw.githubusercontent.com/MerkulovDaniil/optim/master/assets/Notebooks/cp_tensor.SVG)\r\n",
        "\r\n",
        "This problem can be also formulated in a matrix form\r\n",
        "\r\n",
        "$$\r\n",
        "\\|T_{JK \\times I} - (B \\odot C)A^\\top\\|^2_F \\to \\min_{A \\in \\mathbb{R}^{I \\times r}, B \\in \\mathbb{R}^{J \\times r}, C \\in \\mathbb{R}^{K \\times r}}\r\n",
        "$$"
      ]
    },
    {
      "cell_type": "markdown",
      "metadata": {
        "id": "IQR5wRMduvIj"
      },
      "source": [
        "### Data\r\n",
        "\r\n",
        "#### Random rank R CP tensor\r\n",
        "We will construct tensor $T$ by randomly sampling entries of the factor matrices $A \\in \\mathbb{R}^{I \\times r}, B \\in \\mathbb{R}^{J \\times r}, C \\in \\mathbb{R}^{K \\times r}$ from the standard normal distribution $\\mathcal{N}(0, 1)$. Each column of the factor matrices is normalized to unit length, and the constructed tensor is denoted as\r\n",
        "\r\n",
        "$$\r\n",
        "T = (A, B, C) \\cdot I + \\mu \\dfrac{\\|(A, B, C) \\cdot I\\|_F}{\\|N\\|_F} N,\r\n",
        "$$\r\n",
        "\r\n",
        "where $N$ stands for the 3d Gaussian noise tensor and $\\mu$ is a small signal-to-noise parameter."
      ]
    },
    {
      "cell_type": "markdown",
      "metadata": {
        "id": "tzXTCEk4uy_v"
      },
      "source": [
        "### Alternating Least Squares (ALS) algorithm\r\n",
        "The basic idea of ALS is to fix all the variables, except one and write down optimal solution, then repeat the same for all the variables.\r\n",
        "\r\n",
        "**Input** Tensor $T$, stopping criteria $\\varepsilon$, rank $r$\r\n",
        "\r\n",
        "* Initialize $A^0, B^0, C^0$ as gaussian random matrices with $\\mathcal{N}(0, 1)$ distribution, $\\hat{T}^0 = (A^0,B^0,C^0) \\cdot I$, $k = 0$\r\n",
        "\r\n",
        "* **while** $\\frac{\\|\\hat{T}^k - T\\|_F}{\\|T\\|_F} \\geq \\varepsilon$:\r\n",
        "    * $(B^\\top)^{k+1} = (C^k \\odot A^k)^\\dagger \\hat{T}^k_{KI \\times J}$\r\n",
        "    * $(C^\\top)^{k+1} = (A^k \\odot B^{k+1})^\\dagger \\hat{T}^k_{IJ \\times K}$\r\n",
        "    * $(A^\\top)^{k+1} = (B^{k+1} \\odot C^{k+1})^\\dagger \\hat{T}^k_{JK \\times I}$\r\n",
        "    * $\\hat{T}^{k+1} = (A^{k+1},B^{k+1},C^{k+1}) \\cdot I$\r\n",
        "    * $k = k+1$\r\n",
        "\r\n",
        "**Return** Tensor $\\hat{T}^{k}$ with CP rank $r$ such that $\\frac{\\|\\hat{T}^k - T\\|_F}{\\|T\\|_F} < \\varepsilon$"
      ]
    },
    {
      "cell_type": "code",
      "metadata": {
        "colab": {
          "base_uri": "https://localhost:8080/"
        },
        "id": "NsD61Agcrpae",
        "outputId": "d49db211-be64-4c3b-bddd-94bcba28e588"
      },
      "source": [
        "!pip install -U tensorly\r\n",
        "%pip install wandb -q"
      ],
      "execution_count": 2,
      "outputs": [
        {
          "output_type": "stream",
          "text": [
            "Collecting tensorly\n",
            "\u001b[?25l  Downloading https://files.pythonhosted.org/packages/e0/da/2cf86192ab6ed57b3b1c836753df958d8ccd9495ed2de9828f9ff4867629/tensorly-0.5.1.tar.gz (106kB)\n",
            "\u001b[K     |████████████████████████████████| 112kB 8.6MB/s \n",
            "\u001b[?25hRequirement already satisfied, skipping upgrade: numpy in /usr/local/lib/python3.6/dist-packages (from tensorly) (1.19.5)\n",
            "Requirement already satisfied, skipping upgrade: scipy in /usr/local/lib/python3.6/dist-packages (from tensorly) (1.4.1)\n",
            "Collecting nose\n",
            "\u001b[?25l  Downloading https://files.pythonhosted.org/packages/15/d8/dd071918c040f50fa1cf80da16423af51ff8ce4a0f2399b7bf8de45ac3d9/nose-1.3.7-py3-none-any.whl (154kB)\n",
            "\u001b[K     |████████████████████████████████| 163kB 10.8MB/s \n",
            "\u001b[?25hBuilding wheels for collected packages: tensorly\n",
            "  Building wheel for tensorly (setup.py) ... \u001b[?25l\u001b[?25hdone\n",
            "  Created wheel for tensorly: filename=tensorly-0.5.1-cp36-none-any.whl size=149171 sha256=408840f82c64146ed8d0cd80315d7f6b9c9dcbfc87ff931c6b61f3feb473e58b\n",
            "  Stored in directory: /root/.cache/pip/wheels/88/1e/e7/b9677b2046cc87e17931b4b5781941786d3ee647825ca40ea6\n",
            "Successfully built tensorly\n",
            "Installing collected packages: nose, tensorly\n",
            "Successfully installed nose-1.3.7 tensorly-0.5.1\n",
            "\u001b[K     |████████████████████████████████| 2.0MB 8.7MB/s \n",
            "\u001b[K     |████████████████████████████████| 102kB 9.3MB/s \n",
            "\u001b[K     |████████████████████████████████| 163kB 37.1MB/s \n",
            "\u001b[K     |████████████████████████████████| 133kB 36.0MB/s \n",
            "\u001b[K     |████████████████████████████████| 71kB 8.3MB/s \n",
            "\u001b[?25h  Building wheel for pathtools (setup.py) ... \u001b[?25l\u001b[?25hdone\n",
            "  Building wheel for subprocess32 (setup.py) ... \u001b[?25l\u001b[?25hdone\n"
          ],
          "name": "stdout"
        }
      ]
    },
    {
      "cell_type": "code",
      "metadata": {
        "colab": {
          "base_uri": "https://localhost:8080/",
          "height": 614
        },
        "id": "ABKaHug1u7jX",
        "outputId": "05e26d1d-3ce3-4065-cbf7-533428ef470d"
      },
      "source": [
        "# Ignore excessive warnings\r\n",
        "import logging\r\n",
        "logging.propagate = False \r\n",
        "logging.getLogger().setLevel(logging.ERROR)\r\n",
        "\r\n",
        "# WandB – Import the wandb library\r\n",
        "import wandb\r\n",
        "WANDB_NAME = 'my_als_project'\r\n",
        "wandb.init(project=WANDB_NAME)"
      ],
      "execution_count": 3,
      "outputs": [
        {
          "output_type": "display_data",
          "data": {
            "application/javascript": [
              "\n",
              "        window._wandbApiKey = new Promise((resolve, reject) => {\n",
              "            function loadScript(url) {\n",
              "            return new Promise(function(resolve, reject) {\n",
              "                let newScript = document.createElement(\"script\");\n",
              "                newScript.onerror = reject;\n",
              "                newScript.onload = resolve;\n",
              "                document.body.appendChild(newScript);\n",
              "                newScript.src = url;\n",
              "            });\n",
              "            }\n",
              "            loadScript(\"https://cdn.jsdelivr.net/npm/postmate/build/postmate.min.js\").then(() => {\n",
              "            const iframe = document.createElement('iframe')\n",
              "            iframe.style.cssText = \"width:0;height:0;border:none\"\n",
              "            document.body.appendChild(iframe)\n",
              "            const handshake = new Postmate({\n",
              "                container: iframe,\n",
              "                url: 'https://wandb.ai/authorize'\n",
              "            });\n",
              "            const timeout = setTimeout(() => reject(\"Couldn't auto authenticate\"), 5000)\n",
              "            handshake.then(function(child) {\n",
              "                child.on('authorize', data => {\n",
              "                    clearTimeout(timeout)\n",
              "                    resolve(data)\n",
              "                });\n",
              "            });\n",
              "            })\n",
              "        });\n",
              "    "
            ],
            "text/plain": [
              "<IPython.core.display.Javascript object>"
            ]
          },
          "metadata": {
            "tags": []
          }
        },
        {
          "output_type": "stream",
          "text": [
            "\u001b[34m\u001b[1mwandb\u001b[0m: Appending key for api.wandb.ai to your netrc file: /root/.netrc\n"
          ],
          "name": "stderr"
        },
        {
          "output_type": "display_data",
          "data": {
            "text/html": [
              "\n",
              "                Tracking run with wandb version 0.10.17<br/>\n",
              "                Syncing run <strong style=\"color:#cdcd00\">stellar-totem-1</strong> to <a href=\"https://wandb.ai\" target=\"_blank\">Weights & Biases</a> <a href=\"https://docs.wandb.com/integrations/jupyter.html\" target=\"_blank\">(Documentation)</a>.<br/>\n",
              "                Project page: <a href=\"https://wandb.ai/skoltech_optimization/my_als_project\" target=\"_blank\">https://wandb.ai/skoltech_optimization/my_als_project</a><br/>\n",
              "                Run page: <a href=\"https://wandb.ai/skoltech_optimization/my_als_project/runs/1nlg3o9m\" target=\"_blank\">https://wandb.ai/skoltech_optimization/my_als_project/runs/1nlg3o9m</a><br/>\n",
              "                Run data is saved locally in <code>/content/wandb/run-20210202_123349-1nlg3o9m</code><br/><br/>\n",
              "            "
            ],
            "text/plain": [
              "<IPython.core.display.HTML object>"
            ]
          },
          "metadata": {
            "tags": []
          }
        },
        {
          "output_type": "execute_result",
          "data": {
            "text/plain": [
              "<wandb.sdk.wandb_run.Run at 0x7eff0cff52b0>"
            ],
            "text/html": [
              "<h1>Run(1nlg3o9m)</h1><iframe src=\"https://wandb.ai/skoltech_optimization/my_als_project/runs/1nlg3o9m\" style=\"border:none;width:100%;height:400px\"></iframe>"
            ]
          },
          "metadata": {
            "tags": []
          },
          "execution_count": 3
        }
      ]
    },
    {
      "cell_type": "code",
      "metadata": {
        "id": "Cz5_1MM3vAOO"
      },
      "source": [
        "run_parameters = {}\r\n",
        "run_parameters['WANDB_NAME']            = 'my_als_project'\r\n",
        "run_parameters['WANDB_GROUP']           = 'Debugging runs'\r\n",
        "run_parameters['N_EXPERIMENTS']         =  3\r\n",
        "run_parameters['SEEDS']                 = range(999, 999-run_parameters['N_EXPERIMENTS'], -1)\r\n",
        "run_parameters['DIM']                   =  30\r\n",
        "run_parameters['RANK']                  =  20\r\n",
        "run_parameters['MODE']                  =  'random'\r\n",
        "run_parameters['REGULARIZATION_COEF']   =  0\r\n",
        "run_parameters['NOISE']                 = 1e-5\r\n",
        "run_parameters['N_ITER']                =  500\r\n",
        "run_parameters['LIST_OF_METHODS']       =  ['ALS']"
      ],
      "execution_count": 33,
      "outputs": []
    },
    {
      "cell_type": "code",
      "metadata": {
        "id": "ZHg6yVLEvaOZ"
      },
      "source": [
        "import numpy as np\r\n",
        "import random\r\n",
        "import os\r\n",
        "import wandb\r\n",
        "from tqdm.auto import tqdm\r\n",
        "\r\n",
        "import time\r\n",
        "import sys\r\n",
        "import tensorly\r\n",
        "from scipy.optimize import minimize_scalar\r\n",
        "from sklearn import preprocessing\r\n",
        "\r\n",
        "def cp_tensor_from_matrices(matrices, run_parameters):\r\n",
        "    rank    = run_parameters['RANK']\r\n",
        "    A, B, C = matrices\r\n",
        "    I,J,K   = A.shape[0], B.shape[0], C.shape[0]\r\n",
        "    T       = np.zeros((I, J, K))\r\n",
        "\r\n",
        "    for p in range(rank):\r\n",
        "        T += np.einsum('i,j,k->ijk', A[:, p], B[:, p], C[:, p])\r\n",
        "\r\n",
        "    return T\r\n",
        "\r\n",
        "def RSE(T_hat, T):\r\n",
        "    return np.linalg.norm(T_hat - T)/np.linalg.norm(T)\r\n",
        "\r\n",
        "# Reproducibility\r\n",
        "def set_seed(seed):\r\n",
        "    np.random.seed(seed)\r\n",
        "    random.seed(seed)\r\n",
        "    os.environ['PYTHONHASHSEED'] = str(seed)\r\n",
        "\r\n",
        "def init_wandb_log(run_parameters):\r\n",
        "    WANDB_NAME          = run_parameters['WANDB_NAME']\r\n",
        "    WANDB_GROUP         = run_parameters['WANDB_GROUP']\r\n",
        "    N_EXPERIMENTS       = run_parameters['N_EXPERIMENTS']\r\n",
        "    DIM                 = run_parameters['DIM']\r\n",
        "    RANK                = run_parameters['RANK']\r\n",
        "    MODE                = run_parameters['MODE']\r\n",
        "    REGULARIZATION_COEF = run_parameters['REGULARIZATION_COEF']\r\n",
        "    NOISE               = run_parameters['NOISE']\r\n",
        "    N_ITER              = run_parameters['N_ITER']\r\n",
        "    LIST_OF_METHODS     = run_parameters['LIST_OF_METHODS']\r\n",
        "    SEEDS               = run_parameters['SEEDS']\r\n",
        "    method              = run_parameters['METHOD'] \r\n",
        "    i_seed              = run_parameters['SEED'] \r\n",
        "    i_exp               = run_parameters['I_EXP'] \r\n",
        "\r\n",
        "    wandb.init(project=WANDB_NAME, name=method, group=WANDB_GROUP, reinit=True, notes = f'{i_exp+1}/{N_EXPERIMENTS}')\r\n",
        "    wandb.config.n_iters     = N_ITER\r\n",
        "    wandb.config.seed        = i_seed\r\n",
        "    wandb.config.mode        = MODE\r\n",
        "    wandb.config.tensor_dim  = DIM\r\n",
        "    wandb.config.tensor_rank = RANK\r\n",
        "    wandb.config.noise       = NOISE\r\n",
        "    wandb.config.reg_coef    = REGULARIZATION_COEF\r\n",
        "    wandb.config.n_runs      = N_EXPERIMENTS\r\n",
        "    wandb.config.seed        = i_exp\r\n",
        "\r\n",
        "def df_a(matrices, tensor, run_parameters):\r\n",
        "    rho = run_parameters['REGULARIZATION_COEF']\r\n",
        "    A, B, C = matrices\r\n",
        "    return A@gamma_rho(B, C, run_parameters) - np.einsum('ijk,jr,kr->ir', tensor, B, C)\r\n",
        "\r\n",
        "def df_b(matrices, tensor, run_parameters):\r\n",
        "    rho = run_parameters['REGULARIZATION_COEF']\r\n",
        "    A, B, C = matrices\r\n",
        "    return B@gamma_rho(C, A, run_parameters) - np.einsum('ijk,ir,kr->jr', tensor, A, C)\r\n",
        "\r\n",
        "def df_c(matrices, tensor, run_parameters):\r\n",
        "    rho = run_parameters['REGULARIZATION_COEF']\r\n",
        "    A, B, C = matrices\r\n",
        "    return C@gamma_rho(A, B, run_parameters) - np.einsum('ijk,ir,jr->kr', tensor, A, B)\r\n",
        "\r\n",
        "def gamma_rho(A, B, run_parameters):\r\n",
        "    rho = run_parameters['REGULARIZATION_COEF']\r\n",
        "    return (A.T@A)*(B.T@B) + rho*np.eye(A.shape[1])\r\n",
        "\r\n",
        "def df(matrices, tensor, run_parameters):\r\n",
        "    return np.array( [df_a(matrices, tensor, run_parameters), \r\n",
        "                      df_b(matrices, tensor, run_parameters), \r\n",
        "                      df_c(matrices, tensor, run_parameters)])\r\n",
        "\r\n",
        "def norm_of_the_gradient(matrices, tensor, run_parameters):\r\n",
        "    da, db, dc = df(matrices, tensor, run_parameters)\r\n",
        "    return np.sqrt((da*da).sum() + (db*db).sum() + (dc*dc).sum())\r\n",
        "\r\n",
        "def f(matrices, tensor, run_parameters):\r\n",
        "    return 0.5*((cp_tensor_from_matrices(matrices, run_parameters) - tensor)**2).sum()"
      ],
      "execution_count": 34,
      "outputs": []
    },
    {
      "cell_type": "code",
      "metadata": {
        "id": "qqnTqzF7vogm"
      },
      "source": [
        "def cp_als(matrices, tensor, run_parameters):\r\n",
        "    rank        = run_parameters['RANK']\r\n",
        "    n_iter      = run_parameters['N_ITER']\r\n",
        "    max_time    = 60\r\n",
        "    rho         = run_parameters['REGULARIZATION_COEF']\r\n",
        "    i_exp       = run_parameters['I_EXP']\r\n",
        "    A, B, C     = matrices\r\n",
        "\r\n",
        "    errors = []\r\n",
        "    wtime=[]\r\n",
        "    tensor_hat  = cp_tensor_from_matrices(matrices, run_parameters)\r\n",
        "    errors.append(RSE(tensor_hat, tensor)) \r\n",
        "    wtime.append(0)\r\n",
        "    i = 0\r\n",
        "    wandb.log({ 'Wall time': wtime[-1],\r\n",
        "                'RSE': errors[-1],\r\n",
        "                'Loss': f(matrices, tensor, run_parameters),\r\n",
        "                'Iterations': i,\r\n",
        "                'Norm of the gradient': norm_of_the_gradient(matrices, tensor, run_parameters)})\r\n",
        "    \r\n",
        "    \r\n",
        "    start_time = time.perf_counter()\r\n",
        "    for i in range(n_iter):\r\n",
        "        sys.stdout.write('\\r'+f'{i_exp}🤖 ALS. Error {errors[-1]}')\r\n",
        "        # optimize a\r\n",
        "        input_a  = tensorly.tenalg.khatri_rao([B, C])\r\n",
        "        target_a = tensorly.unfold(tensor, mode=0).T\r\n",
        "        A = (np.linalg.solve(input_a.T @ input_a, input_a.T @ target_a)).T\r\n",
        "\r\n",
        "        # optimize b\r\n",
        "        input_b  = tensorly.tenalg.khatri_rao([A, C])\r\n",
        "        target_b = tensorly.unfold(tensor, mode=1).T\r\n",
        "        B = (np.linalg.solve(input_b.T @ input_b, input_b.T @ target_b)).T\r\n",
        "\r\n",
        "        # optimize c\r\n",
        "        input_c  = tensorly.tenalg.khatri_rao([A, B])\r\n",
        "        target_c = tensorly.unfold(tensor, mode=2).T\r\n",
        "        C = (np.linalg.solve(input_c.T @ input_c, input_c.T @ target_c)).T\r\n",
        "        \r\n",
        "        stop_time   = time.perf_counter()\r\n",
        "        matrices    = (A,B,C)\r\n",
        "        tensor_hat  = cp_tensor_from_matrices(matrices, run_parameters)\r\n",
        "        errors.append(RSE(tensor_hat, tensor))\r\n",
        "        start_time += time.perf_counter() - stop_time\r\n",
        "\r\n",
        "        wtime.append(time.perf_counter()-start_time)\r\n",
        "        wandb.log({ 'Wall time': wtime[-1],\r\n",
        "                    'RSE': errors[-1],\r\n",
        "                    'Loss': f(matrices, tensor, run_parameters),\r\n",
        "                    'Iterations': i,\r\n",
        "                    'Norm of the gradient': norm_of_the_gradient(matrices, tensor, run_parameters)})\r\n",
        "    wandb.config.rse_start   = errors[0]\r\n",
        "    wandb.config.rse_finish = errors[-1]\r\n",
        "    wandb.config.n_iters     = i\r\n",
        "    return np.array(wtime), np.array(errors)"
      ],
      "execution_count": 35,
      "outputs": []
    },
    {
      "cell_type": "code",
      "metadata": {
        "id": "V_U8TkFrvx5b"
      },
      "source": [
        "def generate_3d_tensor(run_parameters):\r\n",
        "    sizes   = run_parameters['DIM']\r\n",
        "    rank    = run_parameters['RANK']\r\n",
        "    mu      = run_parameters['NOISE']\r\n",
        "    mode    = run_parameters['MODE']\r\n",
        "    if type(sizes) == int:\r\n",
        "        I,J,K = sizes, sizes, sizes\r\n",
        "    else:\r\n",
        "        I,J,K = sizes\r\n",
        "    if mode == 'random':\r\n",
        "        A = preprocessing.normalize(np.random.randn(I, rank), norm='l2')\r\n",
        "        B = preprocessing.normalize(np.random.randn(J, rank), norm='l2')\r\n",
        "        C = preprocessing.normalize(np.random.randn(K, rank), norm='l2')\r\n",
        "        N = np.random.randn(I,J,K)\r\n",
        "\r\n",
        "        matrices = (A,B,C)\r\n",
        "        \r\n",
        "        T = cp_tensor_from_matrices(matrices, run_parameters)\r\n",
        "        \r\n",
        "        T += mu*np.linalg.norm(T)/np.linalg.norm(N)*N\r\n",
        "    elif mode == 'ill':\r\n",
        "        A_l = preprocessing.normalize(np.random.randn(I, rank), norm='l2')\r\n",
        "        B_l = preprocessing.normalize(np.random.randn(J, rank), norm='l2')\r\n",
        "        C_l = preprocessing.normalize(np.random.randn(K, rank), norm='l2')\r\n",
        "\r\n",
        "        A_r = preprocessing.normalize(np.random.randn(rank, rank), norm='l2')\r\n",
        "        B_r = preprocessing.normalize(np.random.randn(rank, rank), norm='l2')\r\n",
        "        C_r = preprocessing.normalize(np.random.randn(rank, rank), norm='l2')\r\n",
        "        \r\n",
        "        bad_vec = np.zeros((rank,))\r\n",
        "        left_len = int(rank/2)\r\n",
        "        right_len = len(bad_vec) - left_len\r\n",
        "        bad_vec[:left_len] = np.random.uniform(int(I*J*K/2), I*J*K, left_len)\r\n",
        "        bad_vec[-right_len:] = np.random.uniform(0, 1, right_len)\r\n",
        "        A_d = np.diag(bad_vec)\r\n",
        "\r\n",
        "        bad_vec = np.zeros((rank,))\r\n",
        "        left_len = int(rank/2)\r\n",
        "        right_len = len(bad_vec) - left_len\r\n",
        "        bad_vec[:left_len] = np.random.uniform(int(I*J*K/2), I*J*K, left_len)\r\n",
        "        bad_vec[-right_len:] = np.random.uniform(0, 1, right_len)\r\n",
        "        B_d = np.diag(bad_vec)\r\n",
        "\r\n",
        "        bad_vec = np.zeros((rank,))\r\n",
        "        left_len = int(rank/2)\r\n",
        "        right_len = len(bad_vec) - left_len\r\n",
        "        bad_vec[:left_len] = np.random.uniform(int(I*J*K/2), I*J*K, left_len)\r\n",
        "        bad_vec[-right_len:] = np.random.uniform(0, 1, right_len)\r\n",
        "        C_d = np.diag(bad_vec)\r\n",
        "        \r\n",
        "        A = A_l@A_d@A_r\r\n",
        "        B = B_l@B_d@B_r\r\n",
        "        C = C_l@C_d@C_r\r\n",
        "\r\n",
        "        N = np.random.randn(I,J,K)\r\n",
        "        \r\n",
        "        T = cp_tensor_from_matrices((A,B,C),rank)\r\n",
        "        \r\n",
        "        T += mu*np.linalg.norm(T)/np.linalg.norm(N)*N\r\n",
        "    elif mode == 'ill_spreaded':\r\n",
        "        A_l = preprocessing.normalize(np.random.randn(I, rank), norm='l2')\r\n",
        "        B_l = preprocessing.normalize(np.random.randn(J, rank), norm='l2')\r\n",
        "        C_l = preprocessing.normalize(np.random.randn(K, rank), norm='l2')\r\n",
        "\r\n",
        "        A_r = preprocessing.normalize(np.random.randn(rank, rank), norm='l2')\r\n",
        "        B_r = preprocessing.normalize(np.random.randn(rank, rank), norm='l2')\r\n",
        "        C_r = preprocessing.normalize(np.random.randn(rank, rank), norm='l2')\r\n",
        "        \r\n",
        "        bad_vec = np.zeros((rank,))\r\n",
        "        left_len = int(rank/2)\r\n",
        "        right_len = len(bad_vec) - left_len\r\n",
        "        bad_vec[:left_len] = np.random.uniform(int(I*J*K/2), I*J*K, left_len)\r\n",
        "        bad_vec[-right_len:] = np.random.uniform(0, 1, right_len)\r\n",
        "        A_d = np.diag(bad_vec)\r\n",
        "\r\n",
        "        bad_vec = np.zeros((rank,))\r\n",
        "        left_len = int(rank/2)\r\n",
        "        right_len = len(bad_vec) - left_len\r\n",
        "        bad_vec[:left_len] = np.random.uniform(int(I*J*K/2), I*J*K, left_len)\r\n",
        "        bad_vec[-right_len:] = np.random.uniform(0, 1, right_len)\r\n",
        "        B_d = np.diag(bad_vec)\r\n",
        "\r\n",
        "        bad_vec = np.zeros((rank,))\r\n",
        "        left_len = int(rank/2)\r\n",
        "        right_len = len(bad_vec) - left_len\r\n",
        "        bad_vec[:left_len] = np.random.uniform(int(I*J*K/2), I*J*K, left_len)\r\n",
        "        bad_vec[-right_len:] = np.random.uniform(0, 1, right_len)\r\n",
        "        C_d = np.diag(bad_vec)\r\n",
        "        \r\n",
        "        A = A_l@A_d@A_r\r\n",
        "        B = B_l@B_d@B_r\r\n",
        "        C = C_l@C_d@C_r\r\n",
        "\r\n",
        "        N = np.random.randn(I,J,K)\r\n",
        "        \r\n",
        "        T = cp_tensor_from_matrices((A,B,C),rank)\r\n",
        "        \r\n",
        "        T += mu*np.linalg.norm(T)/np.linalg.norm(N)*N\r\n",
        "    return T"
      ],
      "execution_count": 36,
      "outputs": []
    },
    {
      "cell_type": "code",
      "metadata": {
        "colab": {
          "base_uri": "https://localhost:8080/",
          "height": 1000,
          "referenced_widgets": [
            "016fc764facd4653a3c276d34bf6c2a0",
            "673edb971ecf45e19e9cd977aa6a6767",
            "d5dc73a93a4d4123b87648a7a2e68457",
            "066666271a7b4e329169dae530dec748",
            "4c755c3baa1e4da9892c6dbf042ad973",
            "7ef136efab314f5ea62b655136cdd5f5",
            "11a6b16aab3041ccbb3f30401e1e4dd4",
            "98fe90b114fb4a34a84e861628dcdcd9",
            "1e7931ae1d3f4bedbf54642ee8ca3f5f",
            "77fe7c536fa64d979da65d18ecd96b2c",
            "4c05391a4b8147c5a0fabe6567ba8fae",
            "21cc43f2aa1d4e73978001d7d0a3cabd",
            "41ac7c92d6a645fea79aa2588ce6b40b",
            "0d8671b4820d448d9d0d8946c8cd81c9",
            "830d81fa148f4213acf3d425a7f8ae72",
            "4d3b60b461aa4427a815fa2c248e8fc2",
            "460fe4053f5d457c97f802d6fa6f5534",
            "e8ccb0eab8874c0ab5b7cc38d83c0892",
            "3e05cac7eadb4628a7cc575b7dedfe9b",
            "b183c45774694d7b947037394d76cc52",
            "c824486b248c487ab5f170e261483819",
            "bbabe9d0876c45a9b94e67224a38e419",
            "1eafc85eb45d42288a7c326d957fd5d3",
            "a35dc0925a0d413c99738359d77701b9"
          ]
        },
        "id": "8ZROO821v4ni",
        "outputId": "5ab64178-9e3e-4477-93ee-7105c4384fbb"
      },
      "source": [
        "WANDB_NAME          = run_parameters['WANDB_NAME']\r\n",
        "WANDB_GROUP         = run_parameters['WANDB_GROUP']\r\n",
        "N_EXPERIMENTS       = run_parameters['N_EXPERIMENTS']\r\n",
        "DIM                 = run_parameters['DIM']\r\n",
        "RANK                = run_parameters['RANK']\r\n",
        "MODE                = run_parameters['MODE']\r\n",
        "REGULARIZATION_COEF = run_parameters['REGULARIZATION_COEF']\r\n",
        "NOISE               = run_parameters['NOISE']\r\n",
        "N_ITER              = run_parameters['N_ITER']\r\n",
        "LIST_OF_METHODS     = run_parameters['LIST_OF_METHODS']\r\n",
        "SEEDS               = run_parameters['SEEDS']\r\n",
        "\r\n",
        "for i_exp, i_seed in tqdm(zip(range(N_EXPERIMENTS), SEEDS)):\r\n",
        "    for method in LIST_OF_METHODS:\r\n",
        "        run_parameters['METHOD'] = method\r\n",
        "        run_parameters['SEED']   = i_seed\r\n",
        "        run_parameters['I_EXP']  = i_exp\r\n",
        "\r\n",
        "        # Logging\r\n",
        "        init_wandb_log(run_parameters)\r\n",
        "        \r\n",
        "        # Reproducibility\r\n",
        "        set_seed(i_seed)\r\n",
        "\r\n",
        "        # Generate tensor\r\n",
        "        T = generate_3d_tensor(run_parameters)\r\n",
        "\r\n",
        "        # Initialization\r\n",
        "        a = preprocessing.normalize(np.random.random((T.shape[0], RANK)), norm='l2')\r\n",
        "        b = preprocessing.normalize(np.random.random((T.shape[1], RANK)), norm='l2')\r\n",
        "        c = preprocessing.normalize(np.random.random((T.shape[2], RANK)), norm='l2')\r\n",
        "\r\n",
        "        # Algorithms\r\n",
        "        if   method == 'ALS':\r\n",
        "            wtime, errors         = cp_als([a,b,c], T, run_parameters)\r\n",
        "        elif method == 'AALS':\r\n",
        "            acc_wtime, acc_errors = acc_cp_als([a,b,c], T, run_parameters)"
      ],
      "execution_count": 37,
      "outputs": [
        {
          "output_type": "display_data",
          "data": {
            "application/vnd.jupyter.widget-view+json": {
              "model_id": "016fc764facd4653a3c276d34bf6c2a0",
              "version_minor": 0,
              "version_major": 2
            },
            "text/plain": [
              "HBox(children=(FloatProgress(value=1.0, bar_style='info', max=1.0), HTML(value='')))"
            ]
          },
          "metadata": {
            "tags": []
          }
        },
        {
          "output_type": "display_data",
          "data": {
            "text/html": [
              "\n",
              "                Tracking run with wandb version 0.10.17<br/>\n",
              "                Syncing run <strong style=\"color:#cdcd00\">ALS</strong> to <a href=\"https://wandb.ai\" target=\"_blank\">Weights & Biases</a> <a href=\"https://docs.wandb.com/integrations/jupyter.html\" target=\"_blank\">(Documentation)</a>.<br/>\n",
              "                Project page: <a href=\"https://wandb.ai/skoltech_optimization/my_als_project\" target=\"_blank\">https://wandb.ai/skoltech_optimization/my_als_project</a><br/>\n",
              "                Run page: <a href=\"https://wandb.ai/skoltech_optimization/my_als_project/runs/3vj0pylh\" target=\"_blank\">https://wandb.ai/skoltech_optimization/my_als_project/runs/3vj0pylh</a><br/>\n",
              "                Run data is saved locally in <code>/content/wandb/run-20210202_124609-3vj0pylh</code><br/><br/>\n",
              "            "
            ],
            "text/plain": [
              "<IPython.core.display.HTML object>"
            ]
          },
          "metadata": {
            "tags": []
          }
        },
        {
          "output_type": "stream",
          "text": [
            "0🤖 ALS. Error 9.665880306334412e-06"
          ],
          "name": "stdout"
        },
        {
          "output_type": "display_data",
          "data": {
            "text/html": [
              "Finishing last run (ID:3vj0pylh) before initializing another..."
            ],
            "text/plain": [
              "<IPython.core.display.HTML object>"
            ]
          },
          "metadata": {
            "tags": []
          }
        },
        {
          "output_type": "display_data",
          "data": {
            "text/html": [
              "<br/>Waiting for W&B process to finish, PID 687<br/>Program ended successfully."
            ],
            "text/plain": [
              "<IPython.core.display.HTML object>"
            ]
          },
          "metadata": {
            "tags": []
          }
        },
        {
          "output_type": "display_data",
          "data": {
            "application/vnd.jupyter.widget-view+json": {
              "model_id": "1e7931ae1d3f4bedbf54642ee8ca3f5f",
              "version_minor": 0,
              "version_major": 2
            },
            "text/plain": [
              "VBox(children=(Label(value=' 0.00MB of 0.00MB uploaded (0.00MB deduped)\\r'), FloatProgress(value=1.0, max=1.0)…"
            ]
          },
          "metadata": {
            "tags": []
          }
        },
        {
          "output_type": "display_data",
          "data": {
            "text/html": [
              "Find user logs for this run at: <code>/content/wandb/run-20210202_124609-3vj0pylh/logs/debug.log</code>"
            ],
            "text/plain": [
              "<IPython.core.display.HTML object>"
            ]
          },
          "metadata": {
            "tags": []
          }
        },
        {
          "output_type": "display_data",
          "data": {
            "text/html": [
              "Find internal logs for this run at: <code>/content/wandb/run-20210202_124609-3vj0pylh/logs/debug-internal.log</code>"
            ],
            "text/plain": [
              "<IPython.core.display.HTML object>"
            ]
          },
          "metadata": {
            "tags": []
          }
        },
        {
          "output_type": "display_data",
          "data": {
            "text/html": [
              "<h3>Run summary:</h3><br/><style>\n",
              "    table.wandb td:nth-child(1) { padding: 0 10px; text-align: right }\n",
              "    </style><table class=\"wandb\">\n",
              "<tr><td>Wall time</td><td>7.70947</td></tr><tr><td>RSE</td><td>1e-05</td></tr><tr><td>Loss</td><td>0.0</td></tr><tr><td>Iterations</td><td>499</td></tr><tr><td>Norm of the gradient</td><td>0.0</td></tr><tr><td>_step</td><td>500</td></tr><tr><td>_runtime</td><td>12</td></tr><tr><td>_timestamp</td><td>1612269981</td></tr></table>"
            ],
            "text/plain": [
              "<IPython.core.display.HTML object>"
            ]
          },
          "metadata": {
            "tags": []
          }
        },
        {
          "output_type": "display_data",
          "data": {
            "text/html": [
              "<h3>Run history:</h3><br/><style>\n",
              "    table.wandb td:nth-child(1) { padding: 0 10px; text-align: right }\n",
              "    </style><table class=\"wandb\">\n",
              "<tr><td>Wall time</td><td>▁▁▁▂▂▂▂▂▃▃▃▃▃▃▄▄▄▄▄▅▅▅▅▅▅▆▆▆▆▆▆▇▇▇▇▇████</td></tr><tr><td>RSE</td><td>█▁▁▁▁▁▁▁▁▁▁▁▁▁▁▁▁▁▁▁▁▁▁▁▁▁▁▁▁▁▁▁▁▁▁▁▁▁▁▁</td></tr><tr><td>Loss</td><td>█▁▁▁▁▁▁▁▁▁▁▁▁▁▁▁▁▁▁▁▁▁▁▁▁▁▁▁▁▁▁▁▁▁▁▁▁▁▁▁</td></tr><tr><td>Iterations</td><td>▁▁▁▂▂▂▂▂▂▃▃▃▃▃▄▄▄▄▄▄▅▅▅▅▅▅▆▆▆▆▆▇▇▇▇▇▇███</td></tr><tr><td>Norm of the gradient</td><td>█▁▁▁▁▁▁▁▁▁▁▁▁▁▁▁▁▁▁▁▁▁▁▁▁▁▁▁▁▁▁▁▁▁▁▁▁▁▁▁</td></tr><tr><td>_step</td><td>▁▁▁▂▂▂▂▂▂▃▃▃▃▃▄▄▄▄▄▄▅▅▅▅▅▅▆▆▆▆▆▇▇▇▇▇▇███</td></tr><tr><td>_runtime</td><td>▁▁▁▂▂▂▂▃▃▃▃▃▃▃▃▄▄▄▄▅▅▅▅▆▆▆▆▆▆▆▆▆▇▇▇▇████</td></tr><tr><td>_timestamp</td><td>▁▁▁▂▂▂▂▃▃▃▃▃▃▃▃▄▄▄▄▅▅▅▅▆▆▆▆▆▆▆▆▆▇▇▇▇████</td></tr></table><br/>"
            ],
            "text/plain": [
              "<IPython.core.display.HTML object>"
            ]
          },
          "metadata": {
            "tags": []
          }
        },
        {
          "output_type": "display_data",
          "data": {
            "text/html": [
              "Synced 5 W&B file(s), 0 media file(s), 0 artifact file(s) and 0 other file(s)"
            ],
            "text/plain": [
              "<IPython.core.display.HTML object>"
            ]
          },
          "metadata": {
            "tags": []
          }
        },
        {
          "output_type": "display_data",
          "data": {
            "text/html": [
              "\n",
              "                    <br/>Synced <strong style=\"color:#cdcd00\">ALS</strong>: <a href=\"https://wandb.ai/skoltech_optimization/my_als_project/runs/3vj0pylh\" target=\"_blank\">https://wandb.ai/skoltech_optimization/my_als_project/runs/3vj0pylh</a><br/>\n",
              "                "
            ],
            "text/plain": [
              "<IPython.core.display.HTML object>"
            ]
          },
          "metadata": {
            "tags": []
          }
        },
        {
          "output_type": "display_data",
          "data": {
            "text/html": [
              "...Successfully finished last run (ID:3vj0pylh). Initializing new run:<br/><br/>"
            ],
            "text/plain": [
              "<IPython.core.display.HTML object>"
            ]
          },
          "metadata": {
            "tags": []
          }
        },
        {
          "output_type": "display_data",
          "data": {
            "text/html": [
              "\n",
              "                Tracking run with wandb version 0.10.17<br/>\n",
              "                Syncing run <strong style=\"color:#cdcd00\">ALS</strong> to <a href=\"https://wandb.ai\" target=\"_blank\">Weights & Biases</a> <a href=\"https://docs.wandb.com/integrations/jupyter.html\" target=\"_blank\">(Documentation)</a>.<br/>\n",
              "                Project page: <a href=\"https://wandb.ai/skoltech_optimization/my_als_project\" target=\"_blank\">https://wandb.ai/skoltech_optimization/my_als_project</a><br/>\n",
              "                Run page: <a href=\"https://wandb.ai/skoltech_optimization/my_als_project/runs/md95nj5f\" target=\"_blank\">https://wandb.ai/skoltech_optimization/my_als_project/runs/md95nj5f</a><br/>\n",
              "                Run data is saved locally in <code>/content/wandb/run-20210202_124621-md95nj5f</code><br/><br/>\n",
              "            "
            ],
            "text/plain": [
              "<IPython.core.display.HTML object>"
            ]
          },
          "metadata": {
            "tags": []
          }
        },
        {
          "output_type": "stream",
          "text": [
            "1🤖 ALS. Error 9.667522361413025e-06"
          ],
          "name": "stdout"
        },
        {
          "output_type": "display_data",
          "data": {
            "text/html": [
              "Finishing last run (ID:md95nj5f) before initializing another..."
            ],
            "text/plain": [
              "<IPython.core.display.HTML object>"
            ]
          },
          "metadata": {
            "tags": []
          }
        },
        {
          "output_type": "display_data",
          "data": {
            "text/html": [
              "<br/>Waiting for W&B process to finish, PID 719<br/>Program ended successfully."
            ],
            "text/plain": [
              "<IPython.core.display.HTML object>"
            ]
          },
          "metadata": {
            "tags": []
          }
        },
        {
          "output_type": "display_data",
          "data": {
            "application/vnd.jupyter.widget-view+json": {
              "model_id": "460fe4053f5d457c97f802d6fa6f5534",
              "version_minor": 0,
              "version_major": 2
            },
            "text/plain": [
              "VBox(children=(Label(value=' 0.00MB of 0.00MB uploaded (0.00MB deduped)\\r'), FloatProgress(value=1.0, max=1.0)…"
            ]
          },
          "metadata": {
            "tags": []
          }
        },
        {
          "output_type": "display_data",
          "data": {
            "text/html": [
              "Find user logs for this run at: <code>/content/wandb/run-20210202_124621-md95nj5f/logs/debug.log</code>"
            ],
            "text/plain": [
              "<IPython.core.display.HTML object>"
            ]
          },
          "metadata": {
            "tags": []
          }
        },
        {
          "output_type": "display_data",
          "data": {
            "text/html": [
              "Find internal logs for this run at: <code>/content/wandb/run-20210202_124621-md95nj5f/logs/debug-internal.log</code>"
            ],
            "text/plain": [
              "<IPython.core.display.HTML object>"
            ]
          },
          "metadata": {
            "tags": []
          }
        },
        {
          "output_type": "display_data",
          "data": {
            "text/html": [
              "<h3>Run summary:</h3><br/><style>\n",
              "    table.wandb td:nth-child(1) { padding: 0 10px; text-align: right }\n",
              "    </style><table class=\"wandb\">\n",
              "<tr><td>Wall time</td><td>7.65054</td></tr><tr><td>RSE</td><td>1e-05</td></tr><tr><td>Loss</td><td>0.0</td></tr><tr><td>Iterations</td><td>499</td></tr><tr><td>Norm of the gradient</td><td>0.0</td></tr><tr><td>_step</td><td>500</td></tr><tr><td>_runtime</td><td>13</td></tr><tr><td>_timestamp</td><td>1612269998</td></tr></table>"
            ],
            "text/plain": [
              "<IPython.core.display.HTML object>"
            ]
          },
          "metadata": {
            "tags": []
          }
        },
        {
          "output_type": "display_data",
          "data": {
            "text/html": [
              "<h3>Run history:</h3><br/><style>\n",
              "    table.wandb td:nth-child(1) { padding: 0 10px; text-align: right }\n",
              "    </style><table class=\"wandb\">\n",
              "<tr><td>Wall time</td><td>▁▁▁▂▂▂▂▂▃▃▃▃▃▃▄▄▄▄▄▄▅▅▅▅▅▆▆▆▆▆▆▇▇▇▇▇▇███</td></tr><tr><td>RSE</td><td>█▁▁▁▁▁▁▁▁▁▁▁▁▁▁▁▁▁▁▁▁▁▁▁▁▁▁▁▁▁▁▁▁▁▁▁▁▁▁▁</td></tr><tr><td>Loss</td><td>█▁▁▁▁▁▁▁▁▁▁▁▁▁▁▁▁▁▁▁▁▁▁▁▁▁▁▁▁▁▁▁▁▁▁▁▁▁▁▁</td></tr><tr><td>Iterations</td><td>▁▁▁▂▂▂▂▂▂▃▃▃▃▃▄▄▄▄▄▄▅▅▅▅▅▅▆▆▆▆▆▇▇▇▇▇▇███</td></tr><tr><td>Norm of the gradient</td><td>█▁▁▁▁▁▁▁▁▁▁▁▁▁▁▁▁▁▁▁▁▁▁▁▁▁▁▁▁▁▁▁▁▁▁▁▁▁▁▁</td></tr><tr><td>_step</td><td>▁▁▁▂▂▂▂▂▂▃▃▃▃▃▄▄▄▄▄▄▅▅▅▅▅▅▆▆▆▆▆▇▇▇▇▇▇███</td></tr><tr><td>_runtime</td><td>▁▂▂▂▂▂▂▂▂▃▃▃▃▄▄▄▄▅▅▅▅▅▅▅▅▅▆▆▆▆▇▇▇▇▇▇▇▇▇█</td></tr><tr><td>_timestamp</td><td>▁▂▂▂▂▂▂▂▂▃▃▃▃▄▄▄▄▅▅▅▅▅▅▅▅▅▆▆▆▆▇▇▇▇▇▇▇▇▇█</td></tr></table><br/>"
            ],
            "text/plain": [
              "<IPython.core.display.HTML object>"
            ]
          },
          "metadata": {
            "tags": []
          }
        },
        {
          "output_type": "display_data",
          "data": {
            "text/html": [
              "Synced 5 W&B file(s), 0 media file(s), 0 artifact file(s) and 0 other file(s)"
            ],
            "text/plain": [
              "<IPython.core.display.HTML object>"
            ]
          },
          "metadata": {
            "tags": []
          }
        },
        {
          "output_type": "display_data",
          "data": {
            "text/html": [
              "\n",
              "                    <br/>Synced <strong style=\"color:#cdcd00\">ALS</strong>: <a href=\"https://wandb.ai/skoltech_optimization/my_als_project/runs/md95nj5f\" target=\"_blank\">https://wandb.ai/skoltech_optimization/my_als_project/runs/md95nj5f</a><br/>\n",
              "                "
            ],
            "text/plain": [
              "<IPython.core.display.HTML object>"
            ]
          },
          "metadata": {
            "tags": []
          }
        },
        {
          "output_type": "display_data",
          "data": {
            "text/html": [
              "...Successfully finished last run (ID:md95nj5f). Initializing new run:<br/><br/>"
            ],
            "text/plain": [
              "<IPython.core.display.HTML object>"
            ]
          },
          "metadata": {
            "tags": []
          }
        },
        {
          "output_type": "display_data",
          "data": {
            "text/html": [
              "\n",
              "                Tracking run with wandb version 0.10.17<br/>\n",
              "                Syncing run <strong style=\"color:#cdcd00\">ALS</strong> to <a href=\"https://wandb.ai\" target=\"_blank\">Weights & Biases</a> <a href=\"https://docs.wandb.com/integrations/jupyter.html\" target=\"_blank\">(Documentation)</a>.<br/>\n",
              "                Project page: <a href=\"https://wandb.ai/skoltech_optimization/my_als_project\" target=\"_blank\">https://wandb.ai/skoltech_optimization/my_als_project</a><br/>\n",
              "                Run page: <a href=\"https://wandb.ai/skoltech_optimization/my_als_project/runs/38uok97e\" target=\"_blank\">https://wandb.ai/skoltech_optimization/my_als_project/runs/38uok97e</a><br/>\n",
              "                Run data is saved locally in <code>/content/wandb/run-20210202_124638-38uok97e</code><br/><br/>\n",
              "            "
            ],
            "text/plain": [
              "<IPython.core.display.HTML object>"
            ]
          },
          "metadata": {
            "tags": []
          }
        },
        {
          "output_type": "stream",
          "text": [
            "2🤖 ALS. Error 0.18165895843510346\n"
          ],
          "name": "stdout"
        }
      ]
    },
    {
      "cell_type": "code",
      "metadata": {
        "id": "aMbF21l8x1xW"
      },
      "source": [
        ""
      ],
      "execution_count": null,
      "outputs": []
    }
  ]
}